{
  "nbformat": 4,
  "nbformat_minor": 0,
  "metadata": {
    "colab": {
      "provenance": [],
      "authorship_tag": "ABX9TyMatU4sFg6vkaDtovaELTg5",
      "include_colab_link": true
    },
    "kernelspec": {
      "name": "python3",
      "display_name": "Python 3"
    },
    "language_info": {
      "name": "python"
    },
    "widgets": {
      "application/vnd.jupyter.widget-state+json": {
        "9dd312e99f474e2aa289642dd869a663": {
          "model_module": "@jupyter-widgets/controls",
          "model_name": "HBoxModel",
          "model_module_version": "1.5.0",
          "state": {
            "_dom_classes": [],
            "_model_module": "@jupyter-widgets/controls",
            "_model_module_version": "1.5.0",
            "_model_name": "HBoxModel",
            "_view_count": null,
            "_view_module": "@jupyter-widgets/controls",
            "_view_module_version": "1.5.0",
            "_view_name": "HBoxView",
            "box_style": "",
            "children": [
              "IPY_MODEL_0a558aeffdc9421d8d645fc88ee62388",
              "IPY_MODEL_df3b275ef615470c8528c9dbd268a236",
              "IPY_MODEL_563cc78364c444f3ab06b7d307b9dd81"
            ],
            "layout": "IPY_MODEL_4ddce4d0cff747d19c0b0550075a54c0"
          }
        },
        "0a558aeffdc9421d8d645fc88ee62388": {
          "model_module": "@jupyter-widgets/controls",
          "model_name": "HTMLModel",
          "model_module_version": "1.5.0",
          "state": {
            "_dom_classes": [],
            "_model_module": "@jupyter-widgets/controls",
            "_model_module_version": "1.5.0",
            "_model_name": "HTMLModel",
            "_view_count": null,
            "_view_module": "@jupyter-widgets/controls",
            "_view_module_version": "1.5.0",
            "_view_name": "HTMLView",
            "description": "",
            "description_tooltip": null,
            "layout": "IPY_MODEL_1f155565b3a2486eb2a7da9e64d39851",
            "placeholder": "​",
            "style": "IPY_MODEL_beee73902b2540428125d208b4fda295",
            "value": "Downloading: 100%"
          }
        },
        "df3b275ef615470c8528c9dbd268a236": {
          "model_module": "@jupyter-widgets/controls",
          "model_name": "FloatProgressModel",
          "model_module_version": "1.5.0",
          "state": {
            "_dom_classes": [],
            "_model_module": "@jupyter-widgets/controls",
            "_model_module_version": "1.5.0",
            "_model_name": "FloatProgressModel",
            "_view_count": null,
            "_view_module": "@jupyter-widgets/controls",
            "_view_module_version": "1.5.0",
            "_view_name": "ProgressView",
            "bar_style": "success",
            "description": "",
            "description_tooltip": null,
            "layout": "IPY_MODEL_055a6423efa742ea87c5a000d0d4c699",
            "max": 1115590446,
            "min": 0,
            "orientation": "horizontal",
            "style": "IPY_MODEL_53376625c4dc4a68ac580b52d9d158f2",
            "value": 1115590446
          }
        },
        "563cc78364c444f3ab06b7d307b9dd81": {
          "model_module": "@jupyter-widgets/controls",
          "model_name": "HTMLModel",
          "model_module_version": "1.5.0",
          "state": {
            "_dom_classes": [],
            "_model_module": "@jupyter-widgets/controls",
            "_model_module_version": "1.5.0",
            "_model_name": "HTMLModel",
            "_view_count": null,
            "_view_module": "@jupyter-widgets/controls",
            "_view_module_version": "1.5.0",
            "_view_name": "HTMLView",
            "description": "",
            "description_tooltip": null,
            "layout": "IPY_MODEL_69d7fefd31dd40c497011313dbcf6682",
            "placeholder": "​",
            "style": "IPY_MODEL_dfb8588c0dff4b46b58873c6e023f0e5",
            "value": " 1.12G/1.12G [00:27&lt;00:00, 43.2MB/s]"
          }
        },
        "4ddce4d0cff747d19c0b0550075a54c0": {
          "model_module": "@jupyter-widgets/base",
          "model_name": "LayoutModel",
          "model_module_version": "1.2.0",
          "state": {
            "_model_module": "@jupyter-widgets/base",
            "_model_module_version": "1.2.0",
            "_model_name": "LayoutModel",
            "_view_count": null,
            "_view_module": "@jupyter-widgets/base",
            "_view_module_version": "1.2.0",
            "_view_name": "LayoutView",
            "align_content": null,
            "align_items": null,
            "align_self": null,
            "border": null,
            "bottom": null,
            "display": null,
            "flex": null,
            "flex_flow": null,
            "grid_area": null,
            "grid_auto_columns": null,
            "grid_auto_flow": null,
            "grid_auto_rows": null,
            "grid_column": null,
            "grid_gap": null,
            "grid_row": null,
            "grid_template_areas": null,
            "grid_template_columns": null,
            "grid_template_rows": null,
            "height": null,
            "justify_content": null,
            "justify_items": null,
            "left": null,
            "margin": null,
            "max_height": null,
            "max_width": null,
            "min_height": null,
            "min_width": null,
            "object_fit": null,
            "object_position": null,
            "order": null,
            "overflow": null,
            "overflow_x": null,
            "overflow_y": null,
            "padding": null,
            "right": null,
            "top": null,
            "visibility": null,
            "width": null
          }
        },
        "1f155565b3a2486eb2a7da9e64d39851": {
          "model_module": "@jupyter-widgets/base",
          "model_name": "LayoutModel",
          "model_module_version": "1.2.0",
          "state": {
            "_model_module": "@jupyter-widgets/base",
            "_model_module_version": "1.2.0",
            "_model_name": "LayoutModel",
            "_view_count": null,
            "_view_module": "@jupyter-widgets/base",
            "_view_module_version": "1.2.0",
            "_view_name": "LayoutView",
            "align_content": null,
            "align_items": null,
            "align_self": null,
            "border": null,
            "bottom": null,
            "display": null,
            "flex": null,
            "flex_flow": null,
            "grid_area": null,
            "grid_auto_columns": null,
            "grid_auto_flow": null,
            "grid_auto_rows": null,
            "grid_column": null,
            "grid_gap": null,
            "grid_row": null,
            "grid_template_areas": null,
            "grid_template_columns": null,
            "grid_template_rows": null,
            "height": null,
            "justify_content": null,
            "justify_items": null,
            "left": null,
            "margin": null,
            "max_height": null,
            "max_width": null,
            "min_height": null,
            "min_width": null,
            "object_fit": null,
            "object_position": null,
            "order": null,
            "overflow": null,
            "overflow_x": null,
            "overflow_y": null,
            "padding": null,
            "right": null,
            "top": null,
            "visibility": null,
            "width": null
          }
        },
        "beee73902b2540428125d208b4fda295": {
          "model_module": "@jupyter-widgets/controls",
          "model_name": "DescriptionStyleModel",
          "model_module_version": "1.5.0",
          "state": {
            "_model_module": "@jupyter-widgets/controls",
            "_model_module_version": "1.5.0",
            "_model_name": "DescriptionStyleModel",
            "_view_count": null,
            "_view_module": "@jupyter-widgets/base",
            "_view_module_version": "1.2.0",
            "_view_name": "StyleView",
            "description_width": ""
          }
        },
        "055a6423efa742ea87c5a000d0d4c699": {
          "model_module": "@jupyter-widgets/base",
          "model_name": "LayoutModel",
          "model_module_version": "1.2.0",
          "state": {
            "_model_module": "@jupyter-widgets/base",
            "_model_module_version": "1.2.0",
            "_model_name": "LayoutModel",
            "_view_count": null,
            "_view_module": "@jupyter-widgets/base",
            "_view_module_version": "1.2.0",
            "_view_name": "LayoutView",
            "align_content": null,
            "align_items": null,
            "align_self": null,
            "border": null,
            "bottom": null,
            "display": null,
            "flex": null,
            "flex_flow": null,
            "grid_area": null,
            "grid_auto_columns": null,
            "grid_auto_flow": null,
            "grid_auto_rows": null,
            "grid_column": null,
            "grid_gap": null,
            "grid_row": null,
            "grid_template_areas": null,
            "grid_template_columns": null,
            "grid_template_rows": null,
            "height": null,
            "justify_content": null,
            "justify_items": null,
            "left": null,
            "margin": null,
            "max_height": null,
            "max_width": null,
            "min_height": null,
            "min_width": null,
            "object_fit": null,
            "object_position": null,
            "order": null,
            "overflow": null,
            "overflow_x": null,
            "overflow_y": null,
            "padding": null,
            "right": null,
            "top": null,
            "visibility": null,
            "width": null
          }
        },
        "53376625c4dc4a68ac580b52d9d158f2": {
          "model_module": "@jupyter-widgets/controls",
          "model_name": "ProgressStyleModel",
          "model_module_version": "1.5.0",
          "state": {
            "_model_module": "@jupyter-widgets/controls",
            "_model_module_version": "1.5.0",
            "_model_name": "ProgressStyleModel",
            "_view_count": null,
            "_view_module": "@jupyter-widgets/base",
            "_view_module_version": "1.2.0",
            "_view_name": "StyleView",
            "bar_color": null,
            "description_width": ""
          }
        },
        "69d7fefd31dd40c497011313dbcf6682": {
          "model_module": "@jupyter-widgets/base",
          "model_name": "LayoutModel",
          "model_module_version": "1.2.0",
          "state": {
            "_model_module": "@jupyter-widgets/base",
            "_model_module_version": "1.2.0",
            "_model_name": "LayoutModel",
            "_view_count": null,
            "_view_module": "@jupyter-widgets/base",
            "_view_module_version": "1.2.0",
            "_view_name": "LayoutView",
            "align_content": null,
            "align_items": null,
            "align_self": null,
            "border": null,
            "bottom": null,
            "display": null,
            "flex": null,
            "flex_flow": null,
            "grid_area": null,
            "grid_auto_columns": null,
            "grid_auto_flow": null,
            "grid_auto_rows": null,
            "grid_column": null,
            "grid_gap": null,
            "grid_row": null,
            "grid_template_areas": null,
            "grid_template_columns": null,
            "grid_template_rows": null,
            "height": null,
            "justify_content": null,
            "justify_items": null,
            "left": null,
            "margin": null,
            "max_height": null,
            "max_width": null,
            "min_height": null,
            "min_width": null,
            "object_fit": null,
            "object_position": null,
            "order": null,
            "overflow": null,
            "overflow_x": null,
            "overflow_y": null,
            "padding": null,
            "right": null,
            "top": null,
            "visibility": null,
            "width": null
          }
        },
        "dfb8588c0dff4b46b58873c6e023f0e5": {
          "model_module": "@jupyter-widgets/controls",
          "model_name": "DescriptionStyleModel",
          "model_module_version": "1.5.0",
          "state": {
            "_model_module": "@jupyter-widgets/controls",
            "_model_module_version": "1.5.0",
            "_model_name": "DescriptionStyleModel",
            "_view_count": null,
            "_view_module": "@jupyter-widgets/base",
            "_view_module_version": "1.2.0",
            "_view_name": "StyleView",
            "description_width": ""
          }
        }
      }
    }
  },
  "cells": [
    {
      "cell_type": "markdown",
      "metadata": {
        "id": "view-in-github",
        "colab_type": "text"
      },
      "source": [
        "<a href=\"https://colab.research.google.com/github/ThuyHaLE/Problem3_Natural-Language-Processing/blob/main/NLU_Sentence_Classifier(Dependency_parsing_Trankit).ipynb\" target=\"_parent\"><img src=\"https://colab.research.google.com/assets/colab-badge.svg\" alt=\"Open In Colab\"/></a>"
      ]
    },
    {
      "cell_type": "markdown",
      "source": [
        "**Natural Language Understanding (NLU)**\n",
        "\n",
        "- **Core functionalities**:\n",
        "  - ***Extracting Meaning***: aims to understand the intent, sentiment, and overall message conveyed in a sentence or passage.\n",
        "  - ***Analyzing Context***: considers the context surrounding the language. For instance, \"the bank is closed\" can have different meanings depending on the context (financial institution vs. riverbank).\n",
        "  - ***Disambiguation***: Language can be ambiguous at times. NLU tackles situations where a word or phrase can have multiple meanings.\n",
        "\n",
        "- **How NLU works**:\n",
        "  - ***Breaking it down***: break down the input text into smaller components like words, phrases, and sentences.\n",
        "  - ***Understanding Relationships***: analyzes the relationships between these components. This involves part-of-speech tagging (identifying nouns, verbs, etc.) and recognizing grammatical structures.\n",
        "  - ***Deriving Meaning***: Based on the analysis, infer the meaning of the text. This might involve considering the context in which the language is used.\n",
        "\n",
        "-  **Common NLU tasks**:\n",
        "  - ***Text Classification***: automatically categorizing a text into predefined categories. Examples: sentiment analysis (positive, negative, neutral), spam filtering (spam, not spam), or topic labeling (sports, politics, entertainment).\n",
        "  - ***Named Entity Recognition (NER)***: identifies and classifies named entities within a text, such as people, organizations, locations, dates, monetary values, etc for information extraction or question answering.\n",
        "  - ***Text Summarization***: generate a concise summary of a long text while preserving the key points and meaning. Summarization can be beneficial for quickly grasping the main idea of an article or document.\n",
        "  - ***Machine Translation***: plays a vital role in machine translation, where the system understands the source language (e.g., English) and translates it accurately into the target language (e.g., Spanish) while preserving the meaning and intent.\n",
        "  - ***Question Answering***: answer questions for information retrieval from a knowledge base or open-ended, more challenging questions that require reasoning and inference.\n",
        "  - ***Part-of-Speech Tagging (POS)***: assigns grammatical labels (e.g., noun, verb, adjective) to each word in a sentence. POS tagging is a fundamental step in NLU, providing valuable information about the sentence structure that can be used for various downstream tasks.\n",
        "  - ***Sentiment Analysis***: goes beyond simple classification (positive, negative) and aims to understand a text's emotional tone or opinion. This can involve analyzing the sentiment of product reviews, social media posts, or customer feedback data.\n",
        "  - ***Dialogue Management***: in chatbots or virtual assistants. It allows the system to understand the user's intent within a conversation, track the conversation flow, and generate appropriate responses.\n",
        "  - ***Textual Entailment***: determines whether the meaning of one sentence (hypothesis) is entailed by the definition of another sentence (text). It requires the NLU system to understand the logical relationships between sentences.\n",
        "  - ***Natural Language Inference***: involves reasoning about the relationship between two sentences (Similar to textual entailment). The system determines if the second sentence (hypothesis) can be inferred from the first sentence (premise)."
      ],
      "metadata": {
        "id": "jLq2qAPFIwiv"
      }
    },
    {
      "cell_type": "markdown",
      "source": [
        "Parsing: the task of creating a parse tree from a given sentence <Br>\n",
        "Sentence Classifier (simple sentences, compound sentences, complex sentences, passive sentences) using Dependency parsing (Trankit)"
      ],
      "metadata": {
        "id": "DFkNGlY-VhyQ"
      }
    },
    {
      "cell_type": "code",
      "source": [
        "#Install some packages\n",
        "!pip install --quiet \"deplacy\" \"trankit\" \"transformers\""
      ],
      "metadata": {
        "id": "b7NhOLO54OoW"
      },
      "execution_count": null,
      "outputs": []
    },
    {
      "cell_type": "code",
      "source": [
        "#Import some libraries\n",
        "import deplacy #Vizualization\n",
        "import trankit #Dependency parsing"
      ],
      "metadata": {
        "id": "9aRqj72gWOL-"
      },
      "execution_count": null,
      "outputs": []
    },
    {
      "cell_type": "code",
      "source": [
        "#Initializing a pipeline for english\n",
        "nlp_parser = trankit.Pipeline(lang=\"english\", gpu=False)"
      ],
      "metadata": {
        "id": "UtBGQpBy4OtE",
        "colab": {
          "base_uri": "https://localhost:8080/",
          "height": 188,
          "referenced_widgets": [
            "9dd312e99f474e2aa289642dd869a663",
            "0a558aeffdc9421d8d645fc88ee62388",
            "df3b275ef615470c8528c9dbd268a236",
            "563cc78364c444f3ab06b7d307b9dd81",
            "4ddce4d0cff747d19c0b0550075a54c0",
            "1f155565b3a2486eb2a7da9e64d39851",
            "beee73902b2540428125d208b4fda295",
            "055a6423efa742ea87c5a000d0d4c699",
            "53376625c4dc4a68ac580b52d9d158f2",
            "69d7fefd31dd40c497011313dbcf6682",
            "dfb8588c0dff4b46b58873c6e023f0e5"
          ]
        },
        "outputId": "0cfe6ca0-72ce-4923-8ac4-63a1812003b5"
      },
      "execution_count": null,
      "outputs": [
        {
          "output_type": "stream",
          "name": "stdout",
          "text": [
            "Loading pretrained XLM-Roberta, this may take a while...\n"
          ]
        },
        {
          "output_type": "display_data",
          "data": {
            "text/plain": [
              "Downloading:   0%|          | 0.00/1.12G [00:00<?, ?B/s]"
            ],
            "application/vnd.jupyter.widget-view+json": {
              "version_major": 2,
              "version_minor": 0,
              "model_id": "9dd312e99f474e2aa289642dd869a663"
            }
          },
          "metadata": {}
        },
        {
          "output_type": "stream",
          "name": "stdout",
          "text": [
            "Loading tokenizer for english\n",
            "Loading tagger for english\n",
            "Loading lemmatizer for english\n",
            "Loading NER tagger for english\n",
            "==================================================\n",
            "Active language: english\n",
            "==================================================\n"
          ]
        }
      ]
    },
    {
      "cell_type": "code",
      "source": [
        "#Simple Sentence\n",
        "simple_sentences = ['Learning English is important nowadays.',\n",
        "                    'Learning English and computer using are important nowadays.',\n",
        "                    'I play some video games and learn English on my computer.',\n",
        "                    'My sister and I play some video games and learn English on our computer.']\n",
        "#Parsing for each sentence in list\n",
        "for sentence in simple_sentences:\n",
        "    deplacy.serve(nlp_parser(sentence), port=None)"
      ],
      "metadata": {
        "id": "ghL13Kmi4Ov1",
        "colab": {
          "base_uri": "https://localhost:8080/",
          "height": 1000
        },
        "outputId": "7812118a-a9e0-4dd9-dfc3-197651edf812"
      },
      "execution_count": null,
      "outputs": [
        {
          "output_type": "display_data",
          "data": {
            "text/plain": [
              "<IPython.lib.display.IFrame at 0x7c70e8bccc70>"
            ],
            "text/html": [
              "\n",
              "        <iframe\n",
              "            width=\"100%\"\n",
              "            height=\"400\"\n",
              "            src=\"https://koichiyasuoka.github.io/deplacy/deplacy/editor.html#1%09Learning%09learn%09VERB%09VBG%09VerbForm%3DGer%094%09csubj%09_%09start_char%3D0%7Cend_char%3D8%0A2%09English%09English%09PROPN%09NNP%09Number%3DSing%091%09obj%09_%09start_char%3D9%7Cend_char%3D16%0A3%09is%09be%09AUX%09VBZ%09Mood%3DInd%7CNumber%3DSing%7CPerson%3D3%7CTense%3DPres%7CVerbForm%3DFin%094%09cop%09_%09start_char%3D17%7Cend_char%3D19%0A4%09important%09important%09ADJ%09JJ%09Degree%3DPos%090%09root%09_%09start_char%3D20%7Cend_char%3D29%0A5%09nowadays%09nowadays%09ADV%09RB%09_%094%09advmod%09_%09start_char%3D30%7Cend_char%3D38%0A6%09.%09.%09PUNCT%09.%09_%094%09punct%09_%09start_char%3D38%7Cend_char%3D39%0A%0A\"\n",
              "            frameborder=\"0\"\n",
              "            allowfullscreen\n",
              "            \n",
              "        ></iframe>\n",
              "        "
            ]
          },
          "metadata": {}
        },
        {
          "output_type": "display_data",
          "data": {
            "text/plain": [
              "<IPython.lib.display.IFrame at 0x7c70e8bccc70>"
            ],
            "text/html": [
              "\n",
              "        <iframe\n",
              "            width=\"100%\"\n",
              "            height=\"400\"\n",
              "            src=\"https://koichiyasuoka.github.io/deplacy/deplacy/editor.html#1%09Learning%09learn%09VERB%09VBG%09VerbForm%3DGer%097%09csubj%09_%09start_char%3D0%7Cend_char%3D8%0A2%09English%09English%09PROPN%09NNP%09Number%3DSing%091%09obj%09_%09start_char%3D9%7Cend_char%3D16%0A3%09and%09and%09CCONJ%09CC%09_%095%09cc%09_%09start_char%3D17%7Cend_char%3D20%0A4%09computer%09computer%09NOUN%09NN%09Number%3DSing%095%09compound%09_%09start_char%3D21%7Cend_char%3D29%0A5%09using%09use%09NOUN%09NN%09Number%3DSing%091%09conj%09_%09start_char%3D30%7Cend_char%3D35%0A6%09are%09be%09AUX%09VBP%09Mood%3DInd%7CTense%3DPres%7CVerbForm%3DFin%097%09cop%09_%09start_char%3D36%7Cend_char%3D39%0A7%09important%09important%09ADJ%09JJ%09Degree%3DPos%090%09root%09_%09start_char%3D40%7Cend_char%3D49%0A8%09nowadays%09nowadays%09ADV%09RB%09_%097%09advmod%09_%09start_char%3D50%7Cend_char%3D58%0A9%09.%09.%09PUNCT%09.%09_%097%09punct%09_%09start_char%3D58%7Cend_char%3D59%0A%0A\"\n",
              "            frameborder=\"0\"\n",
              "            allowfullscreen\n",
              "            \n",
              "        ></iframe>\n",
              "        "
            ]
          },
          "metadata": {}
        },
        {
          "output_type": "display_data",
          "data": {
            "text/plain": [
              "<IPython.lib.display.IFrame at 0x7c70e8bccc70>"
            ],
            "text/html": [
              "\n",
              "        <iframe\n",
              "            width=\"100%\"\n",
              "            height=\"400\"\n",
              "            src=\"https://koichiyasuoka.github.io/deplacy/deplacy/editor.html#1%09I%09I%09PRON%09PRP%09Case%3DNom%7CNumber%3DSing%7CPerson%3D1%7CPronType%3DPrs%092%09nsubj%09_%09start_char%3D0%7Cend_char%3D1%0A2%09play%09play%09VERB%09VBP%09Mood%3DInd%7CTense%3DPres%7CVerbForm%3DFin%090%09root%09_%09start_char%3D2%7Cend_char%3D6%0A3%09some%09some%09DET%09DT%09_%095%09det%09_%09start_char%3D7%7Cend_char%3D11%0A4%09video%09video%09NOUN%09NN%09Number%3DSing%095%09compound%09_%09start_char%3D12%7Cend_char%3D17%0A5%09games%09game%09NOUN%09NNS%09Number%3DPlur%092%09obj%09_%09start_char%3D18%7Cend_char%3D23%0A6%09and%09and%09CCONJ%09CC%09_%097%09cc%09_%09start_char%3D24%7Cend_char%3D27%0A7%09learn%09learn%09VERB%09VBP%09Mood%3DInd%7CTense%3DPres%7CVerbForm%3DFin%092%09conj%09_%09start_char%3D28%7Cend_char%3D33%0A8%09English%09English%09PROPN%09NNP%09Number%3DSing%097%09obj%09_%09start_char%3D34%7Cend_char%3D41%0A9%09on%09on%09ADP%09IN%09_%0911%09case%09_%09start_char%3D42%7Cend_char%3D44%0A10%09my%09my%09PRON%09PRP%24%09Number%3DSing%7CPerson%3D1%7CPoss%3DYes%7CPronType%3DPrs%0911%09nmod%3Aposs%09_%09start_char%3D45%7Cend_char%3D47%0A11%09computer%09computer%09NOUN%09NN%09Number%3DSing%097%09obl%09_%09start_char%3D48%7Cend_char%3D56%0A12%09.%09.%09PUNCT%09.%09_%092%09punct%09_%09start_char%3D56%7Cend_char%3D57%0A%0A\"\n",
              "            frameborder=\"0\"\n",
              "            allowfullscreen\n",
              "            \n",
              "        ></iframe>\n",
              "        "
            ]
          },
          "metadata": {}
        },
        {
          "output_type": "display_data",
          "data": {
            "text/plain": [
              "<IPython.lib.display.IFrame at 0x7c70e8bccc70>"
            ],
            "text/html": [
              "\n",
              "        <iframe\n",
              "            width=\"100%\"\n",
              "            height=\"400\"\n",
              "            src=\"https://koichiyasuoka.github.io/deplacy/deplacy/editor.html#1%09My%09my%09PRON%09PRP%24%09Number%3DSing%7CPerson%3D1%7CPoss%3DYes%7CPronType%3DPrs%092%09nmod%3Aposs%09_%09start_char%3D0%7Cend_char%3D2%0A2%09sister%09sister%09NOUN%09NN%09Number%3DSing%095%09nsubj%09_%09start_char%3D3%7Cend_char%3D9%0A3%09and%09and%09CCONJ%09CC%09_%094%09cc%09_%09start_char%3D10%7Cend_char%3D13%0A4%09I%09I%09PRON%09PRP%09Case%3DNom%7CNumber%3DSing%7CPerson%3D1%7CPronType%3DPrs%092%09conj%09_%09start_char%3D14%7Cend_char%3D15%0A5%09play%09play%09VERB%09VBP%09Mood%3DInd%7CTense%3DPres%7CVerbForm%3DFin%090%09root%09_%09start_char%3D16%7Cend_char%3D20%0A6%09some%09some%09DET%09DT%09_%098%09det%09_%09start_char%3D21%7Cend_char%3D25%0A7%09video%09video%09NOUN%09NN%09Number%3DSing%098%09compound%09_%09start_char%3D26%7Cend_char%3D31%0A8%09games%09game%09NOUN%09NNS%09Number%3DPlur%095%09obj%09_%09start_char%3D32%7Cend_char%3D37%0A9%09and%09and%09CCONJ%09CC%09_%0910%09cc%09_%09start_char%3D38%7Cend_char%3D41%0A10%09learn%09learn%09VERB%09VBP%09Mood%3DInd%7CTense%3DPres%7CVerbForm%3DFin%095%09conj%09_%09start_char%3D42%7Cend_char%3D47%0A11%09English%09English%09PROPN%09NNP%09Number%3DSing%0910%09obj%09_%09start_char%3D48%7Cend_char%3D55%0A12%09on%09on%09ADP%09IN%09_%0914%09case%09_%09start_char%3D56%7Cend_char%3D58%0A13%09our%09we%09PRON%09PRP%24%09Number%3DPlur%7CPerson%3D1%7CPoss%3DYes%7CPronType%3DPrs%0914%09nmod%3Aposs%09_%09start_char%3D59%7Cend_char%3D62%0A14%09computer%09computer%09NOUN%09NN%09Number%3DSing%0910%09obl%09_%09start_char%3D63%7Cend_char%3D71%0A15%09.%09.%09PUNCT%09.%09_%095%09punct%09_%09start_char%3D71%7Cend_char%3D72%0A%0A\"\n",
              "            frameborder=\"0\"\n",
              "            allowfullscreen\n",
              "            \n",
              "        ></iframe>\n",
              "        "
            ]
          },
          "metadata": {}
        }
      ]
    },
    {
      "cell_type": "code",
      "source": [
        "#Compound Sentence using conjunctions: for, A: and, N: no, B: but, O: or, Y: yet, S: so\n",
        "compound_sentences = ['Playing video game is fun, but it can be dangerous too.',\n",
        "                      'Nature does not hurry, yet everything is accomplished.',\n",
        "                      'I am working now, but we will eat later. ',\n",
        "                      'Playing video game is fun, but it can be dangerous too, we must be careful.']\n",
        "#Parsing for each sentence in list\n",
        "for sentence in compound_sentences:\n",
        "    deplacy.serve(nlp_parser(sentence), port=None)"
      ],
      "metadata": {
        "id": "plmBFM5i4O1P",
        "colab": {
          "base_uri": "https://localhost:8080/",
          "height": 1000
        },
        "outputId": "7bf156a1-53eb-4947-99c8-1429cc4bfa88"
      },
      "execution_count": null,
      "outputs": [
        {
          "output_type": "display_data",
          "data": {
            "text/plain": [
              "<IPython.lib.display.IFrame at 0x7c70e8fb94e0>"
            ],
            "text/html": [
              "\n",
              "        <iframe\n",
              "            width=\"100%\"\n",
              "            height=\"400\"\n",
              "            src=\"https://koichiyasuoka.github.io/deplacy/deplacy/editor.html#1%09Playing%09play%09VERB%09VBG%09VerbForm%3DGer%095%09csubj%09_%09start_char%3D0%7Cend_char%3D7%0A2%09video%09video%09NOUN%09NN%09Number%3DSing%093%09compound%09_%09start_char%3D8%7Cend_char%3D13%0A3%09game%09game%09NOUN%09NN%09Number%3DSing%091%09obj%09_%09start_char%3D14%7Cend_char%3D18%0A4%09is%09be%09AUX%09VBZ%09Mood%3DInd%7CNumber%3DSing%7CPerson%3D3%7CTense%3DPres%7CVerbForm%3DFin%095%09cop%09_%09start_char%3D19%7Cend_char%3D21%0A5%09fun%09fun%09ADJ%09JJ%09Degree%3DPos%090%09root%09_%09start_char%3D22%7Cend_char%3D25%0A6%09%2C%09%2C%09PUNCT%09%2C%09_%0911%09punct%09_%09start_char%3D25%7Cend_char%3D26%0A7%09but%09but%09CCONJ%09CC%09_%0911%09cc%09_%09start_char%3D27%7Cend_char%3D30%0A8%09it%09it%09PRON%09PRP%09Case%3DNom%7CGender%3DNeut%7CNumber%3DSing%7CPerson%3D3%7CPronType%3DPrs%0911%09nsubj%09_%09start_char%3D31%7Cend_char%3D33%0A9%09can%09can%09AUX%09MD%09VerbForm%3DFin%0911%09aux%09_%09start_char%3D34%7Cend_char%3D37%0A10%09be%09be%09AUX%09VB%09VerbForm%3DInf%0911%09cop%09_%09start_char%3D38%7Cend_char%3D40%0A11%09dangerous%09dangerous%09ADJ%09JJ%09Degree%3DPos%095%09conj%09_%09start_char%3D41%7Cend_char%3D50%0A12%09too%09too%09ADV%09RB%09_%0911%09advmod%09_%09start_char%3D51%7Cend_char%3D54%0A13%09.%09.%09PUNCT%09.%09_%095%09punct%09_%09start_char%3D54%7Cend_char%3D55%0A%0A\"\n",
              "            frameborder=\"0\"\n",
              "            allowfullscreen\n",
              "            \n",
              "        ></iframe>\n",
              "        "
            ]
          },
          "metadata": {}
        },
        {
          "output_type": "display_data",
          "data": {
            "text/plain": [
              "<IPython.lib.display.IFrame at 0x7c70e66c5f30>"
            ],
            "text/html": [
              "\n",
              "        <iframe\n",
              "            width=\"100%\"\n",
              "            height=\"400\"\n",
              "            src=\"https://koichiyasuoka.github.io/deplacy/deplacy/editor.html#1%09Nature%09nature%09NOUN%09NN%09Number%3DSing%094%09nsubj%09_%09start_char%3D0%7Cend_char%3D6%0A2%09does%09do%09AUX%09VBZ%09Mood%3DInd%7CNumber%3DSing%7CPerson%3D3%7CTense%3DPres%7CVerbForm%3DFin%094%09aux%09_%09start_char%3D7%7Cend_char%3D11%0A3%09not%09not%09PART%09RB%09_%094%09advmod%09_%09start_char%3D12%7Cend_char%3D15%0A4%09hurry%09hurry%09VERB%09VB%09VerbForm%3DInf%090%09root%09_%09start_char%3D16%7Cend_char%3D21%0A5%09%2C%09%2C%09PUNCT%09%2C%09_%099%09punct%09_%09start_char%3D21%7Cend_char%3D22%0A6%09yet%09yet%09CCONJ%09CC%09_%099%09cc%09_%09start_char%3D23%7Cend_char%3D26%0A7%09everything%09everything%09PRON%09NN%09Number%3DSing%099%09nsubj%3Apass%09_%09start_char%3D27%7Cend_char%3D37%0A8%09is%09be%09AUX%09VBZ%09Mood%3DInd%7CNumber%3DSing%7CPerson%3D3%7CTense%3DPres%7CVerbForm%3DFin%099%09aux%3Apass%09_%09start_char%3D38%7Cend_char%3D40%0A9%09accomplished%09accomplish%09VERB%09VBN%09Tense%3DPast%7CVerbForm%3DPart%7CVoice%3DPass%094%09conj%09_%09start_char%3D41%7Cend_char%3D53%0A10%09.%09.%09PUNCT%09.%09_%094%09punct%09_%09start_char%3D53%7Cend_char%3D54%0A%0A\"\n",
              "            frameborder=\"0\"\n",
              "            allowfullscreen\n",
              "            \n",
              "        ></iframe>\n",
              "        "
            ]
          },
          "metadata": {}
        },
        {
          "output_type": "display_data",
          "data": {
            "text/plain": [
              "<IPython.lib.display.IFrame at 0x7c70e8bccd00>"
            ],
            "text/html": [
              "\n",
              "        <iframe\n",
              "            width=\"100%\"\n",
              "            height=\"400\"\n",
              "            src=\"https://koichiyasuoka.github.io/deplacy/deplacy/editor.html#1%09I%09I%09PRON%09PRP%09Case%3DNom%7CNumber%3DSing%7CPerson%3D1%7CPronType%3DPrs%093%09nsubj%09_%09start_char%3D0%7Cend_char%3D1%0A2%09am%09be%09AUX%09VBP%09Mood%3DInd%7CNumber%3DSing%7CPerson%3D1%7CTense%3DPres%7CVerbForm%3DFin%093%09aux%09_%09start_char%3D2%7Cend_char%3D4%0A3%09working%09work%09VERB%09VBG%09Tense%3DPres%7CVerbForm%3DPart%090%09root%09_%09start_char%3D5%7Cend_char%3D12%0A4%09now%09now%09ADV%09RB%09_%093%09advmod%09_%09start_char%3D13%7Cend_char%3D16%0A5%09%2C%09%2C%09PUNCT%09%2C%09_%099%09punct%09_%09start_char%3D16%7Cend_char%3D17%0A6%09but%09but%09CCONJ%09CC%09_%099%09cc%09_%09start_char%3D18%7Cend_char%3D21%0A7%09we%09we%09PRON%09PRP%09Case%3DNom%7CNumber%3DPlur%7CPerson%3D1%7CPronType%3DPrs%099%09nsubj%09_%09start_char%3D22%7Cend_char%3D24%0A8%09will%09will%09AUX%09MD%09VerbForm%3DFin%099%09aux%09_%09start_char%3D25%7Cend_char%3D29%0A9%09eat%09eat%09VERB%09VB%09VerbForm%3DInf%093%09conj%09_%09start_char%3D30%7Cend_char%3D33%0A10%09later%09later%09ADV%09RB%09_%099%09advmod%09_%09start_char%3D34%7Cend_char%3D39%0A11%09.%09.%09PUNCT%09.%09_%093%09punct%09_%09start_char%3D39%7Cend_char%3D40%0A%0A\"\n",
              "            frameborder=\"0\"\n",
              "            allowfullscreen\n",
              "            \n",
              "        ></iframe>\n",
              "        "
            ]
          },
          "metadata": {}
        },
        {
          "output_type": "display_data",
          "data": {
            "text/plain": [
              "<IPython.lib.display.IFrame at 0x7c70e7867b80>"
            ],
            "text/html": [
              "\n",
              "        <iframe\n",
              "            width=\"100%\"\n",
              "            height=\"400\"\n",
              "            src=\"https://koichiyasuoka.github.io/deplacy/deplacy/editor.html#1%09Playing%09play%09VERB%09VBG%09VerbForm%3DGer%095%09csubj%09_%09start_char%3D0%7Cend_char%3D7%0A2%09video%09video%09NOUN%09NN%09Number%3DSing%093%09compound%09_%09start_char%3D8%7Cend_char%3D13%0A3%09game%09game%09NOUN%09NN%09Number%3DSing%091%09obj%09_%09start_char%3D14%7Cend_char%3D18%0A4%09is%09be%09AUX%09VBZ%09Mood%3DInd%7CNumber%3DSing%7CPerson%3D3%7CTense%3DPres%7CVerbForm%3DFin%095%09cop%09_%09start_char%3D19%7Cend_char%3D21%0A5%09fun%09fun%09ADJ%09JJ%09Degree%3DPos%090%09root%09_%09start_char%3D22%7Cend_char%3D25%0A6%09%2C%09%2C%09PUNCT%09%2C%09_%0911%09punct%09_%09start_char%3D25%7Cend_char%3D26%0A7%09but%09but%09CCONJ%09CC%09_%0911%09cc%09_%09start_char%3D27%7Cend_char%3D30%0A8%09it%09it%09PRON%09PRP%09Case%3DNom%7CGender%3DNeut%7CNumber%3DSing%7CPerson%3D3%7CPronType%3DPrs%0911%09nsubj%09_%09start_char%3D31%7Cend_char%3D33%0A9%09can%09can%09AUX%09MD%09VerbForm%3DFin%0911%09aux%09_%09start_char%3D34%7Cend_char%3D37%0A10%09be%09be%09AUX%09VB%09VerbForm%3DInf%0911%09cop%09_%09start_char%3D38%7Cend_char%3D40%0A11%09dangerous%09dangerous%09ADJ%09JJ%09Degree%3DPos%095%09conj%09_%09start_char%3D41%7Cend_char%3D50%0A12%09too%09too%09ADV%09RB%09_%0911%09advmod%09_%09start_char%3D51%7Cend_char%3D54%0A13%09%2C%09%2C%09PUNCT%09%2C%09_%095%09punct%09_%09start_char%3D54%7Cend_char%3D55%0A14%09we%09we%09PRON%09PRP%09Case%3DNom%7CNumber%3DPlur%7CPerson%3D1%7CPronType%3DPrs%0917%09nsubj%09_%09start_char%3D56%7Cend_char%3D58%0A15%09must%09must%09AUX%09MD%09VerbForm%3DFin%0917%09aux%09_%09start_char%3D59%7Cend_char%3D63%0A16%09be%09be%09AUX%09VB%09VerbForm%3DInf%0917%09cop%09_%09start_char%3D64%7Cend_char%3D66%0A17%09careful%09careful%09ADJ%09JJ%09Degree%3DPos%095%09parataxis%09_%09start_char%3D67%7Cend_char%3D74%0A18%09.%09.%09PUNCT%09.%09_%095%09punct%09_%09start_char%3D74%7Cend_char%3D75%0A%0A\"\n",
              "            frameborder=\"0\"\n",
              "            allowfullscreen\n",
              "            \n",
              "        ></iframe>\n",
              "        "
            ]
          },
          "metadata": {}
        }
      ]
    },
    {
      "cell_type": "code",
      "source": [
        "#Complex Sentence that combines independent clauses with subordinate clauses using a subordinating conjunction\n",
        "complex_sentences = ['Because I am working now, we will eat later. ',\n",
        "                    'He always takes time to cover carefully his daughter even though he is extremely busy.',\n",
        "                    'You should think about money saving from now if you want to study abroad.',\n",
        "                    'Even though he is busy, he always takes time to cover carefully his daughter.']\n",
        "#Parsing for each sentence in list\n",
        "for sentence in complex_sentences:\n",
        "    deplacy.serve(nlp_parser(sentence), port=None)"
      ],
      "metadata": {
        "id": "l1YDS0Q74O7f",
        "colab": {
          "base_uri": "https://localhost:8080/",
          "height": 1000
        },
        "outputId": "10ee7f79-29fc-4f60-e8cb-c784566b0b1c"
      },
      "execution_count": null,
      "outputs": [
        {
          "output_type": "display_data",
          "data": {
            "text/plain": [
              "<IPython.lib.display.IFrame at 0x7c70e8bccd00>"
            ],
            "text/html": [
              "\n",
              "        <iframe\n",
              "            width=\"100%\"\n",
              "            height=\"400\"\n",
              "            src=\"https://koichiyasuoka.github.io/deplacy/deplacy/editor.html#1%09Because%09because%09SCONJ%09IN%09_%094%09mark%09_%09start_char%3D0%7Cend_char%3D7%0A2%09I%09I%09PRON%09PRP%09Case%3DNom%7CNumber%3DSing%7CPerson%3D1%7CPronType%3DPrs%094%09nsubj%09_%09start_char%3D8%7Cend_char%3D9%0A3%09am%09be%09AUX%09VBP%09Mood%3DInd%7CNumber%3DSing%7CPerson%3D1%7CTense%3DPres%7CVerbForm%3DFin%094%09aux%09_%09start_char%3D10%7Cend_char%3D12%0A4%09working%09work%09VERB%09VBG%09Tense%3DPres%7CVerbForm%3DPart%099%09advcl%09_%09start_char%3D13%7Cend_char%3D20%0A5%09now%09now%09ADV%09RB%09_%094%09advmod%09_%09start_char%3D21%7Cend_char%3D24%0A6%09%2C%09%2C%09PUNCT%09%2C%09_%099%09punct%09_%09start_char%3D24%7Cend_char%3D25%0A7%09we%09we%09PRON%09PRP%09Case%3DNom%7CNumber%3DPlur%7CPerson%3D1%7CPronType%3DPrs%099%09nsubj%09_%09start_char%3D26%7Cend_char%3D28%0A8%09will%09will%09AUX%09MD%09VerbForm%3DFin%099%09aux%09_%09start_char%3D29%7Cend_char%3D33%0A9%09eat%09eat%09VERB%09VB%09VerbForm%3DInf%090%09root%09_%09start_char%3D34%7Cend_char%3D37%0A10%09later%09later%09ADV%09RB%09_%099%09advmod%09_%09start_char%3D38%7Cend_char%3D43%0A11%09.%09.%09PUNCT%09.%09_%099%09punct%09_%09start_char%3D43%7Cend_char%3D44%0A%0A\"\n",
              "            frameborder=\"0\"\n",
              "            allowfullscreen\n",
              "            \n",
              "        ></iframe>\n",
              "        "
            ]
          },
          "metadata": {}
        },
        {
          "output_type": "display_data",
          "data": {
            "text/plain": [
              "<IPython.lib.display.IFrame at 0x7c70e8fbbb80>"
            ],
            "text/html": [
              "\n",
              "        <iframe\n",
              "            width=\"100%\"\n",
              "            height=\"400\"\n",
              "            src=\"https://koichiyasuoka.github.io/deplacy/deplacy/editor.html#1%09He%09he%09PRON%09PRP%09Case%3DNom%7CGender%3DMasc%7CNumber%3DSing%7CPerson%3D3%7CPronType%3DPrs%093%09nsubj%09_%09start_char%3D0%7Cend_char%3D2%0A2%09always%09always%09ADV%09RB%09_%093%09advmod%09_%09start_char%3D3%7Cend_char%3D9%0A3%09takes%09take%09VERB%09VBZ%09Mood%3DInd%7CNumber%3DSing%7CPerson%3D3%7CTense%3DPres%7CVerbForm%3DFin%090%09root%09_%09start_char%3D10%7Cend_char%3D15%0A4%09time%09time%09NOUN%09NN%09Number%3DSing%093%09obj%09_%09start_char%3D16%7Cend_char%3D20%0A5%09to%09to%09PART%09TO%09_%096%09mark%09_%09start_char%3D21%7Cend_char%3D23%0A6%09cover%09cover%09VERB%09VB%09VerbForm%3DInf%093%09advcl%09_%09start_char%3D24%7Cend_char%3D29%0A7%09carefully%09carefully%09ADV%09RB%09_%096%09advmod%09_%09start_char%3D30%7Cend_char%3D39%0A8%09his%09he%09PRON%09PRP%24%09Gender%3DMasc%7CNumber%3DSing%7CPerson%3D3%7CPoss%3DYes%7CPronType%3DPrs%099%09nmod%3Aposs%09_%09start_char%3D40%7Cend_char%3D43%0A9%09daughter%09daughter%09NOUN%09NN%09Number%3DSing%096%09obj%09_%09start_char%3D44%7Cend_char%3D52%0A10%09even%09even%09ADV%09RB%09_%0915%09advmod%09_%09start_char%3D53%7Cend_char%3D57%0A11%09though%09though%09SCONJ%09IN%09_%0915%09mark%09_%09start_char%3D58%7Cend_char%3D64%0A12%09he%09he%09PRON%09PRP%09Case%3DNom%7CGender%3DMasc%7CNumber%3DSing%7CPerson%3D3%7CPronType%3DPrs%0915%09nsubj%09_%09start_char%3D65%7Cend_char%3D67%0A13%09is%09be%09AUX%09VBZ%09Mood%3DInd%7CNumber%3DSing%7CPerson%3D3%7CTense%3DPres%7CVerbForm%3DFin%0915%09cop%09_%09start_char%3D68%7Cend_char%3D70%0A14%09extremely%09extremely%09ADV%09RB%09_%0915%09advmod%09_%09start_char%3D71%7Cend_char%3D80%0A15%09busy%09busy%09ADJ%09JJ%09Degree%3DPos%093%09advcl%09_%09start_char%3D81%7Cend_char%3D85%0A16%09.%09.%09PUNCT%09.%09_%093%09punct%09_%09start_char%3D85%7Cend_char%3D86%0A%0A\"\n",
              "            frameborder=\"0\"\n",
              "            allowfullscreen\n",
              "            \n",
              "        ></iframe>\n",
              "        "
            ]
          },
          "metadata": {}
        },
        {
          "output_type": "display_data",
          "data": {
            "text/plain": [
              "<IPython.lib.display.IFrame at 0x7c70e8bccd00>"
            ],
            "text/html": [
              "\n",
              "        <iframe\n",
              "            width=\"100%\"\n",
              "            height=\"400\"\n",
              "            src=\"https://koichiyasuoka.github.io/deplacy/deplacy/editor.html#1%09You%09you%09PRON%09PRP%09Case%3DNom%7CPerson%3D2%7CPronType%3DPrs%093%09nsubj%09_%09start_char%3D0%7Cend_char%3D3%0A2%09should%09should%09AUX%09MD%09VerbForm%3DFin%093%09aux%09_%09start_char%3D4%7Cend_char%3D10%0A3%09think%09think%09VERB%09VB%09VerbForm%3DInf%090%09root%09_%09start_char%3D11%7Cend_char%3D16%0A4%09about%09about%09ADP%09IN%09_%096%09mark%09_%09start_char%3D17%7Cend_char%3D22%0A5%09money%09money%09NOUN%09NN%09Number%3DSing%096%09obl%3Anpmod%09_%09start_char%3D23%7Cend_char%3D28%0A6%09saving%09save%09VERB%09VBG%09VerbForm%3DGer%093%09advcl%09_%09start_char%3D29%7Cend_char%3D35%0A7%09from%09from%09ADP%09IN%09_%098%09case%09_%09start_char%3D36%7Cend_char%3D40%0A8%09now%09now%09ADV%09RB%09_%093%09obl%09_%09start_char%3D41%7Cend_char%3D44%0A9%09if%09if%09SCONJ%09IN%09_%0911%09mark%09_%09start_char%3D45%7Cend_char%3D47%0A10%09you%09you%09PRON%09PRP%09Case%3DNom%7CPerson%3D2%7CPronType%3DPrs%0911%09nsubj%09_%09start_char%3D48%7Cend_char%3D51%0A11%09want%09want%09VERB%09VBP%09Mood%3DInd%7CTense%3DPres%7CVerbForm%3DFin%093%09advcl%09_%09start_char%3D52%7Cend_char%3D56%0A12%09to%09to%09PART%09TO%09_%0913%09mark%09_%09start_char%3D57%7Cend_char%3D59%0A13%09study%09study%09VERB%09VB%09VerbForm%3DInf%0911%09xcomp%09_%09start_char%3D60%7Cend_char%3D65%0A14%09abroad%09abroad%09ADV%09RB%09_%0913%09advmod%09_%09start_char%3D66%7Cend_char%3D72%0A15%09.%09.%09PUNCT%09.%09_%093%09punct%09_%09start_char%3D72%7Cend_char%3D73%0A%0A\"\n",
              "            frameborder=\"0\"\n",
              "            allowfullscreen\n",
              "            \n",
              "        ></iframe>\n",
              "        "
            ]
          },
          "metadata": {}
        },
        {
          "output_type": "display_data",
          "data": {
            "text/plain": [
              "<IPython.lib.display.IFrame at 0x7c70e8fbbb80>"
            ],
            "text/html": [
              "\n",
              "        <iframe\n",
              "            width=\"100%\"\n",
              "            height=\"400\"\n",
              "            src=\"https://koichiyasuoka.github.io/deplacy/deplacy/editor.html#1%09Even%09even%09ADV%09RB%09_%095%09advmod%09_%09start_char%3D0%7Cend_char%3D4%0A2%09though%09though%09SCONJ%09IN%09_%095%09mark%09_%09start_char%3D5%7Cend_char%3D11%0A3%09he%09he%09PRON%09PRP%09Case%3DNom%7CGender%3DMasc%7CNumber%3DSing%7CPerson%3D3%7CPronType%3DPrs%095%09nsubj%09_%09start_char%3D12%7Cend_char%3D14%0A4%09is%09be%09AUX%09VBZ%09Mood%3DInd%7CNumber%3DSing%7CPerson%3D3%7CTense%3DPres%7CVerbForm%3DFin%095%09cop%09_%09start_char%3D15%7Cend_char%3D17%0A5%09busy%09busy%09ADJ%09JJ%09Degree%3DPos%099%09advcl%09_%09start_char%3D18%7Cend_char%3D22%0A6%09%2C%09%2C%09PUNCT%09%2C%09_%099%09punct%09_%09start_char%3D22%7Cend_char%3D23%0A7%09he%09he%09PRON%09PRP%09Case%3DNom%7CGender%3DMasc%7CNumber%3DSing%7CPerson%3D3%7CPronType%3DPrs%099%09nsubj%09_%09start_char%3D24%7Cend_char%3D26%0A8%09always%09always%09ADV%09RB%09_%099%09advmod%09_%09start_char%3D27%7Cend_char%3D33%0A9%09takes%09take%09VERB%09VBZ%09Mood%3DInd%7CNumber%3DSing%7CPerson%3D3%7CTense%3DPres%7CVerbForm%3DFin%090%09root%09_%09start_char%3D34%7Cend_char%3D39%0A10%09time%09time%09NOUN%09NN%09Number%3DSing%099%09obj%09_%09start_char%3D40%7Cend_char%3D44%0A11%09to%09to%09PART%09TO%09_%0912%09mark%09_%09start_char%3D45%7Cend_char%3D47%0A12%09cover%09cover%09VERB%09VB%09VerbForm%3DInf%099%09advcl%09_%09start_char%3D48%7Cend_char%3D53%0A13%09carefully%09carefully%09ADV%09RB%09_%0912%09advmod%09_%09start_char%3D54%7Cend_char%3D63%0A14%09his%09he%09PRON%09PRP%24%09Gender%3DMasc%7CNumber%3DSing%7CPerson%3D3%7CPoss%3DYes%7CPronType%3DPrs%0915%09nmod%3Aposs%09_%09start_char%3D64%7Cend_char%3D67%0A15%09daughter%09daughter%09NOUN%09NN%09Number%3DSing%0912%09obj%09_%09start_char%3D68%7Cend_char%3D76%0A16%09.%09.%09PUNCT%09.%09_%099%09punct%09_%09start_char%3D76%7Cend_char%3D77%0A%0A\"\n",
              "            frameborder=\"0\"\n",
              "            allowfullscreen\n",
              "            \n",
              "        ></iframe>\n",
              "        "
            ]
          },
          "metadata": {}
        }
      ]
    },
    {
      "cell_type": "code",
      "source": [
        "#Passive Voice Sentence\n",
        "passive_sentences = ['The house was being painted when I arrived.',\n",
        "                     'Over 20 models have been produced in the past two years.']\n",
        "#Parsing for each sentence in list\n",
        "for sentence in passive_sentences:\n",
        "    deplacy.serve(nlp_parser(sentence), port=None)"
      ],
      "metadata": {
        "id": "BddHlESC4WPk",
        "colab": {
          "base_uri": "https://localhost:8080/",
          "height": 825
        },
        "outputId": "ccb722be-f71c-47db-b9dd-d9b60bbd25d7"
      },
      "execution_count": null,
      "outputs": [
        {
          "output_type": "display_data",
          "data": {
            "text/plain": [
              "<IPython.lib.display.IFrame at 0x7c70e8fbbb80>"
            ],
            "text/html": [
              "\n",
              "        <iframe\n",
              "            width=\"100%\"\n",
              "            height=\"400\"\n",
              "            src=\"https://koichiyasuoka.github.io/deplacy/deplacy/editor.html#1%09The%09the%09DET%09DT%09Definite%3DDef%7CPronType%3DArt%092%09det%09_%09start_char%3D0%7Cend_char%3D3%0A2%09house%09house%09NOUN%09NN%09Number%3DSing%095%09nsubj%3Apass%09_%09start_char%3D4%7Cend_char%3D9%0A3%09was%09be%09AUX%09VBD%09Mood%3DInd%7CNumber%3DSing%7CPerson%3D3%7CTense%3DPast%7CVerbForm%3DFin%095%09aux%09_%09start_char%3D10%7Cend_char%3D13%0A4%09being%09be%09AUX%09VBG%09VerbForm%3DGer%095%09aux%3Apass%09_%09start_char%3D14%7Cend_char%3D19%0A5%09painted%09paint%09VERB%09VBN%09Tense%3DPast%7CVerbForm%3DPart%7CVoice%3DPass%090%09root%09_%09start_char%3D20%7Cend_char%3D27%0A6%09when%09when%09ADV%09WRB%09PronType%3DInt%098%09mark%09_%09start_char%3D28%7Cend_char%3D32%0A7%09I%09I%09PRON%09PRP%09Case%3DNom%7CNumber%3DSing%7CPerson%3D1%7CPronType%3DPrs%098%09nsubj%09_%09start_char%3D33%7Cend_char%3D34%0A8%09arrived%09arrive%09VERB%09VBD%09Mood%3DInd%7CTense%3DPast%7CVerbForm%3DFin%095%09advcl%09_%09start_char%3D35%7Cend_char%3D42%0A9%09.%09.%09PUNCT%09.%09_%095%09punct%09_%09start_char%3D42%7Cend_char%3D43%0A%0A\"\n",
              "            frameborder=\"0\"\n",
              "            allowfullscreen\n",
              "            \n",
              "        ></iframe>\n",
              "        "
            ]
          },
          "metadata": {}
        },
        {
          "output_type": "display_data",
          "data": {
            "text/plain": [
              "<IPython.lib.display.IFrame at 0x7c70e8bccc70>"
            ],
            "text/html": [
              "\n",
              "        <iframe\n",
              "            width=\"100%\"\n",
              "            height=\"400\"\n",
              "            src=\"https://koichiyasuoka.github.io/deplacy/deplacy/editor.html#1%09Over%09over%09ADV%09RB%09_%092%09advmod%09_%09start_char%3D0%7Cend_char%3D4%0A2%0920%0920%09NUM%09CD%09NumType%3DCard%093%09nummod%09_%09start_char%3D5%7Cend_char%3D7%0A3%09models%09model%09NOUN%09NNS%09Number%3DPlur%096%09nsubj%3Apass%09_%09start_char%3D8%7Cend_char%3D14%0A4%09have%09have%09AUX%09VBP%09Mood%3DInd%7CTense%3DPres%7CVerbForm%3DFin%096%09aux%09_%09start_char%3D15%7Cend_char%3D19%0A5%09been%09be%09AUX%09VBN%09Tense%3DPast%7CVerbForm%3DPart%096%09aux%3Apass%09_%09start_char%3D20%7Cend_char%3D24%0A6%09produced%09produce%09VERB%09VBN%09Tense%3DPast%7CVerbForm%3DPart%7CVoice%3DPass%090%09root%09_%09start_char%3D25%7Cend_char%3D33%0A7%09in%09in%09ADP%09IN%09_%0911%09case%09_%09start_char%3D34%7Cend_char%3D36%0A8%09the%09the%09DET%09DT%09Definite%3DDef%7CPronType%3DArt%0911%09det%09_%09start_char%3D37%7Cend_char%3D40%0A9%09past%09past%09ADJ%09JJ%09Degree%3DPos%0911%09amod%09_%09start_char%3D41%7Cend_char%3D45%0A10%09two%09two%09NUM%09CD%09NumType%3DCard%0911%09nummod%09_%09start_char%3D46%7Cend_char%3D49%0A11%09years%09year%09NOUN%09NNS%09Number%3DPlur%096%09obl%09_%09start_char%3D50%7Cend_char%3D55%0A12%09.%09.%09PUNCT%09.%09_%096%09punct%09_%09start_char%3D55%7Cend_char%3D56%0A%0A\"\n",
              "            frameborder=\"0\"\n",
              "            allowfullscreen\n",
              "            \n",
              "        ></iframe>\n",
              "        "
            ]
          },
          "metadata": {}
        }
      ]
    },
    {
      "cell_type": "markdown",
      "source": [
        "    #nlp_parser(text) => return dictionary {'text': text, 'sentences': parsing result for text, 'lang': language}\n",
        "\n",
        "    #parsing result for text: a dictionary {'id': index in sentence, starting at 1\n",
        "                                            'text': text\n",
        "                                            'tokens': parsing result for each word\n",
        "                                            'dspan': pair with 'slots' 'start' and 'end'}\n",
        "\n",
        "    #parsing result for each word: a dictionary {'id':index in text, starting at 1\n",
        "                                                'text': word,\n",
        "                                                'upos': universal POS  tags\n",
        "                                                'xpos': treebank-specific POS tags\n",
        "                                                'feats': list of morphological features separated by |\n",
        "                                                'head': index of syntactic parent, 0 for ROOT'\n",
        "                                                'deprel': syntactic relationship between HEAD and this word\n",
        "                                                'dspan': pair with 'slots' 'start' and 'end'\n",
        "                                                'span': pair with 'slots' 'start' and 'end'\n",
        "                                                'lemma': word's lemma or stem,\n",
        "                                                'ner': Named-entity recognition}"
      ],
      "metadata": {
        "id": "qF07BHU3imZ-"
      }
    },
    {
      "cell_type": "markdown",
      "source": [
        "Sentence Classifier"
      ],
      "metadata": {
        "id": "07hQk7L4_rbg"
      }
    },
    {
      "cell_type": "code",
      "source": [
        "#Parsing for each word in text\n",
        "def nlp_sentence_parser(text):\n",
        "    sentences, nlp_sentences = [], []\n",
        "    for nlp_sentence in nlp_parser(text)['sentences']: #using parsing result\n",
        "        sentence = nlp_sentence['text'] #get text\n",
        "        sentences.append(sentence)\n",
        "        nlp_sentence = nlp_sentence['tokens'] #get list parsing result for each word in text\n",
        "        # Pull out some necessary information in parsing result for each word\n",
        "        pos_dep = [(nlp['text'], nlp['xpos'], nlp['upos'], nlp['deprel'], nlp['head']) for nlp in nlp_sentence]\n",
        "        nlp_sentences.append(pos_dep)\n",
        "    return sentences, nlp_sentences\n",
        "\n",
        "nlp_sentence_parser(\"Because I am working now, we will eat later\")"
      ],
      "metadata": {
        "id": "5PukhNKr4WVN",
        "colab": {
          "base_uri": "https://localhost:8080/"
        },
        "outputId": "2f415a14-4b81-42a0-dfcd-132a1ff3ebac"
      },
      "execution_count": null,
      "outputs": [
        {
          "output_type": "execute_result",
          "data": {
            "text/plain": [
              "(['Because I am working now, we will eat later'],\n",
              " [[('Because', 'IN', 'SCONJ', 'mark', 4),\n",
              "   ('I', 'PRP', 'PRON', 'nsubj', 4),\n",
              "   ('am', 'VBP', 'AUX', 'aux', 4),\n",
              "   ('working', 'VBG', 'VERB', 'advcl', 9),\n",
              "   ('now', 'RB', 'ADV', 'advmod', 4),\n",
              "   (',', ',', 'PUNCT', 'punct', 9),\n",
              "   ('we', 'PRP', 'PRON', 'nsubj', 9),\n",
              "   ('will', 'MD', 'AUX', 'aux', 9),\n",
              "   ('eat', 'VB', 'VERB', 'root', 0),\n",
              "   ('later', 'RBR', 'ADV', 'advmod', 9)]])"
            ]
          },
          "metadata": {},
          "execution_count": 78
        }
      ]
    },
    {
      "cell_type": "code",
      "source": [
        "#Sentence Classifier\n",
        "def sentence_classifier(question_respond: str):\n",
        "  #Import Counter\n",
        "  from collections import Counter\n",
        "\n",
        "  # List of subjects in a sentence, including for passive form\n",
        "  subject_tags = ['csubj', 'csubj:pass', 'nsubj', 'nsubj:pass', 'xsubj']\n",
        "  # nsubj (nominal subject) is the syntactic subject and the proto-agent of a clause.\n",
        "  # csubj (clausal subject) is a clausal syntactic subject of a clause, i.e., the subject is itself a clause\n",
        "  # xsubj (controlling subject) is renamed to nsubj (nominal subject)\n",
        "\n",
        "  #Classify each sentence into 4 classes: simple sentence, compound sentence, complex sentence, passive sentence\n",
        "  simple_sentences, compound_sentences, complex_sentences, passive_sentences = [], [], [], []\n",
        "\n",
        "  #Parsing for question_respond (paragraph) => return sentences and parsing result for each word in sentence\n",
        "  sentences, nlp_sentences = nlp_sentence_parser(question_respond)\n",
        "\n",
        "  #Loop for each (sentence, parsing result for each word in sentence)\n",
        "  for idx, (sentence, nlp_sentence) in enumerate(list(zip(sentences, nlp_sentences))):\n",
        "    adv_clause_counter, wh_clause_counter, mark_counter, subject_tag_counter = 0, 0, 0, 0\n",
        "\n",
        "    #loop for each words parsing result\n",
        "    for idx, word_nlp in enumerate(nlp_sentence):\n",
        "      #Pull out necessary information as follows: 'text': word, 'upos': universal POS tag, 'xpos': treebank-specific POS tag,\n",
        "      #'head': index of syntactic parent, 0 for ROOT', 'deprel': syntactic relationship between HEAD and this word\n",
        "      text, xpos, upos, deprel, head = word_nlp\n",
        "\n",
        "      #Check if this word is a wh clause or if it in a sentence has an adv clause\n",
        "      #check if syntactic relationship between HEAD and this word = advmod (adverbial modifier) and universal POS tag of it = adverb\n",
        "      if deprel == 'advmod' and upos == 'ADV':\n",
        "        #check if treebank-specific POS tag = Wh-adverb (special subclass of adverbs - set of words beginning with wh-) => it's wh_clause\n",
        "        if xpos == 'WRB':\n",
        "          wh_clause_counter += 1\n",
        "        else:\n",
        "          #analysis sub_sentence sliced by the index of this word and the index of its syntactic parent\n",
        "          sub_nlp = nlp_sentence[idx:head] if idx < head else nlp_sentence[head:idx]\n",
        "          #for each word in sub_sentence => frequence of its deprel\n",
        "          sub_nlp_counter = Counter([word_nlp[3] for word_nlp in sub_nlp])\n",
        "          #for subject in subject_tags => frequence of adv clause\n",
        "          sub_subject_tag = sum([sub_nlp_counter[subj] for subj in subject_tags])\n",
        "          adv_clause_counter += sub_subject_tag\n",
        "\n",
        "      #check if syntactic relationship between HEAD and this word = mark\n",
        "      if deprel == 'mark':\n",
        "        mark_counter += 1\n",
        "\n",
        "      #check if syntactic relationship between HEAD and this word is in subject_tags\n",
        "      if deprel in subject_tags:\n",
        "        subject_tag_counter += 1\n",
        "\n",
        "    #Classifing\n",
        "    #Check if this word is a wh clause, if it in a sentence has an adv clause, or if there is a mark => complex_sentences\n",
        "    if mark_counter >= 1 or adv_clause_counter >= 1 or wh_clause_counter >= 1:\n",
        "      complex_sentences.append(sentence)\n",
        "\n",
        "    #Check if there is no mark and if there is a subject in a sentence => simple_sentences\n",
        "    elif mark_counter == 0 and subject_tag_counter == 1:\n",
        "      simple_sentences.append(sentence)\n",
        "\n",
        "    else: #compound_sentences\n",
        "      compound_sentences.append(sentence)\n",
        "\n",
        "    #check if syntactic relationship between HEAD and this word has both nsubj:pass and aux:pass => passive voice sentence\n",
        "    dep_sentence = [word_nlp[3] for word_nlp in nlp_sentence] #for each word in sentence => frequence of its deprel\n",
        "    if 'nsubj:pass' in dep_sentence and 'aux:pass' in dep_sentence:\n",
        "      passive_sentences.append(sentence)\n",
        "\n",
        "  return {'simple-sentences': simple_sentences,\n",
        "          'compound-sentences': compound_sentences,\n",
        "          'complex-sentences': complex_sentences,\n",
        "          'passive-sentences':passive_sentences}\n",
        "\n",
        "sentence_classifier(\"\".join(simple_sentences + compound_sentences + complex_sentences + passive_sentences))"
      ],
      "metadata": {
        "id": "ohd8UKmS4Wa7",
        "colab": {
          "base_uri": "https://localhost:8080/"
        },
        "outputId": "ea822c45-e581-4ccf-a803-bc7805ed92b0"
      },
      "execution_count": null,
      "outputs": [
        {
          "output_type": "execute_result",
          "data": {
            "text/plain": [
              "{'simple-sentences': ['Learning English is important nowadays.',\n",
              "  'Learning English and computer using are important nowadays.',\n",
              "  'I play some video games and learn English on my computer.',\n",
              "  'My sister and I play some video games and learn English on our computer.',\n",
              "  'Over 20 models have been produced in the past two years.'],\n",
              " 'compound-sentences': ['Playing video game is fun, but it can be dangerous too.',\n",
              "  'Nature does not hurry, yet everything is accomplished.',\n",
              "  'I am working now, but we will eat later.',\n",
              "  'Playing video game is fun, but it can be dangerous too, we must be careful.'],\n",
              " 'complex-sentences': ['Because I am working now, we will eat later.',\n",
              "  'He always takes time to cover carefully his daughter even though he is extremely busy.',\n",
              "  'You should think about money saving from now if you want to study abroad.',\n",
              "  'Even though he is busy, he always takes time to cover carefully his daughter.',\n",
              "  'The house was being painted when I arrived.'],\n",
              " 'passive-sentences': ['Nature does not hurry, yet everything is accomplished.',\n",
              "  'The house was being painted when I arrived.',\n",
              "  'Over 20 models have been produced in the past two years.']}"
            ]
          },
          "metadata": {},
          "execution_count": 85
        }
      ]
    }
  ]
}