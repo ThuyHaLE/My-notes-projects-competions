{
  "nbformat": 4,
  "nbformat_minor": 0,
  "metadata": {
    "colab": {
      "provenance": [],
      "toc_visible": true,
      "authorship_tag": "ABX9TyNHTppHSje/uMS+1KWXyhcX",
      "include_colab_link": true
    },
    "kernelspec": {
      "name": "python3",
      "display_name": "Python 3"
    },
    "language_info": {
      "name": "python"
    },
    "widgets": {
      "application/vnd.jupyter.widget-state+json": {
        "df1a1d9d70234ea08d34f14e06867e38": {
          "model_module": "@jupyter-widgets/controls",
          "model_name": "HBoxModel",
          "model_module_version": "1.5.0",
          "state": {
            "_dom_classes": [],
            "_model_module": "@jupyter-widgets/controls",
            "_model_module_version": "1.5.0",
            "_model_name": "HBoxModel",
            "_view_count": null,
            "_view_module": "@jupyter-widgets/controls",
            "_view_module_version": "1.5.0",
            "_view_name": "HBoxView",
            "box_style": "",
            "children": [
              "IPY_MODEL_c68ec95ed50049998d2d53659162dcda",
              "IPY_MODEL_94c5cecf82644f13a500e1faba3722aa",
              "IPY_MODEL_5dafe741d8c64293a18806163428aa4e"
            ],
            "layout": "IPY_MODEL_6d48863e2a8a435c9ceb527e761a4696"
          }
        },
        "c68ec95ed50049998d2d53659162dcda": {
          "model_module": "@jupyter-widgets/controls",
          "model_name": "HTMLModel",
          "model_module_version": "1.5.0",
          "state": {
            "_dom_classes": [],
            "_model_module": "@jupyter-widgets/controls",
            "_model_module_version": "1.5.0",
            "_model_name": "HTMLModel",
            "_view_count": null,
            "_view_module": "@jupyter-widgets/controls",
            "_view_module_version": "1.5.0",
            "_view_name": "HTMLView",
            "description": "",
            "description_tooltip": null,
            "layout": "IPY_MODEL_c625bc70a6e54fe9864826e34b42672e",
            "placeholder": "​",
            "style": "IPY_MODEL_753fa4e509ac42efb54b9b2d20b45d5b",
            "value": "tokenizer_config.json: 100%"
          }
        },
        "94c5cecf82644f13a500e1faba3722aa": {
          "model_module": "@jupyter-widgets/controls",
          "model_name": "FloatProgressModel",
          "model_module_version": "1.5.0",
          "state": {
            "_dom_classes": [],
            "_model_module": "@jupyter-widgets/controls",
            "_model_module_version": "1.5.0",
            "_model_name": "FloatProgressModel",
            "_view_count": null,
            "_view_module": "@jupyter-widgets/controls",
            "_view_module_version": "1.5.0",
            "_view_name": "ProgressView",
            "bar_style": "success",
            "description": "",
            "description_tooltip": null,
            "layout": "IPY_MODEL_0805660ec267470d9e3e47a1d1be9256",
            "max": 49,
            "min": 0,
            "orientation": "horizontal",
            "style": "IPY_MODEL_c3c70c8a0040432c8ad5ea1f024bdeac",
            "value": 49
          }
        },
        "5dafe741d8c64293a18806163428aa4e": {
          "model_module": "@jupyter-widgets/controls",
          "model_name": "HTMLModel",
          "model_module_version": "1.5.0",
          "state": {
            "_dom_classes": [],
            "_model_module": "@jupyter-widgets/controls",
            "_model_module_version": "1.5.0",
            "_model_name": "HTMLModel",
            "_view_count": null,
            "_view_module": "@jupyter-widgets/controls",
            "_view_module_version": "1.5.0",
            "_view_name": "HTMLView",
            "description": "",
            "description_tooltip": null,
            "layout": "IPY_MODEL_92a7bd81b6bd45a49f5a46396c534c3c",
            "placeholder": "​",
            "style": "IPY_MODEL_3c00ac4abfe544bc96a7f915c6df8772",
            "value": " 49.0/49.0 [00:00&lt;00:00, 1.42kB/s]"
          }
        },
        "6d48863e2a8a435c9ceb527e761a4696": {
          "model_module": "@jupyter-widgets/base",
          "model_name": "LayoutModel",
          "model_module_version": "1.2.0",
          "state": {
            "_model_module": "@jupyter-widgets/base",
            "_model_module_version": "1.2.0",
            "_model_name": "LayoutModel",
            "_view_count": null,
            "_view_module": "@jupyter-widgets/base",
            "_view_module_version": "1.2.0",
            "_view_name": "LayoutView",
            "align_content": null,
            "align_items": null,
            "align_self": null,
            "border": null,
            "bottom": null,
            "display": null,
            "flex": null,
            "flex_flow": null,
            "grid_area": null,
            "grid_auto_columns": null,
            "grid_auto_flow": null,
            "grid_auto_rows": null,
            "grid_column": null,
            "grid_gap": null,
            "grid_row": null,
            "grid_template_areas": null,
            "grid_template_columns": null,
            "grid_template_rows": null,
            "height": null,
            "justify_content": null,
            "justify_items": null,
            "left": null,
            "margin": null,
            "max_height": null,
            "max_width": null,
            "min_height": null,
            "min_width": null,
            "object_fit": null,
            "object_position": null,
            "order": null,
            "overflow": null,
            "overflow_x": null,
            "overflow_y": null,
            "padding": null,
            "right": null,
            "top": null,
            "visibility": null,
            "width": null
          }
        },
        "c625bc70a6e54fe9864826e34b42672e": {
          "model_module": "@jupyter-widgets/base",
          "model_name": "LayoutModel",
          "model_module_version": "1.2.0",
          "state": {
            "_model_module": "@jupyter-widgets/base",
            "_model_module_version": "1.2.0",
            "_model_name": "LayoutModel",
            "_view_count": null,
            "_view_module": "@jupyter-widgets/base",
            "_view_module_version": "1.2.0",
            "_view_name": "LayoutView",
            "align_content": null,
            "align_items": null,
            "align_self": null,
            "border": null,
            "bottom": null,
            "display": null,
            "flex": null,
            "flex_flow": null,
            "grid_area": null,
            "grid_auto_columns": null,
            "grid_auto_flow": null,
            "grid_auto_rows": null,
            "grid_column": null,
            "grid_gap": null,
            "grid_row": null,
            "grid_template_areas": null,
            "grid_template_columns": null,
            "grid_template_rows": null,
            "height": null,
            "justify_content": null,
            "justify_items": null,
            "left": null,
            "margin": null,
            "max_height": null,
            "max_width": null,
            "min_height": null,
            "min_width": null,
            "object_fit": null,
            "object_position": null,
            "order": null,
            "overflow": null,
            "overflow_x": null,
            "overflow_y": null,
            "padding": null,
            "right": null,
            "top": null,
            "visibility": null,
            "width": null
          }
        },
        "753fa4e509ac42efb54b9b2d20b45d5b": {
          "model_module": "@jupyter-widgets/controls",
          "model_name": "DescriptionStyleModel",
          "model_module_version": "1.5.0",
          "state": {
            "_model_module": "@jupyter-widgets/controls",
            "_model_module_version": "1.5.0",
            "_model_name": "DescriptionStyleModel",
            "_view_count": null,
            "_view_module": "@jupyter-widgets/base",
            "_view_module_version": "1.2.0",
            "_view_name": "StyleView",
            "description_width": ""
          }
        },
        "0805660ec267470d9e3e47a1d1be9256": {
          "model_module": "@jupyter-widgets/base",
          "model_name": "LayoutModel",
          "model_module_version": "1.2.0",
          "state": {
            "_model_module": "@jupyter-widgets/base",
            "_model_module_version": "1.2.0",
            "_model_name": "LayoutModel",
            "_view_count": null,
            "_view_module": "@jupyter-widgets/base",
            "_view_module_version": "1.2.0",
            "_view_name": "LayoutView",
            "align_content": null,
            "align_items": null,
            "align_self": null,
            "border": null,
            "bottom": null,
            "display": null,
            "flex": null,
            "flex_flow": null,
            "grid_area": null,
            "grid_auto_columns": null,
            "grid_auto_flow": null,
            "grid_auto_rows": null,
            "grid_column": null,
            "grid_gap": null,
            "grid_row": null,
            "grid_template_areas": null,
            "grid_template_columns": null,
            "grid_template_rows": null,
            "height": null,
            "justify_content": null,
            "justify_items": null,
            "left": null,
            "margin": null,
            "max_height": null,
            "max_width": null,
            "min_height": null,
            "min_width": null,
            "object_fit": null,
            "object_position": null,
            "order": null,
            "overflow": null,
            "overflow_x": null,
            "overflow_y": null,
            "padding": null,
            "right": null,
            "top": null,
            "visibility": null,
            "width": null
          }
        },
        "c3c70c8a0040432c8ad5ea1f024bdeac": {
          "model_module": "@jupyter-widgets/controls",
          "model_name": "ProgressStyleModel",
          "model_module_version": "1.5.0",
          "state": {
            "_model_module": "@jupyter-widgets/controls",
            "_model_module_version": "1.5.0",
            "_model_name": "ProgressStyleModel",
            "_view_count": null,
            "_view_module": "@jupyter-widgets/base",
            "_view_module_version": "1.2.0",
            "_view_name": "StyleView",
            "bar_color": null,
            "description_width": ""
          }
        },
        "92a7bd81b6bd45a49f5a46396c534c3c": {
          "model_module": "@jupyter-widgets/base",
          "model_name": "LayoutModel",
          "model_module_version": "1.2.0",
          "state": {
            "_model_module": "@jupyter-widgets/base",
            "_model_module_version": "1.2.0",
            "_model_name": "LayoutModel",
            "_view_count": null,
            "_view_module": "@jupyter-widgets/base",
            "_view_module_version": "1.2.0",
            "_view_name": "LayoutView",
            "align_content": null,
            "align_items": null,
            "align_self": null,
            "border": null,
            "bottom": null,
            "display": null,
            "flex": null,
            "flex_flow": null,
            "grid_area": null,
            "grid_auto_columns": null,
            "grid_auto_flow": null,
            "grid_auto_rows": null,
            "grid_column": null,
            "grid_gap": null,
            "grid_row": null,
            "grid_template_areas": null,
            "grid_template_columns": null,
            "grid_template_rows": null,
            "height": null,
            "justify_content": null,
            "justify_items": null,
            "left": null,
            "margin": null,
            "max_height": null,
            "max_width": null,
            "min_height": null,
            "min_width": null,
            "object_fit": null,
            "object_position": null,
            "order": null,
            "overflow": null,
            "overflow_x": null,
            "overflow_y": null,
            "padding": null,
            "right": null,
            "top": null,
            "visibility": null,
            "width": null
          }
        },
        "3c00ac4abfe544bc96a7f915c6df8772": {
          "model_module": "@jupyter-widgets/controls",
          "model_name": "DescriptionStyleModel",
          "model_module_version": "1.5.0",
          "state": {
            "_model_module": "@jupyter-widgets/controls",
            "_model_module_version": "1.5.0",
            "_model_name": "DescriptionStyleModel",
            "_view_count": null,
            "_view_module": "@jupyter-widgets/base",
            "_view_module_version": "1.2.0",
            "_view_name": "StyleView",
            "description_width": ""
          }
        },
        "bea95a349f2d40619be0f01880b7816b": {
          "model_module": "@jupyter-widgets/controls",
          "model_name": "HBoxModel",
          "model_module_version": "1.5.0",
          "state": {
            "_dom_classes": [],
            "_model_module": "@jupyter-widgets/controls",
            "_model_module_version": "1.5.0",
            "_model_name": "HBoxModel",
            "_view_count": null,
            "_view_module": "@jupyter-widgets/controls",
            "_view_module_version": "1.5.0",
            "_view_name": "HBoxView",
            "box_style": "",
            "children": [
              "IPY_MODEL_6b85efce393f4faf8e592468e8eee0a5",
              "IPY_MODEL_7b09353556d641458de9ea9921481f94",
              "IPY_MODEL_02711dfb5858470ab4d4c3bd1325ab04"
            ],
            "layout": "IPY_MODEL_03562732810d410cae7b104059d406fb"
          }
        },
        "6b85efce393f4faf8e592468e8eee0a5": {
          "model_module": "@jupyter-widgets/controls",
          "model_name": "HTMLModel",
          "model_module_version": "1.5.0",
          "state": {
            "_dom_classes": [],
            "_model_module": "@jupyter-widgets/controls",
            "_model_module_version": "1.5.0",
            "_model_name": "HTMLModel",
            "_view_count": null,
            "_view_module": "@jupyter-widgets/controls",
            "_view_module_version": "1.5.0",
            "_view_name": "HTMLView",
            "description": "",
            "description_tooltip": null,
            "layout": "IPY_MODEL_f8af564d0a8f4b58aba7e52d039125a5",
            "placeholder": "​",
            "style": "IPY_MODEL_6c04519f8b224bd592495976abfb4b62",
            "value": "config.json: 100%"
          }
        },
        "7b09353556d641458de9ea9921481f94": {
          "model_module": "@jupyter-widgets/controls",
          "model_name": "FloatProgressModel",
          "model_module_version": "1.5.0",
          "state": {
            "_dom_classes": [],
            "_model_module": "@jupyter-widgets/controls",
            "_model_module_version": "1.5.0",
            "_model_name": "FloatProgressModel",
            "_view_count": null,
            "_view_module": "@jupyter-widgets/controls",
            "_view_module_version": "1.5.0",
            "_view_name": "ProgressView",
            "bar_style": "success",
            "description": "",
            "description_tooltip": null,
            "layout": "IPY_MODEL_906aaf230c4945fe8f2e14ac1791625c",
            "max": 570,
            "min": 0,
            "orientation": "horizontal",
            "style": "IPY_MODEL_fe18511071d84737b27aa23dd33cc548",
            "value": 570
          }
        },
        "02711dfb5858470ab4d4c3bd1325ab04": {
          "model_module": "@jupyter-widgets/controls",
          "model_name": "HTMLModel",
          "model_module_version": "1.5.0",
          "state": {
            "_dom_classes": [],
            "_model_module": "@jupyter-widgets/controls",
            "_model_module_version": "1.5.0",
            "_model_name": "HTMLModel",
            "_view_count": null,
            "_view_module": "@jupyter-widgets/controls",
            "_view_module_version": "1.5.0",
            "_view_name": "HTMLView",
            "description": "",
            "description_tooltip": null,
            "layout": "IPY_MODEL_1123c317840149a7acd5cc4b999b281a",
            "placeholder": "​",
            "style": "IPY_MODEL_1228de7a782c406fb335957b092e9537",
            "value": " 570/570 [00:00&lt;00:00, 29.8kB/s]"
          }
        },
        "03562732810d410cae7b104059d406fb": {
          "model_module": "@jupyter-widgets/base",
          "model_name": "LayoutModel",
          "model_module_version": "1.2.0",
          "state": {
            "_model_module": "@jupyter-widgets/base",
            "_model_module_version": "1.2.0",
            "_model_name": "LayoutModel",
            "_view_count": null,
            "_view_module": "@jupyter-widgets/base",
            "_view_module_version": "1.2.0",
            "_view_name": "LayoutView",
            "align_content": null,
            "align_items": null,
            "align_self": null,
            "border": null,
            "bottom": null,
            "display": null,
            "flex": null,
            "flex_flow": null,
            "grid_area": null,
            "grid_auto_columns": null,
            "grid_auto_flow": null,
            "grid_auto_rows": null,
            "grid_column": null,
            "grid_gap": null,
            "grid_row": null,
            "grid_template_areas": null,
            "grid_template_columns": null,
            "grid_template_rows": null,
            "height": null,
            "justify_content": null,
            "justify_items": null,
            "left": null,
            "margin": null,
            "max_height": null,
            "max_width": null,
            "min_height": null,
            "min_width": null,
            "object_fit": null,
            "object_position": null,
            "order": null,
            "overflow": null,
            "overflow_x": null,
            "overflow_y": null,
            "padding": null,
            "right": null,
            "top": null,
            "visibility": null,
            "width": null
          }
        },
        "f8af564d0a8f4b58aba7e52d039125a5": {
          "model_module": "@jupyter-widgets/base",
          "model_name": "LayoutModel",
          "model_module_version": "1.2.0",
          "state": {
            "_model_module": "@jupyter-widgets/base",
            "_model_module_version": "1.2.0",
            "_model_name": "LayoutModel",
            "_view_count": null,
            "_view_module": "@jupyter-widgets/base",
            "_view_module_version": "1.2.0",
            "_view_name": "LayoutView",
            "align_content": null,
            "align_items": null,
            "align_self": null,
            "border": null,
            "bottom": null,
            "display": null,
            "flex": null,
            "flex_flow": null,
            "grid_area": null,
            "grid_auto_columns": null,
            "grid_auto_flow": null,
            "grid_auto_rows": null,
            "grid_column": null,
            "grid_gap": null,
            "grid_row": null,
            "grid_template_areas": null,
            "grid_template_columns": null,
            "grid_template_rows": null,
            "height": null,
            "justify_content": null,
            "justify_items": null,
            "left": null,
            "margin": null,
            "max_height": null,
            "max_width": null,
            "min_height": null,
            "min_width": null,
            "object_fit": null,
            "object_position": null,
            "order": null,
            "overflow": null,
            "overflow_x": null,
            "overflow_y": null,
            "padding": null,
            "right": null,
            "top": null,
            "visibility": null,
            "width": null
          }
        },
        "6c04519f8b224bd592495976abfb4b62": {
          "model_module": "@jupyter-widgets/controls",
          "model_name": "DescriptionStyleModel",
          "model_module_version": "1.5.0",
          "state": {
            "_model_module": "@jupyter-widgets/controls",
            "_model_module_version": "1.5.0",
            "_model_name": "DescriptionStyleModel",
            "_view_count": null,
            "_view_module": "@jupyter-widgets/base",
            "_view_module_version": "1.2.0",
            "_view_name": "StyleView",
            "description_width": ""
          }
        },
        "906aaf230c4945fe8f2e14ac1791625c": {
          "model_module": "@jupyter-widgets/base",
          "model_name": "LayoutModel",
          "model_module_version": "1.2.0",
          "state": {
            "_model_module": "@jupyter-widgets/base",
            "_model_module_version": "1.2.0",
            "_model_name": "LayoutModel",
            "_view_count": null,
            "_view_module": "@jupyter-widgets/base",
            "_view_module_version": "1.2.0",
            "_view_name": "LayoutView",
            "align_content": null,
            "align_items": null,
            "align_self": null,
            "border": null,
            "bottom": null,
            "display": null,
            "flex": null,
            "flex_flow": null,
            "grid_area": null,
            "grid_auto_columns": null,
            "grid_auto_flow": null,
            "grid_auto_rows": null,
            "grid_column": null,
            "grid_gap": null,
            "grid_row": null,
            "grid_template_areas": null,
            "grid_template_columns": null,
            "grid_template_rows": null,
            "height": null,
            "justify_content": null,
            "justify_items": null,
            "left": null,
            "margin": null,
            "max_height": null,
            "max_width": null,
            "min_height": null,
            "min_width": null,
            "object_fit": null,
            "object_position": null,
            "order": null,
            "overflow": null,
            "overflow_x": null,
            "overflow_y": null,
            "padding": null,
            "right": null,
            "top": null,
            "visibility": null,
            "width": null
          }
        },
        "fe18511071d84737b27aa23dd33cc548": {
          "model_module": "@jupyter-widgets/controls",
          "model_name": "ProgressStyleModel",
          "model_module_version": "1.5.0",
          "state": {
            "_model_module": "@jupyter-widgets/controls",
            "_model_module_version": "1.5.0",
            "_model_name": "ProgressStyleModel",
            "_view_count": null,
            "_view_module": "@jupyter-widgets/base",
            "_view_module_version": "1.2.0",
            "_view_name": "StyleView",
            "bar_color": null,
            "description_width": ""
          }
        },
        "1123c317840149a7acd5cc4b999b281a": {
          "model_module": "@jupyter-widgets/base",
          "model_name": "LayoutModel",
          "model_module_version": "1.2.0",
          "state": {
            "_model_module": "@jupyter-widgets/base",
            "_model_module_version": "1.2.0",
            "_model_name": "LayoutModel",
            "_view_count": null,
            "_view_module": "@jupyter-widgets/base",
            "_view_module_version": "1.2.0",
            "_view_name": "LayoutView",
            "align_content": null,
            "align_items": null,
            "align_self": null,
            "border": null,
            "bottom": null,
            "display": null,
            "flex": null,
            "flex_flow": null,
            "grid_area": null,
            "grid_auto_columns": null,
            "grid_auto_flow": null,
            "grid_auto_rows": null,
            "grid_column": null,
            "grid_gap": null,
            "grid_row": null,
            "grid_template_areas": null,
            "grid_template_columns": null,
            "grid_template_rows": null,
            "height": null,
            "justify_content": null,
            "justify_items": null,
            "left": null,
            "margin": null,
            "max_height": null,
            "max_width": null,
            "min_height": null,
            "min_width": null,
            "object_fit": null,
            "object_position": null,
            "order": null,
            "overflow": null,
            "overflow_x": null,
            "overflow_y": null,
            "padding": null,
            "right": null,
            "top": null,
            "visibility": null,
            "width": null
          }
        },
        "1228de7a782c406fb335957b092e9537": {
          "model_module": "@jupyter-widgets/controls",
          "model_name": "DescriptionStyleModel",
          "model_module_version": "1.5.0",
          "state": {
            "_model_module": "@jupyter-widgets/controls",
            "_model_module_version": "1.5.0",
            "_model_name": "DescriptionStyleModel",
            "_view_count": null,
            "_view_module": "@jupyter-widgets/base",
            "_view_module_version": "1.2.0",
            "_view_name": "StyleView",
            "description_width": ""
          }
        },
        "b57948a47617459b80ef422594dc1b39": {
          "model_module": "@jupyter-widgets/controls",
          "model_name": "HBoxModel",
          "model_module_version": "1.5.0",
          "state": {
            "_dom_classes": [],
            "_model_module": "@jupyter-widgets/controls",
            "_model_module_version": "1.5.0",
            "_model_name": "HBoxModel",
            "_view_count": null,
            "_view_module": "@jupyter-widgets/controls",
            "_view_module_version": "1.5.0",
            "_view_name": "HBoxView",
            "box_style": "",
            "children": [
              "IPY_MODEL_4cc4edcc9aa74769b20fad08ad669d82",
              "IPY_MODEL_b21e7381bb894f9b900d1e388e534863",
              "IPY_MODEL_fb1a3acc77e24e15bbc9c527d511b40f"
            ],
            "layout": "IPY_MODEL_64c17e3fae80457d848df3799146a9fd"
          }
        },
        "4cc4edcc9aa74769b20fad08ad669d82": {
          "model_module": "@jupyter-widgets/controls",
          "model_name": "HTMLModel",
          "model_module_version": "1.5.0",
          "state": {
            "_dom_classes": [],
            "_model_module": "@jupyter-widgets/controls",
            "_model_module_version": "1.5.0",
            "_model_name": "HTMLModel",
            "_view_count": null,
            "_view_module": "@jupyter-widgets/controls",
            "_view_module_version": "1.5.0",
            "_view_name": "HTMLView",
            "description": "",
            "description_tooltip": null,
            "layout": "IPY_MODEL_aaccce48ff4944ce99e1da9a35eb5159",
            "placeholder": "​",
            "style": "IPY_MODEL_3ffac3c6621a451489ef9751ac5e5ca8",
            "value": "vocab.txt: 100%"
          }
        },
        "b21e7381bb894f9b900d1e388e534863": {
          "model_module": "@jupyter-widgets/controls",
          "model_name": "FloatProgressModel",
          "model_module_version": "1.5.0",
          "state": {
            "_dom_classes": [],
            "_model_module": "@jupyter-widgets/controls",
            "_model_module_version": "1.5.0",
            "_model_name": "FloatProgressModel",
            "_view_count": null,
            "_view_module": "@jupyter-widgets/controls",
            "_view_module_version": "1.5.0",
            "_view_name": "ProgressView",
            "bar_style": "success",
            "description": "",
            "description_tooltip": null,
            "layout": "IPY_MODEL_2778fd7332704c238d8e982f33704ef7",
            "max": 213450,
            "min": 0,
            "orientation": "horizontal",
            "style": "IPY_MODEL_717e08b0872a47c28eeeab3d782fa3e1",
            "value": 213450
          }
        },
        "fb1a3acc77e24e15bbc9c527d511b40f": {
          "model_module": "@jupyter-widgets/controls",
          "model_name": "HTMLModel",
          "model_module_version": "1.5.0",
          "state": {
            "_dom_classes": [],
            "_model_module": "@jupyter-widgets/controls",
            "_model_module_version": "1.5.0",
            "_model_name": "HTMLModel",
            "_view_count": null,
            "_view_module": "@jupyter-widgets/controls",
            "_view_module_version": "1.5.0",
            "_view_name": "HTMLView",
            "description": "",
            "description_tooltip": null,
            "layout": "IPY_MODEL_f12476c1551949109d75ec332295fd59",
            "placeholder": "​",
            "style": "IPY_MODEL_e719e91ba6f44f94a0417c12a36ec9bb",
            "value": " 213k/213k [00:00&lt;00:00, 1.61MB/s]"
          }
        },
        "64c17e3fae80457d848df3799146a9fd": {
          "model_module": "@jupyter-widgets/base",
          "model_name": "LayoutModel",
          "model_module_version": "1.2.0",
          "state": {
            "_model_module": "@jupyter-widgets/base",
            "_model_module_version": "1.2.0",
            "_model_name": "LayoutModel",
            "_view_count": null,
            "_view_module": "@jupyter-widgets/base",
            "_view_module_version": "1.2.0",
            "_view_name": "LayoutView",
            "align_content": null,
            "align_items": null,
            "align_self": null,
            "border": null,
            "bottom": null,
            "display": null,
            "flex": null,
            "flex_flow": null,
            "grid_area": null,
            "grid_auto_columns": null,
            "grid_auto_flow": null,
            "grid_auto_rows": null,
            "grid_column": null,
            "grid_gap": null,
            "grid_row": null,
            "grid_template_areas": null,
            "grid_template_columns": null,
            "grid_template_rows": null,
            "height": null,
            "justify_content": null,
            "justify_items": null,
            "left": null,
            "margin": null,
            "max_height": null,
            "max_width": null,
            "min_height": null,
            "min_width": null,
            "object_fit": null,
            "object_position": null,
            "order": null,
            "overflow": null,
            "overflow_x": null,
            "overflow_y": null,
            "padding": null,
            "right": null,
            "top": null,
            "visibility": null,
            "width": null
          }
        },
        "aaccce48ff4944ce99e1da9a35eb5159": {
          "model_module": "@jupyter-widgets/base",
          "model_name": "LayoutModel",
          "model_module_version": "1.2.0",
          "state": {
            "_model_module": "@jupyter-widgets/base",
            "_model_module_version": "1.2.0",
            "_model_name": "LayoutModel",
            "_view_count": null,
            "_view_module": "@jupyter-widgets/base",
            "_view_module_version": "1.2.0",
            "_view_name": "LayoutView",
            "align_content": null,
            "align_items": null,
            "align_self": null,
            "border": null,
            "bottom": null,
            "display": null,
            "flex": null,
            "flex_flow": null,
            "grid_area": null,
            "grid_auto_columns": null,
            "grid_auto_flow": null,
            "grid_auto_rows": null,
            "grid_column": null,
            "grid_gap": null,
            "grid_row": null,
            "grid_template_areas": null,
            "grid_template_columns": null,
            "grid_template_rows": null,
            "height": null,
            "justify_content": null,
            "justify_items": null,
            "left": null,
            "margin": null,
            "max_height": null,
            "max_width": null,
            "min_height": null,
            "min_width": null,
            "object_fit": null,
            "object_position": null,
            "order": null,
            "overflow": null,
            "overflow_x": null,
            "overflow_y": null,
            "padding": null,
            "right": null,
            "top": null,
            "visibility": null,
            "width": null
          }
        },
        "3ffac3c6621a451489ef9751ac5e5ca8": {
          "model_module": "@jupyter-widgets/controls",
          "model_name": "DescriptionStyleModel",
          "model_module_version": "1.5.0",
          "state": {
            "_model_module": "@jupyter-widgets/controls",
            "_model_module_version": "1.5.0",
            "_model_name": "DescriptionStyleModel",
            "_view_count": null,
            "_view_module": "@jupyter-widgets/base",
            "_view_module_version": "1.2.0",
            "_view_name": "StyleView",
            "description_width": ""
          }
        },
        "2778fd7332704c238d8e982f33704ef7": {
          "model_module": "@jupyter-widgets/base",
          "model_name": "LayoutModel",
          "model_module_version": "1.2.0",
          "state": {
            "_model_module": "@jupyter-widgets/base",
            "_model_module_version": "1.2.0",
            "_model_name": "LayoutModel",
            "_view_count": null,
            "_view_module": "@jupyter-widgets/base",
            "_view_module_version": "1.2.0",
            "_view_name": "LayoutView",
            "align_content": null,
            "align_items": null,
            "align_self": null,
            "border": null,
            "bottom": null,
            "display": null,
            "flex": null,
            "flex_flow": null,
            "grid_area": null,
            "grid_auto_columns": null,
            "grid_auto_flow": null,
            "grid_auto_rows": null,
            "grid_column": null,
            "grid_gap": null,
            "grid_row": null,
            "grid_template_areas": null,
            "grid_template_columns": null,
            "grid_template_rows": null,
            "height": null,
            "justify_content": null,
            "justify_items": null,
            "left": null,
            "margin": null,
            "max_height": null,
            "max_width": null,
            "min_height": null,
            "min_width": null,
            "object_fit": null,
            "object_position": null,
            "order": null,
            "overflow": null,
            "overflow_x": null,
            "overflow_y": null,
            "padding": null,
            "right": null,
            "top": null,
            "visibility": null,
            "width": null
          }
        },
        "717e08b0872a47c28eeeab3d782fa3e1": {
          "model_module": "@jupyter-widgets/controls",
          "model_name": "ProgressStyleModel",
          "model_module_version": "1.5.0",
          "state": {
            "_model_module": "@jupyter-widgets/controls",
            "_model_module_version": "1.5.0",
            "_model_name": "ProgressStyleModel",
            "_view_count": null,
            "_view_module": "@jupyter-widgets/base",
            "_view_module_version": "1.2.0",
            "_view_name": "StyleView",
            "bar_color": null,
            "description_width": ""
          }
        },
        "f12476c1551949109d75ec332295fd59": {
          "model_module": "@jupyter-widgets/base",
          "model_name": "LayoutModel",
          "model_module_version": "1.2.0",
          "state": {
            "_model_module": "@jupyter-widgets/base",
            "_model_module_version": "1.2.0",
            "_model_name": "LayoutModel",
            "_view_count": null,
            "_view_module": "@jupyter-widgets/base",
            "_view_module_version": "1.2.0",
            "_view_name": "LayoutView",
            "align_content": null,
            "align_items": null,
            "align_self": null,
            "border": null,
            "bottom": null,
            "display": null,
            "flex": null,
            "flex_flow": null,
            "grid_area": null,
            "grid_auto_columns": null,
            "grid_auto_flow": null,
            "grid_auto_rows": null,
            "grid_column": null,
            "grid_gap": null,
            "grid_row": null,
            "grid_template_areas": null,
            "grid_template_columns": null,
            "grid_template_rows": null,
            "height": null,
            "justify_content": null,
            "justify_items": null,
            "left": null,
            "margin": null,
            "max_height": null,
            "max_width": null,
            "min_height": null,
            "min_width": null,
            "object_fit": null,
            "object_position": null,
            "order": null,
            "overflow": null,
            "overflow_x": null,
            "overflow_y": null,
            "padding": null,
            "right": null,
            "top": null,
            "visibility": null,
            "width": null
          }
        },
        "e719e91ba6f44f94a0417c12a36ec9bb": {
          "model_module": "@jupyter-widgets/controls",
          "model_name": "DescriptionStyleModel",
          "model_module_version": "1.5.0",
          "state": {
            "_model_module": "@jupyter-widgets/controls",
            "_model_module_version": "1.5.0",
            "_model_name": "DescriptionStyleModel",
            "_view_count": null,
            "_view_module": "@jupyter-widgets/base",
            "_view_module_version": "1.2.0",
            "_view_name": "StyleView",
            "description_width": ""
          }
        },
        "961b2564b6b1493a9c5d5c44aced8d08": {
          "model_module": "@jupyter-widgets/controls",
          "model_name": "HBoxModel",
          "model_module_version": "1.5.0",
          "state": {
            "_dom_classes": [],
            "_model_module": "@jupyter-widgets/controls",
            "_model_module_version": "1.5.0",
            "_model_name": "HBoxModel",
            "_view_count": null,
            "_view_module": "@jupyter-widgets/controls",
            "_view_module_version": "1.5.0",
            "_view_name": "HBoxView",
            "box_style": "",
            "children": [
              "IPY_MODEL_e9113ad6ba114684a2a00484b4744d37",
              "IPY_MODEL_6f2213ff2b004398a5cfd8337604b46b",
              "IPY_MODEL_65fd2e0092494a74b4e4f8d4bc82f2ee"
            ],
            "layout": "IPY_MODEL_f9cf419a963b42eba0efbc71ccb97ae1"
          }
        },
        "e9113ad6ba114684a2a00484b4744d37": {
          "model_module": "@jupyter-widgets/controls",
          "model_name": "HTMLModel",
          "model_module_version": "1.5.0",
          "state": {
            "_dom_classes": [],
            "_model_module": "@jupyter-widgets/controls",
            "_model_module_version": "1.5.0",
            "_model_name": "HTMLModel",
            "_view_count": null,
            "_view_module": "@jupyter-widgets/controls",
            "_view_module_version": "1.5.0",
            "_view_name": "HTMLView",
            "description": "",
            "description_tooltip": null,
            "layout": "IPY_MODEL_7f331455829644d9bb2be40c238104f3",
            "placeholder": "​",
            "style": "IPY_MODEL_9655d7041e6843af9f2973c508dfd931",
            "value": "tokenizer.json: 100%"
          }
        },
        "6f2213ff2b004398a5cfd8337604b46b": {
          "model_module": "@jupyter-widgets/controls",
          "model_name": "FloatProgressModel",
          "model_module_version": "1.5.0",
          "state": {
            "_dom_classes": [],
            "_model_module": "@jupyter-widgets/controls",
            "_model_module_version": "1.5.0",
            "_model_name": "FloatProgressModel",
            "_view_count": null,
            "_view_module": "@jupyter-widgets/controls",
            "_view_module_version": "1.5.0",
            "_view_name": "ProgressView",
            "bar_style": "success",
            "description": "",
            "description_tooltip": null,
            "layout": "IPY_MODEL_452701432e6e457aba7d175161cd0aa2",
            "max": 435797,
            "min": 0,
            "orientation": "horizontal",
            "style": "IPY_MODEL_d2646fc21fc64ce9a466328c0e5dc57d",
            "value": 435797
          }
        },
        "65fd2e0092494a74b4e4f8d4bc82f2ee": {
          "model_module": "@jupyter-widgets/controls",
          "model_name": "HTMLModel",
          "model_module_version": "1.5.0",
          "state": {
            "_dom_classes": [],
            "_model_module": "@jupyter-widgets/controls",
            "_model_module_version": "1.5.0",
            "_model_name": "HTMLModel",
            "_view_count": null,
            "_view_module": "@jupyter-widgets/controls",
            "_view_module_version": "1.5.0",
            "_view_name": "HTMLView",
            "description": "",
            "description_tooltip": null,
            "layout": "IPY_MODEL_5b1225713be24a9dae146607519093df",
            "placeholder": "​",
            "style": "IPY_MODEL_4950677f36604f56a6de848a1802307c",
            "value": " 436k/436k [00:00&lt;00:00, 3.31MB/s]"
          }
        },
        "f9cf419a963b42eba0efbc71ccb97ae1": {
          "model_module": "@jupyter-widgets/base",
          "model_name": "LayoutModel",
          "model_module_version": "1.2.0",
          "state": {
            "_model_module": "@jupyter-widgets/base",
            "_model_module_version": "1.2.0",
            "_model_name": "LayoutModel",
            "_view_count": null,
            "_view_module": "@jupyter-widgets/base",
            "_view_module_version": "1.2.0",
            "_view_name": "LayoutView",
            "align_content": null,
            "align_items": null,
            "align_self": null,
            "border": null,
            "bottom": null,
            "display": null,
            "flex": null,
            "flex_flow": null,
            "grid_area": null,
            "grid_auto_columns": null,
            "grid_auto_flow": null,
            "grid_auto_rows": null,
            "grid_column": null,
            "grid_gap": null,
            "grid_row": null,
            "grid_template_areas": null,
            "grid_template_columns": null,
            "grid_template_rows": null,
            "height": null,
            "justify_content": null,
            "justify_items": null,
            "left": null,
            "margin": null,
            "max_height": null,
            "max_width": null,
            "min_height": null,
            "min_width": null,
            "object_fit": null,
            "object_position": null,
            "order": null,
            "overflow": null,
            "overflow_x": null,
            "overflow_y": null,
            "padding": null,
            "right": null,
            "top": null,
            "visibility": null,
            "width": null
          }
        },
        "7f331455829644d9bb2be40c238104f3": {
          "model_module": "@jupyter-widgets/base",
          "model_name": "LayoutModel",
          "model_module_version": "1.2.0",
          "state": {
            "_model_module": "@jupyter-widgets/base",
            "_model_module_version": "1.2.0",
            "_model_name": "LayoutModel",
            "_view_count": null,
            "_view_module": "@jupyter-widgets/base",
            "_view_module_version": "1.2.0",
            "_view_name": "LayoutView",
            "align_content": null,
            "align_items": null,
            "align_self": null,
            "border": null,
            "bottom": null,
            "display": null,
            "flex": null,
            "flex_flow": null,
            "grid_area": null,
            "grid_auto_columns": null,
            "grid_auto_flow": null,
            "grid_auto_rows": null,
            "grid_column": null,
            "grid_gap": null,
            "grid_row": null,
            "grid_template_areas": null,
            "grid_template_columns": null,
            "grid_template_rows": null,
            "height": null,
            "justify_content": null,
            "justify_items": null,
            "left": null,
            "margin": null,
            "max_height": null,
            "max_width": null,
            "min_height": null,
            "min_width": null,
            "object_fit": null,
            "object_position": null,
            "order": null,
            "overflow": null,
            "overflow_x": null,
            "overflow_y": null,
            "padding": null,
            "right": null,
            "top": null,
            "visibility": null,
            "width": null
          }
        },
        "9655d7041e6843af9f2973c508dfd931": {
          "model_module": "@jupyter-widgets/controls",
          "model_name": "DescriptionStyleModel",
          "model_module_version": "1.5.0",
          "state": {
            "_model_module": "@jupyter-widgets/controls",
            "_model_module_version": "1.5.0",
            "_model_name": "DescriptionStyleModel",
            "_view_count": null,
            "_view_module": "@jupyter-widgets/base",
            "_view_module_version": "1.2.0",
            "_view_name": "StyleView",
            "description_width": ""
          }
        },
        "452701432e6e457aba7d175161cd0aa2": {
          "model_module": "@jupyter-widgets/base",
          "model_name": "LayoutModel",
          "model_module_version": "1.2.0",
          "state": {
            "_model_module": "@jupyter-widgets/base",
            "_model_module_version": "1.2.0",
            "_model_name": "LayoutModel",
            "_view_count": null,
            "_view_module": "@jupyter-widgets/base",
            "_view_module_version": "1.2.0",
            "_view_name": "LayoutView",
            "align_content": null,
            "align_items": null,
            "align_self": null,
            "border": null,
            "bottom": null,
            "display": null,
            "flex": null,
            "flex_flow": null,
            "grid_area": null,
            "grid_auto_columns": null,
            "grid_auto_flow": null,
            "grid_auto_rows": null,
            "grid_column": null,
            "grid_gap": null,
            "grid_row": null,
            "grid_template_areas": null,
            "grid_template_columns": null,
            "grid_template_rows": null,
            "height": null,
            "justify_content": null,
            "justify_items": null,
            "left": null,
            "margin": null,
            "max_height": null,
            "max_width": null,
            "min_height": null,
            "min_width": null,
            "object_fit": null,
            "object_position": null,
            "order": null,
            "overflow": null,
            "overflow_x": null,
            "overflow_y": null,
            "padding": null,
            "right": null,
            "top": null,
            "visibility": null,
            "width": null
          }
        },
        "d2646fc21fc64ce9a466328c0e5dc57d": {
          "model_module": "@jupyter-widgets/controls",
          "model_name": "ProgressStyleModel",
          "model_module_version": "1.5.0",
          "state": {
            "_model_module": "@jupyter-widgets/controls",
            "_model_module_version": "1.5.0",
            "_model_name": "ProgressStyleModel",
            "_view_count": null,
            "_view_module": "@jupyter-widgets/base",
            "_view_module_version": "1.2.0",
            "_view_name": "StyleView",
            "bar_color": null,
            "description_width": ""
          }
        },
        "5b1225713be24a9dae146607519093df": {
          "model_module": "@jupyter-widgets/base",
          "model_name": "LayoutModel",
          "model_module_version": "1.2.0",
          "state": {
            "_model_module": "@jupyter-widgets/base",
            "_model_module_version": "1.2.0",
            "_model_name": "LayoutModel",
            "_view_count": null,
            "_view_module": "@jupyter-widgets/base",
            "_view_module_version": "1.2.0",
            "_view_name": "LayoutView",
            "align_content": null,
            "align_items": null,
            "align_self": null,
            "border": null,
            "bottom": null,
            "display": null,
            "flex": null,
            "flex_flow": null,
            "grid_area": null,
            "grid_auto_columns": null,
            "grid_auto_flow": null,
            "grid_auto_rows": null,
            "grid_column": null,
            "grid_gap": null,
            "grid_row": null,
            "grid_template_areas": null,
            "grid_template_columns": null,
            "grid_template_rows": null,
            "height": null,
            "justify_content": null,
            "justify_items": null,
            "left": null,
            "margin": null,
            "max_height": null,
            "max_width": null,
            "min_height": null,
            "min_width": null,
            "object_fit": null,
            "object_position": null,
            "order": null,
            "overflow": null,
            "overflow_x": null,
            "overflow_y": null,
            "padding": null,
            "right": null,
            "top": null,
            "visibility": null,
            "width": null
          }
        },
        "4950677f36604f56a6de848a1802307c": {
          "model_module": "@jupyter-widgets/controls",
          "model_name": "DescriptionStyleModel",
          "model_module_version": "1.5.0",
          "state": {
            "_model_module": "@jupyter-widgets/controls",
            "_model_module_version": "1.5.0",
            "_model_name": "DescriptionStyleModel",
            "_view_count": null,
            "_view_module": "@jupyter-widgets/base",
            "_view_module_version": "1.2.0",
            "_view_name": "StyleView",
            "description_width": ""
          }
        },
        "b9c43cc7f79842b9a409beb767457a4b": {
          "model_module": "@jupyter-widgets/controls",
          "model_name": "HBoxModel",
          "model_module_version": "1.5.0",
          "state": {
            "_dom_classes": [],
            "_model_module": "@jupyter-widgets/controls",
            "_model_module_version": "1.5.0",
            "_model_name": "HBoxModel",
            "_view_count": null,
            "_view_module": "@jupyter-widgets/controls",
            "_view_module_version": "1.5.0",
            "_view_name": "HBoxView",
            "box_style": "",
            "children": [
              "IPY_MODEL_e8fde6299f034a1eb3aae0f7f4ee6f51",
              "IPY_MODEL_5bc8d4777be045a3a1df164e1077dbc5",
              "IPY_MODEL_445cdb7871c142baa79dccca746267f0"
            ],
            "layout": "IPY_MODEL_ec42a76bee504b2a9a78c840e6ad13a4"
          }
        },
        "e8fde6299f034a1eb3aae0f7f4ee6f51": {
          "model_module": "@jupyter-widgets/controls",
          "model_name": "HTMLModel",
          "model_module_version": "1.5.0",
          "state": {
            "_dom_classes": [],
            "_model_module": "@jupyter-widgets/controls",
            "_model_module_version": "1.5.0",
            "_model_name": "HTMLModel",
            "_view_count": null,
            "_view_module": "@jupyter-widgets/controls",
            "_view_module_version": "1.5.0",
            "_view_name": "HTMLView",
            "description": "",
            "description_tooltip": null,
            "layout": "IPY_MODEL_f700642b3f904932ba01480d257ef851",
            "placeholder": "​",
            "style": "IPY_MODEL_0fa00bdeaa5e4a3ca53dc8863e920575",
            "value": "config.json: 100%"
          }
        },
        "5bc8d4777be045a3a1df164e1077dbc5": {
          "model_module": "@jupyter-widgets/controls",
          "model_name": "FloatProgressModel",
          "model_module_version": "1.5.0",
          "state": {
            "_dom_classes": [],
            "_model_module": "@jupyter-widgets/controls",
            "_model_module_version": "1.5.0",
            "_model_name": "FloatProgressModel",
            "_view_count": null,
            "_view_module": "@jupyter-widgets/controls",
            "_view_module_version": "1.5.0",
            "_view_name": "ProgressView",
            "bar_style": "success",
            "description": "",
            "description_tooltip": null,
            "layout": "IPY_MODEL_86be853093be47838e4b6ef63ef7956b",
            "max": 760,
            "min": 0,
            "orientation": "horizontal",
            "style": "IPY_MODEL_f3edbc82bc984a25a35e105b8a43c8ab",
            "value": 760
          }
        },
        "445cdb7871c142baa79dccca746267f0": {
          "model_module": "@jupyter-widgets/controls",
          "model_name": "HTMLModel",
          "model_module_version": "1.5.0",
          "state": {
            "_dom_classes": [],
            "_model_module": "@jupyter-widgets/controls",
            "_model_module_version": "1.5.0",
            "_model_name": "HTMLModel",
            "_view_count": null,
            "_view_module": "@jupyter-widgets/controls",
            "_view_module_version": "1.5.0",
            "_view_name": "HTMLView",
            "description": "",
            "description_tooltip": null,
            "layout": "IPY_MODEL_a5e77d121a2b470a8047aecc9a781ce0",
            "placeholder": "​",
            "style": "IPY_MODEL_76c7617182e84b19b7b0594776b93b5f",
            "value": " 760/760 [00:00&lt;00:00, 27.0kB/s]"
          }
        },
        "ec42a76bee504b2a9a78c840e6ad13a4": {
          "model_module": "@jupyter-widgets/base",
          "model_name": "LayoutModel",
          "model_module_version": "1.2.0",
          "state": {
            "_model_module": "@jupyter-widgets/base",
            "_model_module_version": "1.2.0",
            "_model_name": "LayoutModel",
            "_view_count": null,
            "_view_module": "@jupyter-widgets/base",
            "_view_module_version": "1.2.0",
            "_view_name": "LayoutView",
            "align_content": null,
            "align_items": null,
            "align_self": null,
            "border": null,
            "bottom": null,
            "display": null,
            "flex": null,
            "flex_flow": null,
            "grid_area": null,
            "grid_auto_columns": null,
            "grid_auto_flow": null,
            "grid_auto_rows": null,
            "grid_column": null,
            "grid_gap": null,
            "grid_row": null,
            "grid_template_areas": null,
            "grid_template_columns": null,
            "grid_template_rows": null,
            "height": null,
            "justify_content": null,
            "justify_items": null,
            "left": null,
            "margin": null,
            "max_height": null,
            "max_width": null,
            "min_height": null,
            "min_width": null,
            "object_fit": null,
            "object_position": null,
            "order": null,
            "overflow": null,
            "overflow_x": null,
            "overflow_y": null,
            "padding": null,
            "right": null,
            "top": null,
            "visibility": null,
            "width": null
          }
        },
        "f700642b3f904932ba01480d257ef851": {
          "model_module": "@jupyter-widgets/base",
          "model_name": "LayoutModel",
          "model_module_version": "1.2.0",
          "state": {
            "_model_module": "@jupyter-widgets/base",
            "_model_module_version": "1.2.0",
            "_model_name": "LayoutModel",
            "_view_count": null,
            "_view_module": "@jupyter-widgets/base",
            "_view_module_version": "1.2.0",
            "_view_name": "LayoutView",
            "align_content": null,
            "align_items": null,
            "align_self": null,
            "border": null,
            "bottom": null,
            "display": null,
            "flex": null,
            "flex_flow": null,
            "grid_area": null,
            "grid_auto_columns": null,
            "grid_auto_flow": null,
            "grid_auto_rows": null,
            "grid_column": null,
            "grid_gap": null,
            "grid_row": null,
            "grid_template_areas": null,
            "grid_template_columns": null,
            "grid_template_rows": null,
            "height": null,
            "justify_content": null,
            "justify_items": null,
            "left": null,
            "margin": null,
            "max_height": null,
            "max_width": null,
            "min_height": null,
            "min_width": null,
            "object_fit": null,
            "object_position": null,
            "order": null,
            "overflow": null,
            "overflow_x": null,
            "overflow_y": null,
            "padding": null,
            "right": null,
            "top": null,
            "visibility": null,
            "width": null
          }
        },
        "0fa00bdeaa5e4a3ca53dc8863e920575": {
          "model_module": "@jupyter-widgets/controls",
          "model_name": "DescriptionStyleModel",
          "model_module_version": "1.5.0",
          "state": {
            "_model_module": "@jupyter-widgets/controls",
            "_model_module_version": "1.5.0",
            "_model_name": "DescriptionStyleModel",
            "_view_count": null,
            "_view_module": "@jupyter-widgets/base",
            "_view_module_version": "1.2.0",
            "_view_name": "StyleView",
            "description_width": ""
          }
        },
        "86be853093be47838e4b6ef63ef7956b": {
          "model_module": "@jupyter-widgets/base",
          "model_name": "LayoutModel",
          "model_module_version": "1.2.0",
          "state": {
            "_model_module": "@jupyter-widgets/base",
            "_model_module_version": "1.2.0",
            "_model_name": "LayoutModel",
            "_view_count": null,
            "_view_module": "@jupyter-widgets/base",
            "_view_module_version": "1.2.0",
            "_view_name": "LayoutView",
            "align_content": null,
            "align_items": null,
            "align_self": null,
            "border": null,
            "bottom": null,
            "display": null,
            "flex": null,
            "flex_flow": null,
            "grid_area": null,
            "grid_auto_columns": null,
            "grid_auto_flow": null,
            "grid_auto_rows": null,
            "grid_column": null,
            "grid_gap": null,
            "grid_row": null,
            "grid_template_areas": null,
            "grid_template_columns": null,
            "grid_template_rows": null,
            "height": null,
            "justify_content": null,
            "justify_items": null,
            "left": null,
            "margin": null,
            "max_height": null,
            "max_width": null,
            "min_height": null,
            "min_width": null,
            "object_fit": null,
            "object_position": null,
            "order": null,
            "overflow": null,
            "overflow_x": null,
            "overflow_y": null,
            "padding": null,
            "right": null,
            "top": null,
            "visibility": null,
            "width": null
          }
        },
        "f3edbc82bc984a25a35e105b8a43c8ab": {
          "model_module": "@jupyter-widgets/controls",
          "model_name": "ProgressStyleModel",
          "model_module_version": "1.5.0",
          "state": {
            "_model_module": "@jupyter-widgets/controls",
            "_model_module_version": "1.5.0",
            "_model_name": "ProgressStyleModel",
            "_view_count": null,
            "_view_module": "@jupyter-widgets/base",
            "_view_module_version": "1.2.0",
            "_view_name": "StyleView",
            "bar_color": null,
            "description_width": ""
          }
        },
        "a5e77d121a2b470a8047aecc9a781ce0": {
          "model_module": "@jupyter-widgets/base",
          "model_name": "LayoutModel",
          "model_module_version": "1.2.0",
          "state": {
            "_model_module": "@jupyter-widgets/base",
            "_model_module_version": "1.2.0",
            "_model_name": "LayoutModel",
            "_view_count": null,
            "_view_module": "@jupyter-widgets/base",
            "_view_module_version": "1.2.0",
            "_view_name": "LayoutView",
            "align_content": null,
            "align_items": null,
            "align_self": null,
            "border": null,
            "bottom": null,
            "display": null,
            "flex": null,
            "flex_flow": null,
            "grid_area": null,
            "grid_auto_columns": null,
            "grid_auto_flow": null,
            "grid_auto_rows": null,
            "grid_column": null,
            "grid_gap": null,
            "grid_row": null,
            "grid_template_areas": null,
            "grid_template_columns": null,
            "grid_template_rows": null,
            "height": null,
            "justify_content": null,
            "justify_items": null,
            "left": null,
            "margin": null,
            "max_height": null,
            "max_width": null,
            "min_height": null,
            "min_width": null,
            "object_fit": null,
            "object_position": null,
            "order": null,
            "overflow": null,
            "overflow_x": null,
            "overflow_y": null,
            "padding": null,
            "right": null,
            "top": null,
            "visibility": null,
            "width": null
          }
        },
        "76c7617182e84b19b7b0594776b93b5f": {
          "model_module": "@jupyter-widgets/controls",
          "model_name": "DescriptionStyleModel",
          "model_module_version": "1.5.0",
          "state": {
            "_model_module": "@jupyter-widgets/controls",
            "_model_module_version": "1.5.0",
            "_model_name": "DescriptionStyleModel",
            "_view_count": null,
            "_view_module": "@jupyter-widgets/base",
            "_view_module_version": "1.2.0",
            "_view_name": "StyleView",
            "description_width": ""
          }
        },
        "2294ce3389054f62aa664608e64f663f": {
          "model_module": "@jupyter-widgets/controls",
          "model_name": "HBoxModel",
          "model_module_version": "1.5.0",
          "state": {
            "_dom_classes": [],
            "_model_module": "@jupyter-widgets/controls",
            "_model_module_version": "1.5.0",
            "_model_name": "HBoxModel",
            "_view_count": null,
            "_view_module": "@jupyter-widgets/controls",
            "_view_module_version": "1.5.0",
            "_view_name": "HBoxView",
            "box_style": "",
            "children": [
              "IPY_MODEL_2bd60ac38920422db3ccf7427cbdca48",
              "IPY_MODEL_c390950bfb354449b559b4bded4d30f4",
              "IPY_MODEL_5db47629b57f4232b1e1615312a0e89b"
            ],
            "layout": "IPY_MODEL_6efefb49d1c447618c9ccecd295c3dc4"
          }
        },
        "2bd60ac38920422db3ccf7427cbdca48": {
          "model_module": "@jupyter-widgets/controls",
          "model_name": "HTMLModel",
          "model_module_version": "1.5.0",
          "state": {
            "_dom_classes": [],
            "_model_module": "@jupyter-widgets/controls",
            "_model_module_version": "1.5.0",
            "_model_name": "HTMLModel",
            "_view_count": null,
            "_view_module": "@jupyter-widgets/controls",
            "_view_module_version": "1.5.0",
            "_view_name": "HTMLView",
            "description": "",
            "description_tooltip": null,
            "layout": "IPY_MODEL_486c77e4b1e5416481d5d05ed913c661",
            "placeholder": "​",
            "style": "IPY_MODEL_ddc2bd3d0280441c8dc6f504c3bb5795",
            "value": "spiece.model: 100%"
          }
        },
        "c390950bfb354449b559b4bded4d30f4": {
          "model_module": "@jupyter-widgets/controls",
          "model_name": "FloatProgressModel",
          "model_module_version": "1.5.0",
          "state": {
            "_dom_classes": [],
            "_model_module": "@jupyter-widgets/controls",
            "_model_module_version": "1.5.0",
            "_model_name": "FloatProgressModel",
            "_view_count": null,
            "_view_module": "@jupyter-widgets/controls",
            "_view_module_version": "1.5.0",
            "_view_name": "ProgressView",
            "bar_style": "success",
            "description": "",
            "description_tooltip": null,
            "layout": "IPY_MODEL_c6c8387902054ca2877af59ede3b17f0",
            "max": 798011,
            "min": 0,
            "orientation": "horizontal",
            "style": "IPY_MODEL_0aa4f9ffedc0408fa12af1050065a570",
            "value": 798011
          }
        },
        "5db47629b57f4232b1e1615312a0e89b": {
          "model_module": "@jupyter-widgets/controls",
          "model_name": "HTMLModel",
          "model_module_version": "1.5.0",
          "state": {
            "_dom_classes": [],
            "_model_module": "@jupyter-widgets/controls",
            "_model_module_version": "1.5.0",
            "_model_name": "HTMLModel",
            "_view_count": null,
            "_view_module": "@jupyter-widgets/controls",
            "_view_module_version": "1.5.0",
            "_view_name": "HTMLView",
            "description": "",
            "description_tooltip": null,
            "layout": "IPY_MODEL_ba181ccc82e548529fff56cbe4153c8b",
            "placeholder": "​",
            "style": "IPY_MODEL_603966cf66b4435d943e43ca8230c637",
            "value": " 798k/798k [00:00&lt;00:00, 5.72MB/s]"
          }
        },
        "6efefb49d1c447618c9ccecd295c3dc4": {
          "model_module": "@jupyter-widgets/base",
          "model_name": "LayoutModel",
          "model_module_version": "1.2.0",
          "state": {
            "_model_module": "@jupyter-widgets/base",
            "_model_module_version": "1.2.0",
            "_model_name": "LayoutModel",
            "_view_count": null,
            "_view_module": "@jupyter-widgets/base",
            "_view_module_version": "1.2.0",
            "_view_name": "LayoutView",
            "align_content": null,
            "align_items": null,
            "align_self": null,
            "border": null,
            "bottom": null,
            "display": null,
            "flex": null,
            "flex_flow": null,
            "grid_area": null,
            "grid_auto_columns": null,
            "grid_auto_flow": null,
            "grid_auto_rows": null,
            "grid_column": null,
            "grid_gap": null,
            "grid_row": null,
            "grid_template_areas": null,
            "grid_template_columns": null,
            "grid_template_rows": null,
            "height": null,
            "justify_content": null,
            "justify_items": null,
            "left": null,
            "margin": null,
            "max_height": null,
            "max_width": null,
            "min_height": null,
            "min_width": null,
            "object_fit": null,
            "object_position": null,
            "order": null,
            "overflow": null,
            "overflow_x": null,
            "overflow_y": null,
            "padding": null,
            "right": null,
            "top": null,
            "visibility": null,
            "width": null
          }
        },
        "486c77e4b1e5416481d5d05ed913c661": {
          "model_module": "@jupyter-widgets/base",
          "model_name": "LayoutModel",
          "model_module_version": "1.2.0",
          "state": {
            "_model_module": "@jupyter-widgets/base",
            "_model_module_version": "1.2.0",
            "_model_name": "LayoutModel",
            "_view_count": null,
            "_view_module": "@jupyter-widgets/base",
            "_view_module_version": "1.2.0",
            "_view_name": "LayoutView",
            "align_content": null,
            "align_items": null,
            "align_self": null,
            "border": null,
            "bottom": null,
            "display": null,
            "flex": null,
            "flex_flow": null,
            "grid_area": null,
            "grid_auto_columns": null,
            "grid_auto_flow": null,
            "grid_auto_rows": null,
            "grid_column": null,
            "grid_gap": null,
            "grid_row": null,
            "grid_template_areas": null,
            "grid_template_columns": null,
            "grid_template_rows": null,
            "height": null,
            "justify_content": null,
            "justify_items": null,
            "left": null,
            "margin": null,
            "max_height": null,
            "max_width": null,
            "min_height": null,
            "min_width": null,
            "object_fit": null,
            "object_position": null,
            "order": null,
            "overflow": null,
            "overflow_x": null,
            "overflow_y": null,
            "padding": null,
            "right": null,
            "top": null,
            "visibility": null,
            "width": null
          }
        },
        "ddc2bd3d0280441c8dc6f504c3bb5795": {
          "model_module": "@jupyter-widgets/controls",
          "model_name": "DescriptionStyleModel",
          "model_module_version": "1.5.0",
          "state": {
            "_model_module": "@jupyter-widgets/controls",
            "_model_module_version": "1.5.0",
            "_model_name": "DescriptionStyleModel",
            "_view_count": null,
            "_view_module": "@jupyter-widgets/base",
            "_view_module_version": "1.2.0",
            "_view_name": "StyleView",
            "description_width": ""
          }
        },
        "c6c8387902054ca2877af59ede3b17f0": {
          "model_module": "@jupyter-widgets/base",
          "model_name": "LayoutModel",
          "model_module_version": "1.2.0",
          "state": {
            "_model_module": "@jupyter-widgets/base",
            "_model_module_version": "1.2.0",
            "_model_name": "LayoutModel",
            "_view_count": null,
            "_view_module": "@jupyter-widgets/base",
            "_view_module_version": "1.2.0",
            "_view_name": "LayoutView",
            "align_content": null,
            "align_items": null,
            "align_self": null,
            "border": null,
            "bottom": null,
            "display": null,
            "flex": null,
            "flex_flow": null,
            "grid_area": null,
            "grid_auto_columns": null,
            "grid_auto_flow": null,
            "grid_auto_rows": null,
            "grid_column": null,
            "grid_gap": null,
            "grid_row": null,
            "grid_template_areas": null,
            "grid_template_columns": null,
            "grid_template_rows": null,
            "height": null,
            "justify_content": null,
            "justify_items": null,
            "left": null,
            "margin": null,
            "max_height": null,
            "max_width": null,
            "min_height": null,
            "min_width": null,
            "object_fit": null,
            "object_position": null,
            "order": null,
            "overflow": null,
            "overflow_x": null,
            "overflow_y": null,
            "padding": null,
            "right": null,
            "top": null,
            "visibility": null,
            "width": null
          }
        },
        "0aa4f9ffedc0408fa12af1050065a570": {
          "model_module": "@jupyter-widgets/controls",
          "model_name": "ProgressStyleModel",
          "model_module_version": "1.5.0",
          "state": {
            "_model_module": "@jupyter-widgets/controls",
            "_model_module_version": "1.5.0",
            "_model_name": "ProgressStyleModel",
            "_view_count": null,
            "_view_module": "@jupyter-widgets/base",
            "_view_module_version": "1.2.0",
            "_view_name": "StyleView",
            "bar_color": null,
            "description_width": ""
          }
        },
        "ba181ccc82e548529fff56cbe4153c8b": {
          "model_module": "@jupyter-widgets/base",
          "model_name": "LayoutModel",
          "model_module_version": "1.2.0",
          "state": {
            "_model_module": "@jupyter-widgets/base",
            "_model_module_version": "1.2.0",
            "_model_name": "LayoutModel",
            "_view_count": null,
            "_view_module": "@jupyter-widgets/base",
            "_view_module_version": "1.2.0",
            "_view_name": "LayoutView",
            "align_content": null,
            "align_items": null,
            "align_self": null,
            "border": null,
            "bottom": null,
            "display": null,
            "flex": null,
            "flex_flow": null,
            "grid_area": null,
            "grid_auto_columns": null,
            "grid_auto_flow": null,
            "grid_auto_rows": null,
            "grid_column": null,
            "grid_gap": null,
            "grid_row": null,
            "grid_template_areas": null,
            "grid_template_columns": null,
            "grid_template_rows": null,
            "height": null,
            "justify_content": null,
            "justify_items": null,
            "left": null,
            "margin": null,
            "max_height": null,
            "max_width": null,
            "min_height": null,
            "min_width": null,
            "object_fit": null,
            "object_position": null,
            "order": null,
            "overflow": null,
            "overflow_x": null,
            "overflow_y": null,
            "padding": null,
            "right": null,
            "top": null,
            "visibility": null,
            "width": null
          }
        },
        "603966cf66b4435d943e43ca8230c637": {
          "model_module": "@jupyter-widgets/controls",
          "model_name": "DescriptionStyleModel",
          "model_module_version": "1.5.0",
          "state": {
            "_model_module": "@jupyter-widgets/controls",
            "_model_module_version": "1.5.0",
            "_model_name": "DescriptionStyleModel",
            "_view_count": null,
            "_view_module": "@jupyter-widgets/base",
            "_view_module_version": "1.2.0",
            "_view_name": "StyleView",
            "description_width": ""
          }
        },
        "0c46b0fb6c3f4ba4a6885043674ccbf4": {
          "model_module": "@jupyter-widgets/controls",
          "model_name": "HBoxModel",
          "model_module_version": "1.5.0",
          "state": {
            "_dom_classes": [],
            "_model_module": "@jupyter-widgets/controls",
            "_model_module_version": "1.5.0",
            "_model_name": "HBoxModel",
            "_view_count": null,
            "_view_module": "@jupyter-widgets/controls",
            "_view_module_version": "1.5.0",
            "_view_name": "HBoxView",
            "box_style": "",
            "children": [
              "IPY_MODEL_f289c7b30ca943768f6f5094253c3e55",
              "IPY_MODEL_c36269d35b6640cea6fe4f79dbf0db32",
              "IPY_MODEL_ddc3748d298e45d3aaf0de230e602aad"
            ],
            "layout": "IPY_MODEL_2ede239d93524e37822b2da1b87ec656"
          }
        },
        "f289c7b30ca943768f6f5094253c3e55": {
          "model_module": "@jupyter-widgets/controls",
          "model_name": "HTMLModel",
          "model_module_version": "1.5.0",
          "state": {
            "_dom_classes": [],
            "_model_module": "@jupyter-widgets/controls",
            "_model_module_version": "1.5.0",
            "_model_name": "HTMLModel",
            "_view_count": null,
            "_view_module": "@jupyter-widgets/controls",
            "_view_module_version": "1.5.0",
            "_view_name": "HTMLView",
            "description": "",
            "description_tooltip": null,
            "layout": "IPY_MODEL_713cb1e7bf6c40f4b49a1976c16b2ffc",
            "placeholder": "​",
            "style": "IPY_MODEL_5dd92d62ce3143f08bdf603618c5f4e9",
            "value": "tokenizer.json: 100%"
          }
        },
        "c36269d35b6640cea6fe4f79dbf0db32": {
          "model_module": "@jupyter-widgets/controls",
          "model_name": "FloatProgressModel",
          "model_module_version": "1.5.0",
          "state": {
            "_dom_classes": [],
            "_model_module": "@jupyter-widgets/controls",
            "_model_module_version": "1.5.0",
            "_model_name": "FloatProgressModel",
            "_view_count": null,
            "_view_module": "@jupyter-widgets/controls",
            "_view_module_version": "1.5.0",
            "_view_name": "ProgressView",
            "bar_style": "success",
            "description": "",
            "description_tooltip": null,
            "layout": "IPY_MODEL_3c9ce106655f402d8d1b93a672d8db8e",
            "max": 1382015,
            "min": 0,
            "orientation": "horizontal",
            "style": "IPY_MODEL_ee69f69c781a4750b4569a6c64df43c2",
            "value": 1382015
          }
        },
        "ddc3748d298e45d3aaf0de230e602aad": {
          "model_module": "@jupyter-widgets/controls",
          "model_name": "HTMLModel",
          "model_module_version": "1.5.0",
          "state": {
            "_dom_classes": [],
            "_model_module": "@jupyter-widgets/controls",
            "_model_module_version": "1.5.0",
            "_model_name": "HTMLModel",
            "_view_count": null,
            "_view_module": "@jupyter-widgets/controls",
            "_view_module_version": "1.5.0",
            "_view_name": "HTMLView",
            "description": "",
            "description_tooltip": null,
            "layout": "IPY_MODEL_6c66850bb9b745ee801df5612edb1cad",
            "placeholder": "​",
            "style": "IPY_MODEL_bd08911615e940b3a5f3cd2722293c49",
            "value": " 1.38M/1.38M [00:00&lt;00:00, 5.33MB/s]"
          }
        },
        "2ede239d93524e37822b2da1b87ec656": {
          "model_module": "@jupyter-widgets/base",
          "model_name": "LayoutModel",
          "model_module_version": "1.2.0",
          "state": {
            "_model_module": "@jupyter-widgets/base",
            "_model_module_version": "1.2.0",
            "_model_name": "LayoutModel",
            "_view_count": null,
            "_view_module": "@jupyter-widgets/base",
            "_view_module_version": "1.2.0",
            "_view_name": "LayoutView",
            "align_content": null,
            "align_items": null,
            "align_self": null,
            "border": null,
            "bottom": null,
            "display": null,
            "flex": null,
            "flex_flow": null,
            "grid_area": null,
            "grid_auto_columns": null,
            "grid_auto_flow": null,
            "grid_auto_rows": null,
            "grid_column": null,
            "grid_gap": null,
            "grid_row": null,
            "grid_template_areas": null,
            "grid_template_columns": null,
            "grid_template_rows": null,
            "height": null,
            "justify_content": null,
            "justify_items": null,
            "left": null,
            "margin": null,
            "max_height": null,
            "max_width": null,
            "min_height": null,
            "min_width": null,
            "object_fit": null,
            "object_position": null,
            "order": null,
            "overflow": null,
            "overflow_x": null,
            "overflow_y": null,
            "padding": null,
            "right": null,
            "top": null,
            "visibility": null,
            "width": null
          }
        },
        "713cb1e7bf6c40f4b49a1976c16b2ffc": {
          "model_module": "@jupyter-widgets/base",
          "model_name": "LayoutModel",
          "model_module_version": "1.2.0",
          "state": {
            "_model_module": "@jupyter-widgets/base",
            "_model_module_version": "1.2.0",
            "_model_name": "LayoutModel",
            "_view_count": null,
            "_view_module": "@jupyter-widgets/base",
            "_view_module_version": "1.2.0",
            "_view_name": "LayoutView",
            "align_content": null,
            "align_items": null,
            "align_self": null,
            "border": null,
            "bottom": null,
            "display": null,
            "flex": null,
            "flex_flow": null,
            "grid_area": null,
            "grid_auto_columns": null,
            "grid_auto_flow": null,
            "grid_auto_rows": null,
            "grid_column": null,
            "grid_gap": null,
            "grid_row": null,
            "grid_template_areas": null,
            "grid_template_columns": null,
            "grid_template_rows": null,
            "height": null,
            "justify_content": null,
            "justify_items": null,
            "left": null,
            "margin": null,
            "max_height": null,
            "max_width": null,
            "min_height": null,
            "min_width": null,
            "object_fit": null,
            "object_position": null,
            "order": null,
            "overflow": null,
            "overflow_x": null,
            "overflow_y": null,
            "padding": null,
            "right": null,
            "top": null,
            "visibility": null,
            "width": null
          }
        },
        "5dd92d62ce3143f08bdf603618c5f4e9": {
          "model_module": "@jupyter-widgets/controls",
          "model_name": "DescriptionStyleModel",
          "model_module_version": "1.5.0",
          "state": {
            "_model_module": "@jupyter-widgets/controls",
            "_model_module_version": "1.5.0",
            "_model_name": "DescriptionStyleModel",
            "_view_count": null,
            "_view_module": "@jupyter-widgets/base",
            "_view_module_version": "1.2.0",
            "_view_name": "StyleView",
            "description_width": ""
          }
        },
        "3c9ce106655f402d8d1b93a672d8db8e": {
          "model_module": "@jupyter-widgets/base",
          "model_name": "LayoutModel",
          "model_module_version": "1.2.0",
          "state": {
            "_model_module": "@jupyter-widgets/base",
            "_model_module_version": "1.2.0",
            "_model_name": "LayoutModel",
            "_view_count": null,
            "_view_module": "@jupyter-widgets/base",
            "_view_module_version": "1.2.0",
            "_view_name": "LayoutView",
            "align_content": null,
            "align_items": null,
            "align_self": null,
            "border": null,
            "bottom": null,
            "display": null,
            "flex": null,
            "flex_flow": null,
            "grid_area": null,
            "grid_auto_columns": null,
            "grid_auto_flow": null,
            "grid_auto_rows": null,
            "grid_column": null,
            "grid_gap": null,
            "grid_row": null,
            "grid_template_areas": null,
            "grid_template_columns": null,
            "grid_template_rows": null,
            "height": null,
            "justify_content": null,
            "justify_items": null,
            "left": null,
            "margin": null,
            "max_height": null,
            "max_width": null,
            "min_height": null,
            "min_width": null,
            "object_fit": null,
            "object_position": null,
            "order": null,
            "overflow": null,
            "overflow_x": null,
            "overflow_y": null,
            "padding": null,
            "right": null,
            "top": null,
            "visibility": null,
            "width": null
          }
        },
        "ee69f69c781a4750b4569a6c64df43c2": {
          "model_module": "@jupyter-widgets/controls",
          "model_name": "ProgressStyleModel",
          "model_module_version": "1.5.0",
          "state": {
            "_model_module": "@jupyter-widgets/controls",
            "_model_module_version": "1.5.0",
            "_model_name": "ProgressStyleModel",
            "_view_count": null,
            "_view_module": "@jupyter-widgets/base",
            "_view_module_version": "1.2.0",
            "_view_name": "StyleView",
            "bar_color": null,
            "description_width": ""
          }
        },
        "6c66850bb9b745ee801df5612edb1cad": {
          "model_module": "@jupyter-widgets/base",
          "model_name": "LayoutModel",
          "model_module_version": "1.2.0",
          "state": {
            "_model_module": "@jupyter-widgets/base",
            "_model_module_version": "1.2.0",
            "_model_name": "LayoutModel",
            "_view_count": null,
            "_view_module": "@jupyter-widgets/base",
            "_view_module_version": "1.2.0",
            "_view_name": "LayoutView",
            "align_content": null,
            "align_items": null,
            "align_self": null,
            "border": null,
            "bottom": null,
            "display": null,
            "flex": null,
            "flex_flow": null,
            "grid_area": null,
            "grid_auto_columns": null,
            "grid_auto_flow": null,
            "grid_auto_rows": null,
            "grid_column": null,
            "grid_gap": null,
            "grid_row": null,
            "grid_template_areas": null,
            "grid_template_columns": null,
            "grid_template_rows": null,
            "height": null,
            "justify_content": null,
            "justify_items": null,
            "left": null,
            "margin": null,
            "max_height": null,
            "max_width": null,
            "min_height": null,
            "min_width": null,
            "object_fit": null,
            "object_position": null,
            "order": null,
            "overflow": null,
            "overflow_x": null,
            "overflow_y": null,
            "padding": null,
            "right": null,
            "top": null,
            "visibility": null,
            "width": null
          }
        },
        "bd08911615e940b3a5f3cd2722293c49": {
          "model_module": "@jupyter-widgets/controls",
          "model_name": "DescriptionStyleModel",
          "model_module_version": "1.5.0",
          "state": {
            "_model_module": "@jupyter-widgets/controls",
            "_model_module_version": "1.5.0",
            "_model_name": "DescriptionStyleModel",
            "_view_count": null,
            "_view_module": "@jupyter-widgets/base",
            "_view_module_version": "1.2.0",
            "_view_name": "StyleView",
            "description_width": ""
          }
        }
      }
    }
  },
  "cells": [
    {
      "cell_type": "markdown",
      "metadata": {
        "id": "view-in-github",
        "colab_type": "text"
      },
      "source": [
        "<a href=\"https://colab.research.google.com/github/ThuyHaLE/Problem3_Natural-Language-Processing/blob/main/NLP_Tokenization.ipynb\" target=\"_parent\"><img src=\"https://colab.research.google.com/assets/colab-badge.svg\" alt=\"Open In Colab\"/></a>"
      ]
    },
    {
      "cell_type": "markdown",
      "source": [
        "# Tokenization"
      ],
      "metadata": {
        "id": "a3Rj580hz8nL"
      }
    },
    {
      "cell_type": "markdown",
      "source": [
        "Tokenization is the process of representing raw text in smaller units called tokens. These tokens can then be mapped with numbers to further feed to an NLP model."
      ],
      "metadata": {
        "id": "07i2wWExMYZr"
      }
    },
    {
      "cell_type": "markdown",
      "source": [
        "![image.png](data:image/png;base64,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)"
      ],
      "metadata": {
        "id": "vqbiPEmA0Bj0"
      }
    },
    {
      "cell_type": "markdown",
      "source": [
        "![image.png](data:image/png;base64,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)"
      ],
      "metadata": {
        "id": "CFVAfiEnX9dn"
      }
    },
    {
      "cell_type": "markdown",
      "source": [
        "##Sentence based"
      ],
      "metadata": {
        "id": "zrrru-UrD-Qz"
      }
    },
    {
      "cell_type": "code",
      "source": [
        "import nltk\n",
        "#import nltk for tokenization\n",
        "nltk.download('punkt')"
      ],
      "metadata": {
        "colab": {
          "base_uri": "https://localhost:8080/"
        },
        "id": "mzoOmjb2DYyb",
        "outputId": "8691fb75-2c32-44b5-ab20-e2659b80336b"
      },
      "execution_count": null,
      "outputs": [
        {
          "output_type": "stream",
          "name": "stderr",
          "text": [
            "[nltk_data] Downloading package punkt to /root/nltk_data...\n",
            "[nltk_data]   Unzipping tokenizers/punkt.zip.\n"
          ]
        },
        {
          "output_type": "execute_result",
          "data": {
            "text/plain": [
              "True"
            ]
          },
          "metadata": {},
          "execution_count": 1
        }
      ]
    },
    {
      "cell_type": "code",
      "source": [
        "#Sentence Tokenization using nltk\n",
        "from nltk import sent_tokenize\n",
        "text = '''I'll be there within 5 min. Shouldn't you be there too.\n",
        "          I'd love to see u there my dear. It's awesome to meet new friends.\n",
        "          We've been waiting for this day for so long.'''\n",
        "sent_tokenize(text)"
      ],
      "metadata": {
        "colab": {
          "base_uri": "https://localhost:8080/"
        },
        "id": "4RbZo5xzDa7q",
        "outputId": "7b302137-bbb9-4c78-b1df-1e56dd2bf1a3"
      },
      "execution_count": null,
      "outputs": [
        {
          "output_type": "execute_result",
          "data": {
            "text/plain": [
              "[\"I'll be there within 5 min.\",\n",
              " \"Shouldn't you be there too.\",\n",
              " \"I'd love to see u there my dear.\",\n",
              " \"It's awesome to meet new friends.\",\n",
              " \"We've been waiting for this day for so long.\"]"
            ]
          },
          "metadata": {},
          "execution_count": 9
        }
      ]
    },
    {
      "cell_type": "markdown",
      "source": [
        "##Word based"
      ],
      "metadata": {
        "id": "ayTpRGb3kHVv"
      }
    },
    {
      "cell_type": "markdown",
      "source": [
        "Word tokenization using spacy"
      ],
      "metadata": {
        "id": "rJJusgpmE_dC"
      }
    },
    {
      "cell_type": "code",
      "source": [
        "#Word tokenization using spacy\n",
        "!pip -q install -U spacy==3.*\n",
        "!python -m spacy download en_core_web_sm"
      ],
      "metadata": {
        "colab": {
          "base_uri": "https://localhost:8080/"
        },
        "id": "b-x7ZMLqEZy2",
        "outputId": "708b5baa-8a3c-47ea-8dfa-06ac1857bc1d"
      },
      "execution_count": null,
      "outputs": [
        {
          "output_type": "stream",
          "name": "stdout",
          "text": [
            "Collecting en-core-web-sm==3.7.1\n",
            "  Downloading https://github.com/explosion/spacy-models/releases/download/en_core_web_sm-3.7.1/en_core_web_sm-3.7.1-py3-none-any.whl (12.8 MB)\n",
            "\u001b[2K     \u001b[90m━━━━━━━━━━━━━━━━━━━━━━━━━━━━━━━━━━━━━━━━\u001b[0m \u001b[32m12.8/12.8 MB\u001b[0m \u001b[31m29.4 MB/s\u001b[0m eta \u001b[36m0:00:00\u001b[0m\n",
            "\u001b[?25hRequirement already satisfied: spacy<3.8.0,>=3.7.2 in /usr/local/lib/python3.10/dist-packages (from en-core-web-sm==3.7.1) (3.7.4)\n",
            "Requirement already satisfied: spacy-legacy<3.1.0,>=3.0.11 in /usr/local/lib/python3.10/dist-packages (from spacy<3.8.0,>=3.7.2->en-core-web-sm==3.7.1) (3.0.12)\n",
            "Requirement already satisfied: spacy-loggers<2.0.0,>=1.0.0 in /usr/local/lib/python3.10/dist-packages (from spacy<3.8.0,>=3.7.2->en-core-web-sm==3.7.1) (1.0.5)\n",
            "Requirement already satisfied: murmurhash<1.1.0,>=0.28.0 in /usr/local/lib/python3.10/dist-packages (from spacy<3.8.0,>=3.7.2->en-core-web-sm==3.7.1) (1.0.10)\n",
            "Requirement already satisfied: cymem<2.1.0,>=2.0.2 in /usr/local/lib/python3.10/dist-packages (from spacy<3.8.0,>=3.7.2->en-core-web-sm==3.7.1) (2.0.8)\n",
            "Requirement already satisfied: preshed<3.1.0,>=3.0.2 in /usr/local/lib/python3.10/dist-packages (from spacy<3.8.0,>=3.7.2->en-core-web-sm==3.7.1) (3.0.9)\n",
            "Requirement already satisfied: thinc<8.3.0,>=8.2.2 in /usr/local/lib/python3.10/dist-packages (from spacy<3.8.0,>=3.7.2->en-core-web-sm==3.7.1) (8.2.3)\n",
            "Requirement already satisfied: wasabi<1.2.0,>=0.9.1 in /usr/local/lib/python3.10/dist-packages (from spacy<3.8.0,>=3.7.2->en-core-web-sm==3.7.1) (1.1.2)\n",
            "Requirement already satisfied: srsly<3.0.0,>=2.4.3 in /usr/local/lib/python3.10/dist-packages (from spacy<3.8.0,>=3.7.2->en-core-web-sm==3.7.1) (2.4.8)\n",
            "Requirement already satisfied: catalogue<2.1.0,>=2.0.6 in /usr/local/lib/python3.10/dist-packages (from spacy<3.8.0,>=3.7.2->en-core-web-sm==3.7.1) (2.0.10)\n",
            "Requirement already satisfied: weasel<0.4.0,>=0.1.0 in /usr/local/lib/python3.10/dist-packages (from spacy<3.8.0,>=3.7.2->en-core-web-sm==3.7.1) (0.3.4)\n",
            "Requirement already satisfied: typer<0.10.0,>=0.3.0 in /usr/local/lib/python3.10/dist-packages (from spacy<3.8.0,>=3.7.2->en-core-web-sm==3.7.1) (0.9.4)\n",
            "Requirement already satisfied: smart-open<7.0.0,>=5.2.1 in /usr/local/lib/python3.10/dist-packages (from spacy<3.8.0,>=3.7.2->en-core-web-sm==3.7.1) (6.4.0)\n",
            "Requirement already satisfied: tqdm<5.0.0,>=4.38.0 in /usr/local/lib/python3.10/dist-packages (from spacy<3.8.0,>=3.7.2->en-core-web-sm==3.7.1) (4.66.4)\n",
            "Requirement already satisfied: requests<3.0.0,>=2.13.0 in /usr/local/lib/python3.10/dist-packages (from spacy<3.8.0,>=3.7.2->en-core-web-sm==3.7.1) (2.31.0)\n",
            "Requirement already satisfied: pydantic!=1.8,!=1.8.1,<3.0.0,>=1.7.4 in /usr/local/lib/python3.10/dist-packages (from spacy<3.8.0,>=3.7.2->en-core-web-sm==3.7.1) (2.7.1)\n",
            "Requirement already satisfied: jinja2 in /usr/local/lib/python3.10/dist-packages (from spacy<3.8.0,>=3.7.2->en-core-web-sm==3.7.1) (3.1.4)\n",
            "Requirement already satisfied: setuptools in /usr/local/lib/python3.10/dist-packages (from spacy<3.8.0,>=3.7.2->en-core-web-sm==3.7.1) (67.7.2)\n",
            "Requirement already satisfied: packaging>=20.0 in /usr/local/lib/python3.10/dist-packages (from spacy<3.8.0,>=3.7.2->en-core-web-sm==3.7.1) (24.0)\n",
            "Requirement already satisfied: langcodes<4.0.0,>=3.2.0 in /usr/local/lib/python3.10/dist-packages (from spacy<3.8.0,>=3.7.2->en-core-web-sm==3.7.1) (3.4.0)\n",
            "Requirement already satisfied: numpy>=1.19.0 in /usr/local/lib/python3.10/dist-packages (from spacy<3.8.0,>=3.7.2->en-core-web-sm==3.7.1) (1.25.2)\n",
            "Requirement already satisfied: language-data>=1.2 in /usr/local/lib/python3.10/dist-packages (from langcodes<4.0.0,>=3.2.0->spacy<3.8.0,>=3.7.2->en-core-web-sm==3.7.1) (1.2.0)\n",
            "Requirement already satisfied: annotated-types>=0.4.0 in /usr/local/lib/python3.10/dist-packages (from pydantic!=1.8,!=1.8.1,<3.0.0,>=1.7.4->spacy<3.8.0,>=3.7.2->en-core-web-sm==3.7.1) (0.6.0)\n",
            "Requirement already satisfied: pydantic-core==2.18.2 in /usr/local/lib/python3.10/dist-packages (from pydantic!=1.8,!=1.8.1,<3.0.0,>=1.7.4->spacy<3.8.0,>=3.7.2->en-core-web-sm==3.7.1) (2.18.2)\n",
            "Requirement already satisfied: typing-extensions>=4.6.1 in /usr/local/lib/python3.10/dist-packages (from pydantic!=1.8,!=1.8.1,<3.0.0,>=1.7.4->spacy<3.8.0,>=3.7.2->en-core-web-sm==3.7.1) (4.11.0)\n",
            "Requirement already satisfied: charset-normalizer<4,>=2 in /usr/local/lib/python3.10/dist-packages (from requests<3.0.0,>=2.13.0->spacy<3.8.0,>=3.7.2->en-core-web-sm==3.7.1) (3.3.2)\n",
            "Requirement already satisfied: idna<4,>=2.5 in /usr/local/lib/python3.10/dist-packages (from requests<3.0.0,>=2.13.0->spacy<3.8.0,>=3.7.2->en-core-web-sm==3.7.1) (3.7)\n",
            "Requirement already satisfied: urllib3<3,>=1.21.1 in /usr/local/lib/python3.10/dist-packages (from requests<3.0.0,>=2.13.0->spacy<3.8.0,>=3.7.2->en-core-web-sm==3.7.1) (2.0.7)\n",
            "Requirement already satisfied: certifi>=2017.4.17 in /usr/local/lib/python3.10/dist-packages (from requests<3.0.0,>=2.13.0->spacy<3.8.0,>=3.7.2->en-core-web-sm==3.7.1) (2024.2.2)\n",
            "Requirement already satisfied: blis<0.8.0,>=0.7.8 in /usr/local/lib/python3.10/dist-packages (from thinc<8.3.0,>=8.2.2->spacy<3.8.0,>=3.7.2->en-core-web-sm==3.7.1) (0.7.11)\n",
            "Requirement already satisfied: confection<1.0.0,>=0.0.1 in /usr/local/lib/python3.10/dist-packages (from thinc<8.3.0,>=8.2.2->spacy<3.8.0,>=3.7.2->en-core-web-sm==3.7.1) (0.1.4)\n",
            "Requirement already satisfied: click<9.0.0,>=7.1.1 in /usr/local/lib/python3.10/dist-packages (from typer<0.10.0,>=0.3.0->spacy<3.8.0,>=3.7.2->en-core-web-sm==3.7.1) (8.1.7)\n",
            "Requirement already satisfied: cloudpathlib<0.17.0,>=0.7.0 in /usr/local/lib/python3.10/dist-packages (from weasel<0.4.0,>=0.1.0->spacy<3.8.0,>=3.7.2->en-core-web-sm==3.7.1) (0.16.0)\n",
            "Requirement already satisfied: MarkupSafe>=2.0 in /usr/local/lib/python3.10/dist-packages (from jinja2->spacy<3.8.0,>=3.7.2->en-core-web-sm==3.7.1) (2.1.5)\n",
            "Requirement already satisfied: marisa-trie>=0.7.7 in /usr/local/lib/python3.10/dist-packages (from language-data>=1.2->langcodes<4.0.0,>=3.2.0->spacy<3.8.0,>=3.7.2->en-core-web-sm==3.7.1) (1.1.1)\n",
            "\u001b[38;5;2m✔ Download and installation successful\u001b[0m\n",
            "You can now load the package via spacy.load('en_core_web_sm')\n",
            "\u001b[38;5;3m⚠ Restart to reload dependencies\u001b[0m\n",
            "If you are in a Jupyter or Colab notebook, you may need to restart Python in\n",
            "order to load all the package's dependencies. You can do this by selecting the\n",
            "'Restart kernel' or 'Restart runtime' option.\n"
          ]
        }
      ]
    },
    {
      "cell_type": "code",
      "source": [
        "import spacy\n",
        "nlp = spacy.load('en_core_web_sm')\n",
        "s = '''I'll be there within 5 min. Shouldn't you be there too?\n",
        "      I'd love to see u there my dear. It's awesome to meet new friends.\n",
        "      We've been waiting for this day for so long.'''\n",
        "doc = nlp(s)\n",
        "print(f'Token list: {[t.text for t in doc]}')"
      ],
      "metadata": {
        "colab": {
          "base_uri": "https://localhost:8080/"
        },
        "id": "dYTGWqZpEYyb",
        "outputId": "c41a3147-b845-40fa-a492-9d850ed6aa9f"
      },
      "execution_count": null,
      "outputs": [
        {
          "output_type": "stream",
          "name": "stdout",
          "text": [
            "Token list: ['I', \"'ll\", 'be', 'there', 'within', '5', 'min', '.', 'Should', \"n't\", 'you', 'be', 'there', 'too', '?', '\\n      ', 'I', \"'d\", 'love', 'to', 'see', 'u', 'there', 'my', 'dear', '.', 'It', \"'s\", 'awesome', 'to', 'meet', 'new', 'friends', '.', '\\n      ', 'We', \"'ve\", 'been', 'waiting', 'for', 'this', 'day', 'for', 'so', 'long', '.']\n"
          ]
        }
      ]
    },
    {
      "cell_type": "markdown",
      "source": [
        "Word tokenization using SentencePiece"
      ],
      "metadata": {
        "id": "s69V5eQOWkP2"
      }
    },
    {
      "cell_type": "code",
      "source": [
        "#Tokenization using SentencePiece\n",
        "!pip install -q sentencepiece\n",
        "!wget -q https://raw.githubusercontent.com/google/sentencepiece/master/data/botchan.txt"
      ],
      "metadata": {
        "id": "nuVXwS9uWwoP"
      },
      "execution_count": null,
      "outputs": []
    },
    {
      "cell_type": "code",
      "source": [
        "#Word tokenization using SentencePiece\n",
        "import sentencepiece as spm\n",
        "import re\n",
        "spm.SentencePieceTrainer.train('--input=botchan.txt --model_prefix=m_word --model_type=word --vocab_size=2000')\n",
        "sp = spm.SentencePieceProcessor()\n",
        "sp.load('/content/m_word.model')\n",
        "\n",
        "string = re.sub(r\"[^\\w\\s]\", \"\", text) #remove punctuation\n",
        "print(string)\n",
        "\n",
        "# encode: text => id\n",
        "print(f'encode_as_pieces: {[t for t in sp.encode_as_pieces(string)]}')"
      ],
      "metadata": {
        "colab": {
          "base_uri": "https://localhost:8080/"
        },
        "id": "CmUG6aUnWjDc",
        "outputId": "af038f02-5571-4775-b402-42ac7b652b89"
      },
      "execution_count": null,
      "outputs": [
        {
          "output_type": "stream",
          "name": "stdout",
          "text": [
            "Ill be there within 5 min Shouldnt you be there too\n",
            "Id love to see u there my dear Its awesome to meet new friends\n",
            "Weve been waiting for this day for so long\n",
            "encode_as_pieces: ['▁Ill', '▁be', '▁there', '▁within', '▁5▁min▁Shouldnt', '▁you', '▁be', '▁there', '▁too', '▁Id', '▁love', '▁to', '▁see', '▁u', '▁there', '▁my', '▁dear', '▁Its', '▁awesome', '▁to', '▁meet', '▁new', '▁friends', '▁Weve', '▁been', '▁waiting', '▁for', '▁this', '▁day', '▁for', '▁so', '▁long']\n"
          ]
        }
      ]
    },
    {
      "cell_type": "markdown",
      "source": [
        "Word tokenization using nltk"
      ],
      "metadata": {
        "id": "9I3kBIpkFBY-"
      }
    },
    {
      "cell_type": "code",
      "source": [
        "import nltk\n",
        "nltk.download('punkt')"
      ],
      "metadata": {
        "colab": {
          "base_uri": "https://localhost:8080/"
        },
        "id": "PxOfz5koiCNY",
        "outputId": "6a228c4c-a455-403c-e697-179d8ec86cff"
      },
      "execution_count": null,
      "outputs": [
        {
          "output_type": "stream",
          "name": "stderr",
          "text": [
            "[nltk_data] Downloading package punkt to /root/nltk_data...\n",
            "[nltk_data]   Package punkt is already up-to-date!\n"
          ]
        },
        {
          "output_type": "execute_result",
          "data": {
            "text/plain": [
              "True"
            ]
          },
          "metadata": {},
          "execution_count": 12
        }
      ]
    },
    {
      "cell_type": "code",
      "source": [
        "#Word tokenization using nltk\n",
        "from nltk import word_tokenize\n",
        "text = '''I'll be there within 5 min. Shouldn't you be there too?\n",
        "      I'd love to see u there my dear. It's awesome to meet new friends.\n",
        "      We've been waiting for this day for so long.'''\n",
        "print(f'Token list: {[token.lower() for token in word_tokenize(text)]}')"
      ],
      "metadata": {
        "colab": {
          "base_uri": "https://localhost:8080/"
        },
        "id": "Pyw14DV1D01Q",
        "outputId": "a4fffd0d-91a6-4801-bfdf-0eef7343f6f9"
      },
      "execution_count": null,
      "outputs": [
        {
          "output_type": "stream",
          "name": "stdout",
          "text": [
            "Token list: ['i', \"'ll\", 'be', 'there', 'within', '5', 'min', '.', 'should', \"n't\", 'you', 'be', 'there', 'too', '?', 'i', \"'d\", 'love', 'to', 'see', 'u', 'there', 'my', 'dear', '.', 'it', \"'s\", 'awesome', 'to', 'meet', 'new', 'friends', '.', 'we', \"'ve\", 'been', 'waiting', 'for', 'this', 'day', 'for', 'so', 'long', '.']\n"
          ]
        }
      ]
    },
    {
      "cell_type": "markdown",
      "source": [
        ">WhitespaceTokenizer"
      ],
      "metadata": {
        "id": "YUWcx-GnFSE7"
      }
    },
    {
      "cell_type": "code",
      "execution_count": null,
      "metadata": {
        "id": "Kf2RKlgKzsro",
        "colab": {
          "base_uri": "https://localhost:8080/"
        },
        "outputId": "724fef86-8bec-4104-885d-cb0be435e6ae"
      },
      "outputs": [
        {
          "output_type": "stream",
          "name": "stdout",
          "text": [
            "Token list: ['GeeksforGeeks', 'is', 'for', 'geeks']\n"
          ]
        }
      ],
      "source": [
        "#WhitespaceTokenizer\n",
        "#separated by whitespace characters like space, tab, or newline\n",
        "\n",
        "from nltk.tokenize import WhitespaceTokenizer\n",
        "tk = WhitespaceTokenizer()\n",
        "gfg = \"GeeksforGeeks \\nis\\t for geeks\"\n",
        "print(f'Token list: {[t for t in tk.tokenize(gfg)]}')"
      ]
    },
    {
      "cell_type": "markdown",
      "source": [
        ">Dictionary Based Tokenization"
      ],
      "metadata": {
        "id": "yxNRWMBIFgRP"
      }
    },
    {
      "cell_type": "code",
      "source": [
        "#Dictionary Based Tokenization\n",
        "#using a predefined list of words or phrases (dictionaries or lexicons) to match text segments with tokens.\n",
        "#used for handling specific types of tokens like emoticons, slang, or abbreviations.\n",
        "\n",
        "from nltk import word_tokenize\n",
        "from nltk.tokenize import MWETokenizer\n",
        "# customn dictionary\n",
        "dictionary = [(\"Jammu\", \"Kashmir\"),\n",
        "              (\"Pawan\", \"Kumar\", \"Gunjan\"),\n",
        "              (\"Himachal\", \"Pradesh\")]\n",
        "# Create an instance of MWETokenizer with the dictionary\n",
        "Dictionary_tokenizer = MWETokenizer(dictionary, separator=' ')\n",
        "\n",
        "text = \"\"\"\n",
        "Jammu Kashmir is an integral part of India.\n",
        "My name is Pawan Kumar Gunjan.\n",
        "He is from Himachal Pradesh.\n",
        "\"\"\"\n",
        "print(f'Token list (General Word Tokenization): {[t for t in word_tokenize(text)]}')\n",
        "print(f'Token list (Dictionary based tokenization): {[t for t in Dictionary_tokenizer.tokenize(word_tokenize(text)) ]}')"
      ],
      "metadata": {
        "colab": {
          "base_uri": "https://localhost:8080/"
        },
        "id": "Kec0PInPbgcl",
        "outputId": "5a0407e5-252c-4466-b93c-ba78aa3583e0"
      },
      "execution_count": null,
      "outputs": [
        {
          "output_type": "stream",
          "name": "stdout",
          "text": [
            "Token list (General Word Tokenization): ['Jammu', 'Kashmir', 'is', 'an', 'integral', 'part', 'of', 'India', '.', 'My', 'name', 'is', 'Pawan', 'Kumar', 'Gunjan', '.', 'He', 'is', 'from', 'Himachal', 'Pradesh', '.']\n",
            "Token list (Dictionary based tokenization): ['Jammu Kashmir', 'is', 'an', 'integral', 'part', 'of', 'India', '.', 'My', 'name', 'is', 'Pawan Kumar Gunjan', '.', 'He', 'is', 'from', 'Himachal Pradesh', '.']\n"
          ]
        }
      ]
    },
    {
      "cell_type": "markdown",
      "source": [
        ">Rule-Based Tokenization"
      ],
      "metadata": {
        "id": "XrG2vH5kFi9n"
      }
    },
    {
      "cell_type": "code",
      "source": [
        "#Rule-Based Tokenization\n",
        "#using predefined rules (usually based on regular expressions or grammar patterns) to break a text into tokens\n",
        "\n",
        "#Load the input text\n",
        "text = \"Hello, I am working at Geeks-for-Geeks and my email is pawangunjan23@geeksforgeeks.com.\"\n",
        "#Define the tokenization rules (split on whitespace)\n",
        "tokens = text.split()\n",
        "#Output the tokens\n",
        "print(f'Token list: {[t for t in tokens]}')"
      ],
      "metadata": {
        "colab": {
          "base_uri": "https://localhost:8080/"
        },
        "id": "gkF2C0_yiPLA",
        "outputId": "9d310ed4-6660-4628-9e40-a674c56240d8"
      },
      "execution_count": null,
      "outputs": [
        {
          "output_type": "stream",
          "name": "stdout",
          "text": [
            "Token list: ['Hello,', 'I', 'am', 'working', 'at', 'Geeks-for-Geeks', 'and', 'my', 'email', 'is', 'pawangunjan23@geeksforgeeks.com.']\n"
          ]
        }
      ]
    },
    {
      "cell_type": "code",
      "source": [
        "#Rule-Based Tokenization\n",
        "#using predefined rules (usually based on regular expressions or grammar patterns) to break a text into tokens\n",
        "\n",
        "import re\n",
        "#Load the input text\n",
        "text = \"Hello, I am working at Geeks-for-Geeks and my email is pawangunjan23@geeksforgeeks.com.\"\n",
        "#Define the regular expression pattern\n",
        "p='([\\w]+-[\\w]+-[\\w]+)|([\\w\\.-]+@[\\w]+.[\\w]+)'\n",
        "# Apply the rules to the input text\n",
        "matches = []\n",
        "for match in re.findall(p, text):\n",
        "    if match[0]:\n",
        "        print(f\"Company Name: {match[0]}\")\n",
        "        matches.append(match[0])\n",
        "    else:\n",
        "        print(f\"Email address: {match[1]}\")\n",
        "        matches.append(match[1])"
      ],
      "metadata": {
        "colab": {
          "base_uri": "https://localhost:8080/"
        },
        "id": "fuJqWGNuciJe",
        "outputId": "c9e4c29b-4ad1-4cd9-9a50-8e903f38a163"
      },
      "execution_count": null,
      "outputs": [
        {
          "output_type": "stream",
          "name": "stdout",
          "text": [
            "Company Name: Geeks-for-Geeks\n",
            "Email address: pawangunjan23@geeksforgeeks.com\n"
          ]
        }
      ]
    },
    {
      "cell_type": "code",
      "source": [
        "from nltk.tokenize import RegexpTokenizer\n",
        "tokenizer = RegexpTokenizer(r'\\w+|\\$[\\d.]+|.\\S+') #\\$\\s*\\d+\n",
        "print(f'Token list: {[w.lower() for w in tokenizer.tokenize(text)]}')\n",
        "\n",
        "tokenizer = RegexpTokenizer(r'([\\w]+-[\\w]+-[\\w]+)') #\\$\\s*\\d+\n",
        "print(f'Token list: {[w.lower() for w in tokenizer.tokenize(text)]}')\n",
        "\n",
        "tokenizer = RegexpTokenizer(r'([\\w\\.-]+@[\\w]+.[\\w]+)') #\\$\\s*\\d+\n",
        "print(f'Token list: {[w.lower() for w in tokenizer.tokenize(text)]}')"
      ],
      "metadata": {
        "colab": {
          "base_uri": "https://localhost:8080/"
        },
        "id": "WjF4xj4NDr2L",
        "outputId": "d358ae27-7e19-493a-9478-a448fb464e53"
      },
      "execution_count": null,
      "outputs": [
        {
          "output_type": "stream",
          "name": "stdout",
          "text": [
            "Token list: ['hello', ' i', ' am', ' working', ' at', ' geeks-for-geeks', ' and', ' my', ' email', ' is', ' pawangunjan23@geeksforgeeks.com.']\n",
            "Token list: ['geeks-for-geeks']\n",
            "Token list: ['pawangunjan23@geeksforgeeks.com']\n"
          ]
        }
      ]
    },
    {
      "cell_type": "markdown",
      "source": [
        ">Penn Tree Tokenization"
      ],
      "metadata": {
        "id": "WwOZdU1lFpHU"
      }
    },
    {
      "cell_type": "code",
      "source": [
        "#Penn Tree Tokenization\n",
        "#based on the Penn Treebank tokenization guidelines (widely used)\n",
        "#tokens are separated by whitespace characters, but some punctuation marks are treated as separate tokens\n",
        "from nltk.tokenize.treebank import TreebankWordTokenizer, TreebankWordDetokenizer\n",
        "s = '''Good muffins cost $3.88\\nin New York.  Please buy me\\ntwo of them.\\nThanks.'''\n",
        "t = TreebankWordTokenizer()\n",
        "print(f'Token list: {[t for t in t.tokenize(s)]}')"
      ],
      "metadata": {
        "colab": {
          "base_uri": "https://localhost:8080/"
        },
        "id": "HeqsTd3GfcRp",
        "outputId": "fb3629f3-7fa0-46d5-a1d5-b8e3e34fe09b"
      },
      "execution_count": null,
      "outputs": [
        {
          "output_type": "stream",
          "name": "stdout",
          "text": [
            "Token list: ['Good', 'muffins', 'cost', '$', '3.88', 'in', 'New', 'York.', 'Please', 'buy', 'me', 'two', 'of', 'them.', 'Thanks', '.']\n"
          ]
        }
      ]
    },
    {
      "cell_type": "markdown",
      "source": [
        ">Moses Tokenization"
      ],
      "metadata": {
        "id": "VqYReLO0FvLv"
      }
    },
    {
      "cell_type": "code",
      "source": [
        "#Moses Tokenization\n",
        "!pip -q install mosestokenizer"
      ],
      "metadata": {
        "id": "WLWq3U1vmfGU"
      },
      "execution_count": null,
      "outputs": []
    },
    {
      "cell_type": "code",
      "source": [
        "#Moses Tokenization\n",
        "#tokens are separated by whitespace characters and certain punctuation marks, handle Unicode characters and special cases like abbreviations and numbers\n",
        "from mosestokenizer import MosesTokenizer, MosesDetokenizer\n",
        "s = \"Good muffins cost $3.88 in New York.  Please buy me two of them. Thanks.\"\n",
        "tokenize = MosesTokenizer('en')\n",
        "print(f'Token list: {[t for t in tokenize(s)]}')"
      ],
      "metadata": {
        "colab": {
          "base_uri": "https://localhost:8080/"
        },
        "id": "NxA7EpNGfcOc",
        "outputId": "1fe58fce-68ba-45df-a4f1-69649442de0b"
      },
      "execution_count": null,
      "outputs": [
        {
          "output_type": "stream",
          "name": "stdout",
          "text": [
            "Token list: ['Good', 'muffins', 'cost', '$', '3.88', 'in', 'New', 'York', '.', 'Please', 'buy', 'me', 'two', 'of', 'them', '.', 'Thanks', '.']\n"
          ]
        }
      ]
    },
    {
      "cell_type": "markdown",
      "source": [
        "##Character based"
      ],
      "metadata": {
        "id": "9vqobycakM3G"
      }
    },
    {
      "cell_type": "code",
      "source": [
        "#Load the input text\n",
        "text = \"Hello, I am working at Geeks-for-Geeks and my email is pawangunjan23@geeksforgeeks.com.\"\n",
        "#Define the tokenization rules (split on whitespace)\n",
        "words = text.split()\n",
        "tokens = []\n",
        "for word in words:\n",
        "  tokens+=' '.join(word).split()\n",
        "#Output the tokens\n",
        "print(f'Token list: {[t for t in tokens]}')"
      ],
      "metadata": {
        "colab": {
          "base_uri": "https://localhost:8080/"
        },
        "id": "U_Mz9ecOoI6S",
        "outputId": "bf670f53-4ec5-4e54-dee3-89f9943ee3f1"
      },
      "execution_count": null,
      "outputs": [
        {
          "output_type": "stream",
          "name": "stdout",
          "text": [
            "Token list: ['H', 'e', 'l', 'l', 'o', ',', 'I', 'a', 'm', 'w', 'o', 'r', 'k', 'i', 'n', 'g', 'a', 't', 'G', 'e', 'e', 'k', 's', '-', 'f', 'o', 'r', '-', 'G', 'e', 'e', 'k', 's', 'a', 'n', 'd', 'm', 'y', 'e', 'm', 'a', 'i', 'l', 'i', 's', 'p', 'a', 'w', 'a', 'n', 'g', 'u', 'n', 'j', 'a', 'n', '2', '3', '@', 'g', 'e', 'e', 'k', 's', 'f', 'o', 'r', 'g', 'e', 'e', 'k', 's', '.', 'c', 'o', 'm', '.']\n"
          ]
        }
      ]
    },
    {
      "cell_type": "markdown",
      "source": [
        "Character tokenization using SentencePiece <Br>\n",
        "https://colab.research.google.com/github/google/sentencepiece/blob/master/python/sentencepiece_python_module_example.ipynb"
      ],
      "metadata": {
        "id": "r4zg2vzsPZj9"
      }
    },
    {
      "cell_type": "code",
      "source": [
        "#Tokenization using SentencePiece\n",
        "!pip install -q sentencepiece\n",
        "!wget -q https://raw.githubusercontent.com/google/sentencepiece/master/data/botchan.txt"
      ],
      "metadata": {
        "id": "uxIE2x_NPhWl"
      },
      "execution_count": null,
      "outputs": []
    },
    {
      "cell_type": "code",
      "source": [
        "#Character tokenization using SentencePiece\n",
        "import sentencepiece as spm\n",
        "spm.SentencePieceTrainer.train('--input=/content/botchan.txt --model_prefix=m_char --model_type=char --vocab_size=2000')\n",
        "sp = spm.SentencePieceProcessor()\n",
        "sp.load('/content/m_char.model')\n",
        "\n",
        "text = '''I'll be there within 5 min. Shouldn't you be there too?\n",
        "I'd love to see u there my dear. It's awesome to meet new friends.\n",
        "We've been waiting for this day for so long.'''\n",
        "\n",
        "string = re.sub(r\"[^\\w\\s]\", \"\", text) #remove punctuation\n",
        "print(string)\n",
        "\n",
        "# encode: text => id\n",
        "print(f'encode_as_pieces: {[t for t in sp.encode_as_pieces(string)]}')"
      ],
      "metadata": {
        "id": "01sayM7uYEyO",
        "colab": {
          "base_uri": "https://localhost:8080/"
        },
        "outputId": "dab26b7c-735a-484e-d616-6e7a9ff51ecc"
      },
      "execution_count": null,
      "outputs": [
        {
          "output_type": "stream",
          "name": "stdout",
          "text": [
            "Ill be there within 5 min Shouldnt you be there too\n",
            "Id love to see u there my dear Its awesome to meet new friends\n",
            "Weve been waiting for this day for so long\n",
            "encode_as_pieces: ['▁', 'I', 'l', 'l', '▁', 'b', 'e', '▁', 't', 'h', 'e', 'r', 'e', '▁', 'w', 'i', 't', 'h', 'i', 'n', '▁', '5', '▁', 'm', 'i', 'n', '▁', 'S', 'h', 'o', 'u', 'l', 'd', 'n', 't', '▁', 'y', 'o', 'u', '▁', 'b', 'e', '▁', 't', 'h', 'e', 'r', 'e', '▁', 't', 'o', 'o', '▁', 'I', 'd', '▁', 'l', 'o', 'v', 'e', '▁', 't', 'o', '▁', 's', 'e', 'e', '▁', 'u', '▁', 't', 'h', 'e', 'r', 'e', '▁', 'm', 'y', '▁', 'd', 'e', 'a', 'r', '▁', 'I', 't', 's', '▁', 'a', 'w', 'e', 's', 'o', 'm', 'e', '▁', 't', 'o', '▁', 'm', 'e', 'e', 't', '▁', 'n', 'e', 'w', '▁', 'f', 'r', 'i', 'e', 'n', 'd', 's', '▁', 'W', 'e', 'v', 'e', '▁', 'b', 'e', 'e', 'n', '▁', 'w', 'a', 'i', 't', 'i', 'n', 'g', '▁', 'f', 'o', 'r', '▁', 't', 'h', 'i', 's', '▁', 'd', 'a', 'y', '▁', 'f', 'o', 'r', '▁', 's', 'o', '▁', 'l', 'o', 'n', 'g']\n"
          ]
        }
      ]
    },
    {
      "cell_type": "markdown",
      "source": [
        "##Subwords based"
      ],
      "metadata": {
        "id": "rhAhyIfXkKCq"
      }
    },
    {
      "cell_type": "markdown",
      "source": [
        "Normalization and pre-tokenization"
      ],
      "metadata": {
        "id": "d21Lt2VWh5E_"
      }
    },
    {
      "cell_type": "code",
      "source": [
        "!pip -q install datasets evaluate transformers[sentencepiece]"
      ],
      "metadata": {
        "id": "CtWdhpzhiAWG"
      },
      "execution_count": null,
      "outputs": []
    },
    {
      "cell_type": "code",
      "source": [
        "from transformers import AutoTokenizer"
      ],
      "metadata": {
        "id": "Bb57USW9ibr4"
      },
      "execution_count": null,
      "outputs": []
    },
    {
      "cell_type": "code",
      "source": [
        "#BPE model like Transformer models, including GPT, GPT-2, RoBERTa, BART, and DeBERTa.\n",
        "tokenizer = AutoTokenizer.from_pretrained(\"gpt2\")\n",
        "tokenizer.backend_tokenizer.pre_tokenizer.pre_tokenize_str(\"Hello, how are  you?\")"
      ],
      "metadata": {
        "colab": {
          "base_uri": "https://localhost:8080/"
        },
        "id": "hYtpncuIilbB",
        "outputId": "5f6b785d-1e2e-49b6-89f6-05e19b591132"
      },
      "execution_count": null,
      "outputs": [
        {
          "output_type": "execute_result",
          "data": {
            "text/plain": [
              "[('Hello', (0, 5)),\n",
              " (',', (5, 6)),\n",
              " ('Ġhow', (6, 10)),\n",
              " ('Ġare', (10, 14)),\n",
              " ('Ġ', (14, 15)),\n",
              " ('Ġyou', (15, 19)),\n",
              " ('?', (19, 20))]"
            ]
          },
          "metadata": {},
          "execution_count": 56
        }
      ]
    },
    {
      "cell_type": "code",
      "source": [
        "#WordPiece model like Transformer models based on BERT, such as DistilBERT, MobileBERT, Funnel Transformers, and MPNET\n",
        "tokenizer = AutoTokenizer.from_pretrained(\"bert-base-uncased\")\n",
        "print(tokenizer.backend_tokenizer.normalizer.normalize_str(\"Héllò hôw are ü?\"))\n",
        "tokenizer.backend_tokenizer.pre_tokenizer.pre_tokenize_str(\"Hello, how are  you?\")"
      ],
      "metadata": {
        "colab": {
          "base_uri": "https://localhost:8080/"
        },
        "id": "oqP1TkgeidyE",
        "outputId": "127a67ee-7f6a-4e86-b0c9-6e56317c87ba"
      },
      "execution_count": null,
      "outputs": [
        {
          "output_type": "stream",
          "name": "stdout",
          "text": [
            "hello how are u?\n"
          ]
        },
        {
          "output_type": "execute_result",
          "data": {
            "text/plain": [
              "[('Hello', (0, 5)),\n",
              " (',', (5, 6)),\n",
              " ('how', (7, 10)),\n",
              " ('are', (11, 14)),\n",
              " ('you', (16, 19)),\n",
              " ('?', (19, 20))]"
            ]
          },
          "metadata": {},
          "execution_count": 53
        }
      ]
    },
    {
      "cell_type": "code",
      "source": [
        "#Unigram model like AlBERT, T5, mBART, Big Bird, and XLNet\n",
        "tokenizer = AutoTokenizer.from_pretrained(\"t5-small\")\n",
        "print(tokenizer.backend_tokenizer.normalizer.normalize_str(\"Héllò hôw are ü?\"))\n",
        "tokenizer.backend_tokenizer.pre_tokenizer.pre_tokenize_str(\"Hello, how are  you?\")"
      ],
      "metadata": {
        "colab": {
          "base_uri": "https://localhost:8080/"
        },
        "id": "wZxjhtoviD5T",
        "outputId": "d9eff19a-9113-4d87-940c-7c16a01a9850"
      },
      "execution_count": null,
      "outputs": [
        {
          "output_type": "stream",
          "name": "stdout",
          "text": [
            "Héllò hôw are ü?\n"
          ]
        },
        {
          "output_type": "execute_result",
          "data": {
            "text/plain": [
              "[('▁Hello,', (0, 6)),\n",
              " ('▁how', (7, 10)),\n",
              " ('▁are', (11, 14)),\n",
              " ('▁you?', (16, 20))]"
            ]
          },
          "metadata": {},
          "execution_count": 57
        }
      ]
    },
    {
      "cell_type": "markdown",
      "source": [
        "Subwords based tokenization"
      ],
      "metadata": {
        "id": "gxzWFYsOi42y"
      }
    },
    {
      "cell_type": "markdown",
      "source": [
        "![image.png](data:image/png;base64,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)"
      ],
      "metadata": {
        "id": "oM-SzCEtb1Rw"
      }
    },
    {
      "cell_type": "markdown",
      "source": [
        "###BPE Algorithm – a Frequency-based Model\n",
        "Byte Pair Encoding uses the frequency of subword patterns to shortlist them for merging."
      ],
      "metadata": {
        "id": "KFtVyEyqVhAO"
      }
    },
    {
      "cell_type": "markdown",
      "source": [
        "- Step 1: Splitting all text (in a corpus) into individual words and calculating the word frequency (word-frequency dictionary).\n",
        "- Step 2: Splitting the word (word-frequency dictionary) into characters and then calculating the character frequency (character-frequency dictionary).\n",
        "- Step 3: Merging the most frequently occurring consecutive byte pairing.\n",
        "- Step 4: Iterating a number of times to find the best (in terms of frequency) pairs to encode and then concatenate them to find the subwords."
      ],
      "metadata": {
        "id": "kwkqw3owqKkp"
      }
    },
    {
      "cell_type": "markdown",
      "source": [
        "Step 1: Splitting all text (in a corpus) into individual words and calculating the word frequency (word-frequency dictionary)."
      ],
      "metadata": {
        "id": "XISNv8IIMub-"
      }
    },
    {
      "cell_type": "code",
      "source": [
        "import collections\n",
        "\n",
        "text = \"There is an 80% chance of rainfall today. We are pretty sure it is going to rain.\"\n",
        "## get the word frequency and add the end of word (</w>) token at the end of each word\n",
        "words = text.strip().split(\" \")\n",
        "word_freq_dict = collections.defaultdict(int)\n",
        "for word in words:\n",
        "    word_freq_dict[' '.join(word) + ' </w>'] += 1\n",
        "\n",
        "print(f\"Vocabulary size: {len(words)}\")\n",
        "print(f'Word list: {words}')\n",
        "print(f'Word frequency list: {[f\"{k}: {v}\" for k, v in word_freq_dict.items()]}')"
      ],
      "metadata": {
        "id": "19-6MoGzYGHS",
        "colab": {
          "base_uri": "https://localhost:8080/"
        },
        "outputId": "7548ef8f-4218-4379-d27b-6dd177d04f85"
      },
      "execution_count": null,
      "outputs": [
        {
          "output_type": "stream",
          "name": "stdout",
          "text": [
            "Vocabulary size: 17\n",
            "Word list: ['There', 'is', 'an', '80%', 'chance', 'of', 'rainfall', 'today.', 'We', 'are', 'pretty', 'sure', 'it', 'is', 'going', 'to', 'rain.']\n",
            "Word frequency list: ['T h e r e </w>: 1', 'i s </w>: 2', 'a n </w>: 1', '8 0 % </w>: 1', 'c h a n c e </w>: 1', 'o f </w>: 1', 'r a i n f a l l </w>: 1', 't o d a y . </w>: 1', 'W e </w>: 1', 'a r e </w>: 1', 'p r e t t y </w>: 1', 's u r e </w>: 1', 'i t </w>: 1', 'g o i n g </w>: 1', 't o </w>: 1', 'r a i n . </w>: 1']\n"
          ]
        }
      ]
    },
    {
      "cell_type": "markdown",
      "source": [
        "Step 2: Splitting the word (word-frequency dictionary) into characters and then calculating the character frequency (character-frequency dictionary)."
      ],
      "metadata": {
        "id": "_hG52AUUMsAs"
      }
    },
    {
      "cell_type": "code",
      "source": [
        "char_freq_dict = collections.defaultdict(int)\n",
        "for word, freq in word_freq_dict.items():\n",
        "    chars = word.split()\n",
        "    for char in chars:\n",
        "        char_freq_dict[char] += freq\n",
        "print(f'Character frequency list: {[f\"{k}: {v}\" for k, v in char_freq_dict.items()]}')\n",
        "\n",
        "#import pandas as pd\n",
        "#df = pd.DataFrame(char_freq_dict, index=[0]).T\n",
        "#df = df.rename(columns={0: 'Count'})\n",
        "#df.head()"
      ],
      "metadata": {
        "colab": {
          "base_uri": "https://localhost:8080/"
        },
        "id": "TcefOoz3oAOV",
        "outputId": "df5c1782-b70a-41a8-de38-40bb292ac3a1"
      },
      "execution_count": null,
      "outputs": [
        {
          "output_type": "stream",
          "name": "stdout",
          "text": [
            "Character frequency list: ['T: 1', 'h: 2', 'e: 7', 'r: 6', '</w>: 17', 'i: 6', 's: 3', 'a: 7', 'n: 5', '8: 1', '0: 1', '%: 1', 'c: 2', 'o: 4', 'f: 2', 'l: 2', 't: 5', 'd: 1', 'y: 2', '.: 2', 'W: 1', 'p: 1', 'u: 1', 'g: 2']\n"
          ]
        }
      ]
    },
    {
      "cell_type": "markdown",
      "source": [
        "Step 3: Merging the most frequently occurring consecutive byte pairing."
      ],
      "metadata": {
        "id": "gyDqE9kFM3xZ"
      }
    },
    {
      "cell_type": "code",
      "source": [
        "import re\n",
        "#Create all possible consecutive pairs\n",
        "pairs = collections.defaultdict(int)\n",
        "for word, freq in word_freq_dict.items():\n",
        "    chars = word.split()\n",
        "    for i in range(len(chars)-1):\n",
        "        pairs[chars[i], chars[i+1]] += freq\n",
        "print(f'Pairs frequency list: {[f\"{k}: {v}\" for k, v in pairs.items()]}')\n",
        "print(f'The most frequent occurrences of pairs: {max(pairs, key=pairs.get)}: {pairs[max(pairs, key=pairs.get)]}')"
      ],
      "metadata": {
        "colab": {
          "base_uri": "https://localhost:8080/"
        },
        "id": "vT1guKKcfQD4",
        "outputId": "cf02c874-f99a-43e0-ff04-8651c3c0473a"
      },
      "execution_count": null,
      "outputs": [
        {
          "output_type": "stream",
          "name": "stdout",
          "text": [
            "Pairs frequency list: [\"('T', 'h'): 1\", \"('h', 'e'): 1\", \"('e', 'r'): 1\", \"('r', 'e'): 4\", \"('e', '</w>'): 5\", \"('i', 's'): 2\", \"('s', '</w>'): 2\", \"('a', 'n'): 2\", \"('n', '</w>'): 1\", \"('8', '0'): 1\", \"('0', '%'): 1\", \"('%', '</w>'): 1\", \"('c', 'h'): 1\", \"('h', 'a'): 1\", \"('n', 'c'): 1\", \"('c', 'e'): 1\", \"('o', 'f'): 1\", \"('f', '</w>'): 1\", \"('r', 'a'): 2\", \"('a', 'i'): 2\", \"('i', 'n'): 3\", \"('n', 'f'): 1\", \"('f', 'a'): 1\", \"('a', 'l'): 1\", \"('l', 'l'): 1\", \"('l', '</w>'): 1\", \"('t', 'o'): 2\", \"('o', 'd'): 1\", \"('d', 'a'): 1\", \"('a', 'y'): 1\", \"('y', '.'): 1\", \"('.', '</w>'): 2\", \"('W', 'e'): 1\", \"('a', 'r'): 1\", \"('p', 'r'): 1\", \"('e', 't'): 1\", \"('t', 't'): 1\", \"('t', 'y'): 1\", \"('y', '</w>'): 1\", \"('s', 'u'): 1\", \"('u', 'r'): 1\", \"('i', 't'): 1\", \"('t', '</w>'): 1\", \"('g', 'o'): 1\", \"('o', 'i'): 1\", \"('n', 'g'): 1\", \"('g', '</w>'): 1\", \"('o', '</w>'): 1\", \"('n', '.'): 1\"]\n",
            "The most frequent occurrences of pairs: ('e', '</w>'): 5\n"
          ]
        }
      ]
    },
    {
      "cell_type": "markdown",
      "source": [
        "Step 4: Iterating a number of times to find the best (in terms of frequency) pairs to encode and then concatenate them to find the subwords."
      ],
      "metadata": {
        "id": "lqXqolbHM5qN"
      }
    },
    {
      "cell_type": "code",
      "source": [
        "def get_pairs(word_freq_dict):\n",
        "    pairs = collections.defaultdict(int)\n",
        "    for word, freq in word_freq_dict.items():\n",
        "        chars = word.split()\n",
        "        for i in range(len(chars)-1):\n",
        "            pairs[chars[i], chars[i+1]] += freq\n",
        "    return pairs\n",
        "\n",
        "def merge_byte_pairs(best_pair, word_freq_dict):\n",
        "    merged_dict = {}\n",
        "    bigram = re.escape(' '.join(best_pair))\n",
        "    p = re.compile(r'(?<!\\S)' + bigram + r'(?!\\S)')\n",
        "    for word in word_freq_dict:\n",
        "        # print(word)\n",
        "        w_out = p.sub(''.join(best_pair), word)\n",
        "        merged_dict[w_out] = word_freq_dict[word]\n",
        "    return merged_dict\n",
        "\n",
        "def get_subword_tokens(word_freq_dict):\n",
        "    char_freq_dict = collections.defaultdict(int)\n",
        "    for word, freq in word_freq_dict.items():\n",
        "        chars = word.split()\n",
        "        for char in chars:\n",
        "            char_freq_dict[char] += freq\n",
        "    return char_freq_dict\n",
        "\n",
        "text = \"There is an 80% chance of rainfall today. We are pretty sure it is going to rain.\"\n",
        "## get the word frequency and add the end of word (</w>) token at the end of each word\n",
        "words = text.strip().split(\" \")\n",
        "word_freq_dict = collections.defaultdict(int)\n",
        "for word in words:\n",
        "    word_freq_dict[' '.join(word) + ' </w>'] += 1\n",
        "\n",
        "i = 0\n",
        "while True:\n",
        "    #Find the most frequently occurring byte pairs in each iteration.\n",
        "    pairs = get_pairs(word_freq_dict)\n",
        "    if len(pairs) == 0:\n",
        "      break\n",
        "    else:\n",
        "      best_pair = max(pairs, key=pairs.get)\n",
        "      print(f'The most frequent occurrences of pairs: {best_pair}: {pairs[best_pair]}')\n",
        "      print(f\"Iteration {i}: \")\n",
        "      #Merge these tokens\n",
        "      word_freq_dict = merge_byte_pairs(best_pair, word_freq_dict)\n",
        "      print(f'Word frequency list: {[f\"{k}: {v}\" for k, v in word_freq_dict.items()]}')\n",
        "      #Recalculate the character tokens frequency with the new pair encoding added\n",
        "      subword_tokens = get_subword_tokens(word_freq_dict)\n",
        "      print(len(subword_tokens))\n",
        "      print(f'Character frequency list: {[f\"{k}: {v}\" for k, v in subword_tokens.items()]}')\n",
        "      print(\"--------\")\n",
        "      #Keep doing it until there is no more pair or you reach the end of the for loop.\n",
        "      i+=1"
      ],
      "metadata": {
        "colab": {
          "base_uri": "https://localhost:8080/"
        },
        "id": "zc6XMLtNfdy3",
        "outputId": "0425824a-6b7e-4e66-d40c-c8659c709853"
      },
      "execution_count": null,
      "outputs": [
        {
          "output_type": "stream",
          "name": "stdout",
          "text": [
            "The most frequent occurrences of pairs: ('e', '</w>'): 5\n",
            "Iteration 0: \n",
            "Word frequency list: ['T h e r e</w>: 1', 'i s </w>: 2', 'a n </w>: 1', '8 0 % </w>: 1', 'c h a n c e</w>: 1', 'o f </w>: 1', 'r a i n f a l l </w>: 1', 't o d a y . </w>: 1', 'W e</w>: 1', 'a r e</w>: 1', 'p r e t t y </w>: 1', 's u r e</w>: 1', 'i t </w>: 1', 'g o i n g </w>: 1', 't o </w>: 1', 'r a i n . </w>: 1']\n",
            "25\n",
            "Character frequency list: ['T: 1', 'h: 2', 'e: 2', 'r: 6', 'e</w>: 5', 'i: 6', 's: 3', '</w>: 12', 'a: 7', 'n: 5', '8: 1', '0: 1', '%: 1', 'c: 2', 'o: 4', 'f: 2', 'l: 2', 't: 5', 'd: 1', 'y: 2', '.: 2', 'W: 1', 'p: 1', 'u: 1', 'g: 2']\n",
            "--------\n",
            "The most frequent occurrences of pairs: ('r', 'e</w>'): 3\n",
            "Iteration 1: \n",
            "Word frequency list: ['T h e re</w>: 1', 'i s </w>: 2', 'a n </w>: 1', '8 0 % </w>: 1', 'c h a n c e</w>: 1', 'o f </w>: 1', 'r a i n f a l l </w>: 1', 't o d a y . </w>: 1', 'W e</w>: 1', 'a re</w>: 1', 'p r e t t y </w>: 1', 's u re</w>: 1', 'i t </w>: 1', 'g o i n g </w>: 1', 't o </w>: 1', 'r a i n . </w>: 1']\n",
            "26\n",
            "Character frequency list: ['T: 1', 'h: 2', 'e: 2', 're</w>: 3', 'i: 6', 's: 3', '</w>: 12', 'a: 7', 'n: 5', '8: 1', '0: 1', '%: 1', 'c: 2', 'e</w>: 2', 'o: 4', 'f: 2', 'r: 3', 'l: 2', 't: 5', 'd: 1', 'y: 2', '.: 2', 'W: 1', 'p: 1', 'u: 1', 'g: 2']\n",
            "--------\n",
            "The most frequent occurrences of pairs: ('i', 'n'): 3\n",
            "Iteration 2: \n",
            "Word frequency list: ['T h e re</w>: 1', 'i s </w>: 2', 'a n </w>: 1', '8 0 % </w>: 1', 'c h a n c e</w>: 1', 'o f </w>: 1', 'r a in f a l l </w>: 1', 't o d a y . </w>: 1', 'W e</w>: 1', 'a re</w>: 1', 'p r e t t y </w>: 1', 's u re</w>: 1', 'i t </w>: 1', 'g o in g </w>: 1', 't o </w>: 1', 'r a in . </w>: 1']\n",
            "27\n",
            "Character frequency list: ['T: 1', 'h: 2', 'e: 2', 're</w>: 3', 'i: 3', 's: 3', '</w>: 12', 'a: 7', 'n: 2', '8: 1', '0: 1', '%: 1', 'c: 2', 'e</w>: 2', 'o: 4', 'f: 2', 'r: 3', 'in: 3', 'l: 2', 't: 5', 'd: 1', 'y: 2', '.: 2', 'W: 1', 'p: 1', 'u: 1', 'g: 2']\n",
            "--------\n",
            "The most frequent occurrences of pairs: ('i', 's'): 2\n",
            "Iteration 3: \n",
            "Word frequency list: ['T h e re</w>: 1', 'is </w>: 2', 'a n </w>: 1', '8 0 % </w>: 1', 'c h a n c e</w>: 1', 'o f </w>: 1', 'r a in f a l l </w>: 1', 't o d a y . </w>: 1', 'W e</w>: 1', 'a re</w>: 1', 'p r e t t y </w>: 1', 's u re</w>: 1', 'i t </w>: 1', 'g o in g </w>: 1', 't o </w>: 1', 'r a in . </w>: 1']\n",
            "28\n",
            "Character frequency list: ['T: 1', 'h: 2', 'e: 2', 're</w>: 3', 'is: 2', '</w>: 12', 'a: 7', 'n: 2', '8: 1', '0: 1', '%: 1', 'c: 2', 'e</w>: 2', 'o: 4', 'f: 2', 'r: 3', 'in: 3', 'l: 2', 't: 5', 'd: 1', 'y: 2', '.: 2', 'W: 1', 'p: 1', 's: 1', 'u: 1', 'i: 1', 'g: 2']\n",
            "--------\n",
            "The most frequent occurrences of pairs: ('is', '</w>'): 2\n",
            "Iteration 4: \n",
            "Word frequency list: ['T h e re</w>: 1', 'is</w>: 2', 'a n </w>: 1', '8 0 % </w>: 1', 'c h a n c e</w>: 1', 'o f </w>: 1', 'r a in f a l l </w>: 1', 't o d a y . </w>: 1', 'W e</w>: 1', 'a re</w>: 1', 'p r e t t y </w>: 1', 's u re</w>: 1', 'i t </w>: 1', 'g o in g </w>: 1', 't o </w>: 1', 'r a in . </w>: 1']\n",
            "28\n",
            "Character frequency list: ['T: 1', 'h: 2', 'e: 2', 're</w>: 3', 'is</w>: 2', 'a: 7', 'n: 2', '</w>: 10', '8: 1', '0: 1', '%: 1', 'c: 2', 'e</w>: 2', 'o: 4', 'f: 2', 'r: 3', 'in: 3', 'l: 2', 't: 5', 'd: 1', 'y: 2', '.: 2', 'W: 1', 'p: 1', 's: 1', 'u: 1', 'i: 1', 'g: 2']\n",
            "--------\n",
            "The most frequent occurrences of pairs: ('a', 'n'): 2\n",
            "Iteration 5: \n",
            "Word frequency list: ['T h e re</w>: 1', 'is</w>: 2', 'an </w>: 1', '8 0 % </w>: 1', 'c h an c e</w>: 1', 'o f </w>: 1', 'r a in f a l l </w>: 1', 't o d a y . </w>: 1', 'W e</w>: 1', 'a re</w>: 1', 'p r e t t y </w>: 1', 's u re</w>: 1', 'i t </w>: 1', 'g o in g </w>: 1', 't o </w>: 1', 'r a in . </w>: 1']\n",
            "28\n",
            "Character frequency list: ['T: 1', 'h: 2', 'e: 2', 're</w>: 3', 'is</w>: 2', 'an: 2', '</w>: 10', '8: 1', '0: 1', '%: 1', 'c: 2', 'e</w>: 2', 'o: 4', 'f: 2', 'r: 3', 'a: 5', 'in: 3', 'l: 2', 't: 5', 'd: 1', 'y: 2', '.: 2', 'W: 1', 'p: 1', 's: 1', 'u: 1', 'i: 1', 'g: 2']\n",
            "--------\n",
            "The most frequent occurrences of pairs: ('r', 'a'): 2\n",
            "Iteration 6: \n",
            "Word frequency list: ['T h e re</w>: 1', 'is</w>: 2', 'an </w>: 1', '8 0 % </w>: 1', 'c h an c e</w>: 1', 'o f </w>: 1', 'ra in f a l l </w>: 1', 't o d a y . </w>: 1', 'W e</w>: 1', 'a re</w>: 1', 'p r e t t y </w>: 1', 's u re</w>: 1', 'i t </w>: 1', 'g o in g </w>: 1', 't o </w>: 1', 'ra in . </w>: 1']\n",
            "29\n",
            "Character frequency list: ['T: 1', 'h: 2', 'e: 2', 're</w>: 3', 'is</w>: 2', 'an: 2', '</w>: 10', '8: 1', '0: 1', '%: 1', 'c: 2', 'e</w>: 2', 'o: 4', 'f: 2', 'ra: 2', 'in: 3', 'a: 3', 'l: 2', 't: 5', 'd: 1', 'y: 2', '.: 2', 'W: 1', 'p: 1', 'r: 1', 's: 1', 'u: 1', 'i: 1', 'g: 2']\n",
            "--------\n",
            "The most frequent occurrences of pairs: ('ra', 'in'): 2\n",
            "Iteration 7: \n",
            "Word frequency list: ['T h e re</w>: 1', 'is</w>: 2', 'an </w>: 1', '8 0 % </w>: 1', 'c h an c e</w>: 1', 'o f </w>: 1', 'rain f a l l </w>: 1', 't o d a y . </w>: 1', 'W e</w>: 1', 'a re</w>: 1', 'p r e t t y </w>: 1', 's u re</w>: 1', 'i t </w>: 1', 'g o in g </w>: 1', 't o </w>: 1', 'rain . </w>: 1']\n",
            "29\n",
            "Character frequency list: ['T: 1', 'h: 2', 'e: 2', 're</w>: 3', 'is</w>: 2', 'an: 2', '</w>: 10', '8: 1', '0: 1', '%: 1', 'c: 2', 'e</w>: 2', 'o: 4', 'f: 2', 'rain: 2', 'a: 3', 'l: 2', 't: 5', 'd: 1', 'y: 2', '.: 2', 'W: 1', 'p: 1', 'r: 1', 's: 1', 'u: 1', 'i: 1', 'g: 2', 'in: 1']\n",
            "--------\n",
            "The most frequent occurrences of pairs: ('t', 'o'): 2\n",
            "Iteration 8: \n",
            "Word frequency list: ['T h e re</w>: 1', 'is</w>: 2', 'an </w>: 1', '8 0 % </w>: 1', 'c h an c e</w>: 1', 'o f </w>: 1', 'rain f a l l </w>: 1', 'to d a y . </w>: 1', 'W e</w>: 1', 'a re</w>: 1', 'p r e t t y </w>: 1', 's u re</w>: 1', 'i t </w>: 1', 'g o in g </w>: 1', 'to </w>: 1', 'rain . </w>: 1']\n",
            "30\n",
            "Character frequency list: ['T: 1', 'h: 2', 'e: 2', 're</w>: 3', 'is</w>: 2', 'an: 2', '</w>: 10', '8: 1', '0: 1', '%: 1', 'c: 2', 'e</w>: 2', 'o: 2', 'f: 2', 'rain: 2', 'a: 3', 'l: 2', 'to: 2', 'd: 1', 'y: 2', '.: 2', 'W: 1', 'p: 1', 'r: 1', 't: 3', 's: 1', 'u: 1', 'i: 1', 'g: 2', 'in: 1']\n",
            "--------\n",
            "The most frequent occurrences of pairs: ('.', '</w>'): 2\n",
            "Iteration 9: \n",
            "Word frequency list: ['T h e re</w>: 1', 'is</w>: 2', 'an </w>: 1', '8 0 % </w>: 1', 'c h an c e</w>: 1', 'o f </w>: 1', 'rain f a l l </w>: 1', 'to d a y .</w>: 1', 'W e</w>: 1', 'a re</w>: 1', 'p r e t t y </w>: 1', 's u re</w>: 1', 'i t </w>: 1', 'g o in g </w>: 1', 'to </w>: 1', 'rain .</w>: 1']\n",
            "30\n",
            "Character frequency list: ['T: 1', 'h: 2', 'e: 2', 're</w>: 3', 'is</w>: 2', 'an: 2', '</w>: 8', '8: 1', '0: 1', '%: 1', 'c: 2', 'e</w>: 2', 'o: 2', 'f: 2', 'rain: 2', 'a: 3', 'l: 2', 'to: 2', 'd: 1', 'y: 2', '.</w>: 2', 'W: 1', 'p: 1', 'r: 1', 't: 3', 's: 1', 'u: 1', 'i: 1', 'g: 2', 'in: 1']\n",
            "--------\n",
            "The most frequent occurrences of pairs: ('T', 'h'): 1\n",
            "Iteration 10: \n",
            "Word frequency list: ['Th e re</w>: 1', 'is</w>: 2', 'an </w>: 1', '8 0 % </w>: 1', 'c h an c e</w>: 1', 'o f </w>: 1', 'rain f a l l </w>: 1', 'to d a y .</w>: 1', 'W e</w>: 1', 'a re</w>: 1', 'p r e t t y </w>: 1', 's u re</w>: 1', 'i t </w>: 1', 'g o in g </w>: 1', 'to </w>: 1', 'rain .</w>: 1']\n",
            "30\n",
            "Character frequency list: ['Th: 1', 'e: 2', 're</w>: 3', 'is</w>: 2', 'an: 2', '</w>: 8', '8: 1', '0: 1', '%: 1', 'c: 2', 'h: 1', 'e</w>: 2', 'o: 2', 'f: 2', 'rain: 2', 'a: 3', 'l: 2', 'to: 2', 'd: 1', 'y: 2', '.</w>: 2', 'W: 1', 'p: 1', 'r: 1', 't: 3', 's: 1', 'u: 1', 'i: 1', 'g: 2', 'in: 1']\n",
            "--------\n",
            "The most frequent occurrences of pairs: ('Th', 'e'): 1\n",
            "Iteration 11: \n",
            "Word frequency list: ['The re</w>: 1', 'is</w>: 2', 'an </w>: 1', '8 0 % </w>: 1', 'c h an c e</w>: 1', 'o f </w>: 1', 'rain f a l l </w>: 1', 'to d a y .</w>: 1', 'W e</w>: 1', 'a re</w>: 1', 'p r e t t y </w>: 1', 's u re</w>: 1', 'i t </w>: 1', 'g o in g </w>: 1', 'to </w>: 1', 'rain .</w>: 1']\n",
            "30\n",
            "Character frequency list: ['The: 1', 're</w>: 3', 'is</w>: 2', 'an: 2', '</w>: 8', '8: 1', '0: 1', '%: 1', 'c: 2', 'h: 1', 'e</w>: 2', 'o: 2', 'f: 2', 'rain: 2', 'a: 3', 'l: 2', 'to: 2', 'd: 1', 'y: 2', '.</w>: 2', 'W: 1', 'p: 1', 'r: 1', 'e: 1', 't: 3', 's: 1', 'u: 1', 'i: 1', 'g: 2', 'in: 1']\n",
            "--------\n",
            "The most frequent occurrences of pairs: ('The', 're</w>'): 1\n",
            "Iteration 12: \n",
            "Word frequency list: ['There</w>: 1', 'is</w>: 2', 'an </w>: 1', '8 0 % </w>: 1', 'c h an c e</w>: 1', 'o f </w>: 1', 'rain f a l l </w>: 1', 'to d a y .</w>: 1', 'W e</w>: 1', 'a re</w>: 1', 'p r e t t y </w>: 1', 's u re</w>: 1', 'i t </w>: 1', 'g o in g </w>: 1', 'to </w>: 1', 'rain .</w>: 1']\n",
            "30\n",
            "Character frequency list: ['There</w>: 1', 'is</w>: 2', 'an: 2', '</w>: 8', '8: 1', '0: 1', '%: 1', 'c: 2', 'h: 1', 'e</w>: 2', 'o: 2', 'f: 2', 'rain: 2', 'a: 3', 'l: 2', 'to: 2', 'd: 1', 'y: 2', '.</w>: 2', 'W: 1', 're</w>: 2', 'p: 1', 'r: 1', 'e: 1', 't: 3', 's: 1', 'u: 1', 'i: 1', 'g: 2', 'in: 1']\n",
            "--------\n",
            "The most frequent occurrences of pairs: ('an', '</w>'): 1\n",
            "Iteration 13: \n",
            "Word frequency list: ['There</w>: 1', 'is</w>: 2', 'an</w>: 1', '8 0 % </w>: 1', 'c h an c e</w>: 1', 'o f </w>: 1', 'rain f a l l </w>: 1', 'to d a y .</w>: 1', 'W e</w>: 1', 'a re</w>: 1', 'p r e t t y </w>: 1', 's u re</w>: 1', 'i t </w>: 1', 'g o in g </w>: 1', 'to </w>: 1', 'rain .</w>: 1']\n",
            "31\n",
            "Character frequency list: ['There</w>: 1', 'is</w>: 2', 'an</w>: 1', '8: 1', '0: 1', '%: 1', '</w>: 7', 'c: 2', 'h: 1', 'an: 1', 'e</w>: 2', 'o: 2', 'f: 2', 'rain: 2', 'a: 3', 'l: 2', 'to: 2', 'd: 1', 'y: 2', '.</w>: 2', 'W: 1', 're</w>: 2', 'p: 1', 'r: 1', 'e: 1', 't: 3', 's: 1', 'u: 1', 'i: 1', 'g: 2', 'in: 1']\n",
            "--------\n",
            "The most frequent occurrences of pairs: ('8', '0'): 1\n",
            "Iteration 14: \n",
            "Word frequency list: ['There</w>: 1', 'is</w>: 2', 'an</w>: 1', '80 % </w>: 1', 'c h an c e</w>: 1', 'o f </w>: 1', 'rain f a l l </w>: 1', 'to d a y .</w>: 1', 'W e</w>: 1', 'a re</w>: 1', 'p r e t t y </w>: 1', 's u re</w>: 1', 'i t </w>: 1', 'g o in g </w>: 1', 'to </w>: 1', 'rain .</w>: 1']\n",
            "30\n",
            "Character frequency list: ['There</w>: 1', 'is</w>: 2', 'an</w>: 1', '80: 1', '%: 1', '</w>: 7', 'c: 2', 'h: 1', 'an: 1', 'e</w>: 2', 'o: 2', 'f: 2', 'rain: 2', 'a: 3', 'l: 2', 'to: 2', 'd: 1', 'y: 2', '.</w>: 2', 'W: 1', 're</w>: 2', 'p: 1', 'r: 1', 'e: 1', 't: 3', 's: 1', 'u: 1', 'i: 1', 'g: 2', 'in: 1']\n",
            "--------\n",
            "The most frequent occurrences of pairs: ('80', '%'): 1\n",
            "Iteration 15: \n",
            "Word frequency list: ['There</w>: 1', 'is</w>: 2', 'an</w>: 1', '80% </w>: 1', 'c h an c e</w>: 1', 'o f </w>: 1', 'rain f a l l </w>: 1', 'to d a y .</w>: 1', 'W e</w>: 1', 'a re</w>: 1', 'p r e t t y </w>: 1', 's u re</w>: 1', 'i t </w>: 1', 'g o in g </w>: 1', 'to </w>: 1', 'rain .</w>: 1']\n",
            "29\n",
            "Character frequency list: ['There</w>: 1', 'is</w>: 2', 'an</w>: 1', '80%: 1', '</w>: 7', 'c: 2', 'h: 1', 'an: 1', 'e</w>: 2', 'o: 2', 'f: 2', 'rain: 2', 'a: 3', 'l: 2', 'to: 2', 'd: 1', 'y: 2', '.</w>: 2', 'W: 1', 're</w>: 2', 'p: 1', 'r: 1', 'e: 1', 't: 3', 's: 1', 'u: 1', 'i: 1', 'g: 2', 'in: 1']\n",
            "--------\n",
            "The most frequent occurrences of pairs: ('80%', '</w>'): 1\n",
            "Iteration 16: \n",
            "Word frequency list: ['There</w>: 1', 'is</w>: 2', 'an</w>: 1', '80%</w>: 1', 'c h an c e</w>: 1', 'o f </w>: 1', 'rain f a l l </w>: 1', 'to d a y .</w>: 1', 'W e</w>: 1', 'a re</w>: 1', 'p r e t t y </w>: 1', 's u re</w>: 1', 'i t </w>: 1', 'g o in g </w>: 1', 'to </w>: 1', 'rain .</w>: 1']\n",
            "29\n",
            "Character frequency list: ['There</w>: 1', 'is</w>: 2', 'an</w>: 1', '80%</w>: 1', 'c: 2', 'h: 1', 'an: 1', 'e</w>: 2', 'o: 2', 'f: 2', '</w>: 6', 'rain: 2', 'a: 3', 'l: 2', 'to: 2', 'd: 1', 'y: 2', '.</w>: 2', 'W: 1', 're</w>: 2', 'p: 1', 'r: 1', 'e: 1', 't: 3', 's: 1', 'u: 1', 'i: 1', 'g: 2', 'in: 1']\n",
            "--------\n",
            "The most frequent occurrences of pairs: ('c', 'h'): 1\n",
            "Iteration 17: \n",
            "Word frequency list: ['There</w>: 1', 'is</w>: 2', 'an</w>: 1', '80%</w>: 1', 'ch an c e</w>: 1', 'o f </w>: 1', 'rain f a l l </w>: 1', 'to d a y .</w>: 1', 'W e</w>: 1', 'a re</w>: 1', 'p r e t t y </w>: 1', 's u re</w>: 1', 'i t </w>: 1', 'g o in g </w>: 1', 'to </w>: 1', 'rain .</w>: 1']\n",
            "29\n",
            "Character frequency list: ['There</w>: 1', 'is</w>: 2', 'an</w>: 1', '80%</w>: 1', 'ch: 1', 'an: 1', 'c: 1', 'e</w>: 2', 'o: 2', 'f: 2', '</w>: 6', 'rain: 2', 'a: 3', 'l: 2', 'to: 2', 'd: 1', 'y: 2', '.</w>: 2', 'W: 1', 're</w>: 2', 'p: 1', 'r: 1', 'e: 1', 't: 3', 's: 1', 'u: 1', 'i: 1', 'g: 2', 'in: 1']\n",
            "--------\n",
            "The most frequent occurrences of pairs: ('ch', 'an'): 1\n",
            "Iteration 18: \n",
            "Word frequency list: ['There</w>: 1', 'is</w>: 2', 'an</w>: 1', '80%</w>: 1', 'chan c e</w>: 1', 'o f </w>: 1', 'rain f a l l </w>: 1', 'to d a y .</w>: 1', 'W e</w>: 1', 'a re</w>: 1', 'p r e t t y </w>: 1', 's u re</w>: 1', 'i t </w>: 1', 'g o in g </w>: 1', 'to </w>: 1', 'rain .</w>: 1']\n",
            "28\n",
            "Character frequency list: ['There</w>: 1', 'is</w>: 2', 'an</w>: 1', '80%</w>: 1', 'chan: 1', 'c: 1', 'e</w>: 2', 'o: 2', 'f: 2', '</w>: 6', 'rain: 2', 'a: 3', 'l: 2', 'to: 2', 'd: 1', 'y: 2', '.</w>: 2', 'W: 1', 're</w>: 2', 'p: 1', 'r: 1', 'e: 1', 't: 3', 's: 1', 'u: 1', 'i: 1', 'g: 2', 'in: 1']\n",
            "--------\n",
            "The most frequent occurrences of pairs: ('chan', 'c'): 1\n",
            "Iteration 19: \n",
            "Word frequency list: ['There</w>: 1', 'is</w>: 2', 'an</w>: 1', '80%</w>: 1', 'chanc e</w>: 1', 'o f </w>: 1', 'rain f a l l </w>: 1', 'to d a y .</w>: 1', 'W e</w>: 1', 'a re</w>: 1', 'p r e t t y </w>: 1', 's u re</w>: 1', 'i t </w>: 1', 'g o in g </w>: 1', 'to </w>: 1', 'rain .</w>: 1']\n",
            "27\n",
            "Character frequency list: ['There</w>: 1', 'is</w>: 2', 'an</w>: 1', '80%</w>: 1', 'chanc: 1', 'e</w>: 2', 'o: 2', 'f: 2', '</w>: 6', 'rain: 2', 'a: 3', 'l: 2', 'to: 2', 'd: 1', 'y: 2', '.</w>: 2', 'W: 1', 're</w>: 2', 'p: 1', 'r: 1', 'e: 1', 't: 3', 's: 1', 'u: 1', 'i: 1', 'g: 2', 'in: 1']\n",
            "--------\n",
            "The most frequent occurrences of pairs: ('chanc', 'e</w>'): 1\n",
            "Iteration 20: \n",
            "Word frequency list: ['There</w>: 1', 'is</w>: 2', 'an</w>: 1', '80%</w>: 1', 'chance</w>: 1', 'o f </w>: 1', 'rain f a l l </w>: 1', 'to d a y .</w>: 1', 'W e</w>: 1', 'a re</w>: 1', 'p r e t t y </w>: 1', 's u re</w>: 1', 'i t </w>: 1', 'g o in g </w>: 1', 'to </w>: 1', 'rain .</w>: 1']\n",
            "27\n",
            "Character frequency list: ['There</w>: 1', 'is</w>: 2', 'an</w>: 1', '80%</w>: 1', 'chance</w>: 1', 'o: 2', 'f: 2', '</w>: 6', 'rain: 2', 'a: 3', 'l: 2', 'to: 2', 'd: 1', 'y: 2', '.</w>: 2', 'W: 1', 'e</w>: 1', 're</w>: 2', 'p: 1', 'r: 1', 'e: 1', 't: 3', 's: 1', 'u: 1', 'i: 1', 'g: 2', 'in: 1']\n",
            "--------\n",
            "The most frequent occurrences of pairs: ('o', 'f'): 1\n",
            "Iteration 21: \n",
            "Word frequency list: ['There</w>: 1', 'is</w>: 2', 'an</w>: 1', '80%</w>: 1', 'chance</w>: 1', 'of </w>: 1', 'rain f a l l </w>: 1', 'to d a y .</w>: 1', 'W e</w>: 1', 'a re</w>: 1', 'p r e t t y </w>: 1', 's u re</w>: 1', 'i t </w>: 1', 'g o in g </w>: 1', 'to </w>: 1', 'rain .</w>: 1']\n",
            "28\n",
            "Character frequency list: ['There</w>: 1', 'is</w>: 2', 'an</w>: 1', '80%</w>: 1', 'chance</w>: 1', 'of: 1', '</w>: 6', 'rain: 2', 'f: 1', 'a: 3', 'l: 2', 'to: 2', 'd: 1', 'y: 2', '.</w>: 2', 'W: 1', 'e</w>: 1', 're</w>: 2', 'p: 1', 'r: 1', 'e: 1', 't: 3', 's: 1', 'u: 1', 'i: 1', 'g: 2', 'o: 1', 'in: 1']\n",
            "--------\n",
            "The most frequent occurrences of pairs: ('of', '</w>'): 1\n",
            "Iteration 22: \n",
            "Word frequency list: ['There</w>: 1', 'is</w>: 2', 'an</w>: 1', '80%</w>: 1', 'chance</w>: 1', 'of</w>: 1', 'rain f a l l </w>: 1', 'to d a y .</w>: 1', 'W e</w>: 1', 'a re</w>: 1', 'p r e t t y </w>: 1', 's u re</w>: 1', 'i t </w>: 1', 'g o in g </w>: 1', 'to </w>: 1', 'rain .</w>: 1']\n",
            "28\n",
            "Character frequency list: ['There</w>: 1', 'is</w>: 2', 'an</w>: 1', '80%</w>: 1', 'chance</w>: 1', 'of</w>: 1', 'rain: 2', 'f: 1', 'a: 3', 'l: 2', '</w>: 5', 'to: 2', 'd: 1', 'y: 2', '.</w>: 2', 'W: 1', 'e</w>: 1', 're</w>: 2', 'p: 1', 'r: 1', 'e: 1', 't: 3', 's: 1', 'u: 1', 'i: 1', 'g: 2', 'o: 1', 'in: 1']\n",
            "--------\n",
            "The most frequent occurrences of pairs: ('rain', 'f'): 1\n",
            "Iteration 23: \n",
            "Word frequency list: ['There</w>: 1', 'is</w>: 2', 'an</w>: 1', '80%</w>: 1', 'chance</w>: 1', 'of</w>: 1', 'rainf a l l </w>: 1', 'to d a y .</w>: 1', 'W e</w>: 1', 'a re</w>: 1', 'p r e t t y </w>: 1', 's u re</w>: 1', 'i t </w>: 1', 'g o in g </w>: 1', 'to </w>: 1', 'rain .</w>: 1']\n",
            "28\n",
            "Character frequency list: ['There</w>: 1', 'is</w>: 2', 'an</w>: 1', '80%</w>: 1', 'chance</w>: 1', 'of</w>: 1', 'rainf: 1', 'a: 3', 'l: 2', '</w>: 5', 'to: 2', 'd: 1', 'y: 2', '.</w>: 2', 'W: 1', 'e</w>: 1', 're</w>: 2', 'p: 1', 'r: 1', 'e: 1', 't: 3', 's: 1', 'u: 1', 'i: 1', 'g: 2', 'o: 1', 'in: 1', 'rain: 1']\n",
            "--------\n",
            "The most frequent occurrences of pairs: ('rainf', 'a'): 1\n",
            "Iteration 24: \n",
            "Word frequency list: ['There</w>: 1', 'is</w>: 2', 'an</w>: 1', '80%</w>: 1', 'chance</w>: 1', 'of</w>: 1', 'rainfa l l </w>: 1', 'to d a y .</w>: 1', 'W e</w>: 1', 'a re</w>: 1', 'p r e t t y </w>: 1', 's u re</w>: 1', 'i t </w>: 1', 'g o in g </w>: 1', 'to </w>: 1', 'rain .</w>: 1']\n",
            "28\n",
            "Character frequency list: ['There</w>: 1', 'is</w>: 2', 'an</w>: 1', '80%</w>: 1', 'chance</w>: 1', 'of</w>: 1', 'rainfa: 1', 'l: 2', '</w>: 5', 'to: 2', 'd: 1', 'a: 2', 'y: 2', '.</w>: 2', 'W: 1', 'e</w>: 1', 're</w>: 2', 'p: 1', 'r: 1', 'e: 1', 't: 3', 's: 1', 'u: 1', 'i: 1', 'g: 2', 'o: 1', 'in: 1', 'rain: 1']\n",
            "--------\n",
            "The most frequent occurrences of pairs: ('rainfa', 'l'): 1\n",
            "Iteration 25: \n",
            "Word frequency list: ['There</w>: 1', 'is</w>: 2', 'an</w>: 1', '80%</w>: 1', 'chance</w>: 1', 'of</w>: 1', 'rainfal l </w>: 1', 'to d a y .</w>: 1', 'W e</w>: 1', 'a re</w>: 1', 'p r e t t y </w>: 1', 's u re</w>: 1', 'i t </w>: 1', 'g o in g </w>: 1', 'to </w>: 1', 'rain .</w>: 1']\n",
            "28\n",
            "Character frequency list: ['There</w>: 1', 'is</w>: 2', 'an</w>: 1', '80%</w>: 1', 'chance</w>: 1', 'of</w>: 1', 'rainfal: 1', 'l: 1', '</w>: 5', 'to: 2', 'd: 1', 'a: 2', 'y: 2', '.</w>: 2', 'W: 1', 'e</w>: 1', 're</w>: 2', 'p: 1', 'r: 1', 'e: 1', 't: 3', 's: 1', 'u: 1', 'i: 1', 'g: 2', 'o: 1', 'in: 1', 'rain: 1']\n",
            "--------\n",
            "The most frequent occurrences of pairs: ('rainfal', 'l'): 1\n",
            "Iteration 26: \n",
            "Word frequency list: ['There</w>: 1', 'is</w>: 2', 'an</w>: 1', '80%</w>: 1', 'chance</w>: 1', 'of</w>: 1', 'rainfall </w>: 1', 'to d a y .</w>: 1', 'W e</w>: 1', 'a re</w>: 1', 'p r e t t y </w>: 1', 's u re</w>: 1', 'i t </w>: 1', 'g o in g </w>: 1', 'to </w>: 1', 'rain .</w>: 1']\n",
            "27\n",
            "Character frequency list: ['There</w>: 1', 'is</w>: 2', 'an</w>: 1', '80%</w>: 1', 'chance</w>: 1', 'of</w>: 1', 'rainfall: 1', '</w>: 5', 'to: 2', 'd: 1', 'a: 2', 'y: 2', '.</w>: 2', 'W: 1', 'e</w>: 1', 're</w>: 2', 'p: 1', 'r: 1', 'e: 1', 't: 3', 's: 1', 'u: 1', 'i: 1', 'g: 2', 'o: 1', 'in: 1', 'rain: 1']\n",
            "--------\n",
            "The most frequent occurrences of pairs: ('rainfall', '</w>'): 1\n",
            "Iteration 27: \n",
            "Word frequency list: ['There</w>: 1', 'is</w>: 2', 'an</w>: 1', '80%</w>: 1', 'chance</w>: 1', 'of</w>: 1', 'rainfall</w>: 1', 'to d a y .</w>: 1', 'W e</w>: 1', 'a re</w>: 1', 'p r e t t y </w>: 1', 's u re</w>: 1', 'i t </w>: 1', 'g o in g </w>: 1', 'to </w>: 1', 'rain .</w>: 1']\n",
            "27\n",
            "Character frequency list: ['There</w>: 1', 'is</w>: 2', 'an</w>: 1', '80%</w>: 1', 'chance</w>: 1', 'of</w>: 1', 'rainfall</w>: 1', 'to: 2', 'd: 1', 'a: 2', 'y: 2', '.</w>: 2', 'W: 1', 'e</w>: 1', 're</w>: 2', 'p: 1', 'r: 1', 'e: 1', 't: 3', '</w>: 4', 's: 1', 'u: 1', 'i: 1', 'g: 2', 'o: 1', 'in: 1', 'rain: 1']\n",
            "--------\n",
            "The most frequent occurrences of pairs: ('to', 'd'): 1\n",
            "Iteration 28: \n",
            "Word frequency list: ['There</w>: 1', 'is</w>: 2', 'an</w>: 1', '80%</w>: 1', 'chance</w>: 1', 'of</w>: 1', 'rainfall</w>: 1', 'tod a y .</w>: 1', 'W e</w>: 1', 'a re</w>: 1', 'p r e t t y </w>: 1', 's u re</w>: 1', 'i t </w>: 1', 'g o in g </w>: 1', 'to </w>: 1', 'rain .</w>: 1']\n",
            "27\n",
            "Character frequency list: ['There</w>: 1', 'is</w>: 2', 'an</w>: 1', '80%</w>: 1', 'chance</w>: 1', 'of</w>: 1', 'rainfall</w>: 1', 'tod: 1', 'a: 2', 'y: 2', '.</w>: 2', 'W: 1', 'e</w>: 1', 're</w>: 2', 'p: 1', 'r: 1', 'e: 1', 't: 3', '</w>: 4', 's: 1', 'u: 1', 'i: 1', 'g: 2', 'o: 1', 'in: 1', 'to: 1', 'rain: 1']\n",
            "--------\n",
            "The most frequent occurrences of pairs: ('tod', 'a'): 1\n",
            "Iteration 29: \n",
            "Word frequency list: ['There</w>: 1', 'is</w>: 2', 'an</w>: 1', '80%</w>: 1', 'chance</w>: 1', 'of</w>: 1', 'rainfall</w>: 1', 'toda y .</w>: 1', 'W e</w>: 1', 'a re</w>: 1', 'p r e t t y </w>: 1', 's u re</w>: 1', 'i t </w>: 1', 'g o in g </w>: 1', 'to </w>: 1', 'rain .</w>: 1']\n",
            "27\n",
            "Character frequency list: ['There</w>: 1', 'is</w>: 2', 'an</w>: 1', '80%</w>: 1', 'chance</w>: 1', 'of</w>: 1', 'rainfall</w>: 1', 'toda: 1', 'y: 2', '.</w>: 2', 'W: 1', 'e</w>: 1', 'a: 1', 're</w>: 2', 'p: 1', 'r: 1', 'e: 1', 't: 3', '</w>: 4', 's: 1', 'u: 1', 'i: 1', 'g: 2', 'o: 1', 'in: 1', 'to: 1', 'rain: 1']\n",
            "--------\n",
            "The most frequent occurrences of pairs: ('toda', 'y'): 1\n",
            "Iteration 30: \n",
            "Word frequency list: ['There</w>: 1', 'is</w>: 2', 'an</w>: 1', '80%</w>: 1', 'chance</w>: 1', 'of</w>: 1', 'rainfall</w>: 1', 'today .</w>: 1', 'W e</w>: 1', 'a re</w>: 1', 'p r e t t y </w>: 1', 's u re</w>: 1', 'i t </w>: 1', 'g o in g </w>: 1', 'to </w>: 1', 'rain .</w>: 1']\n",
            "27\n",
            "Character frequency list: ['There</w>: 1', 'is</w>: 2', 'an</w>: 1', '80%</w>: 1', 'chance</w>: 1', 'of</w>: 1', 'rainfall</w>: 1', 'today: 1', '.</w>: 2', 'W: 1', 'e</w>: 1', 'a: 1', 're</w>: 2', 'p: 1', 'r: 1', 'e: 1', 't: 3', 'y: 1', '</w>: 4', 's: 1', 'u: 1', 'i: 1', 'g: 2', 'o: 1', 'in: 1', 'to: 1', 'rain: 1']\n",
            "--------\n",
            "The most frequent occurrences of pairs: ('today', '.</w>'): 1\n",
            "Iteration 31: \n",
            "Word frequency list: ['There</w>: 1', 'is</w>: 2', 'an</w>: 1', '80%</w>: 1', 'chance</w>: 1', 'of</w>: 1', 'rainfall</w>: 1', 'today.</w>: 1', 'W e</w>: 1', 'a re</w>: 1', 'p r e t t y </w>: 1', 's u re</w>: 1', 'i t </w>: 1', 'g o in g </w>: 1', 'to </w>: 1', 'rain .</w>: 1']\n",
            "27\n",
            "Character frequency list: ['There</w>: 1', 'is</w>: 2', 'an</w>: 1', '80%</w>: 1', 'chance</w>: 1', 'of</w>: 1', 'rainfall</w>: 1', 'today.</w>: 1', 'W: 1', 'e</w>: 1', 'a: 1', 're</w>: 2', 'p: 1', 'r: 1', 'e: 1', 't: 3', 'y: 1', '</w>: 4', 's: 1', 'u: 1', 'i: 1', 'g: 2', 'o: 1', 'in: 1', 'to: 1', 'rain: 1', '.</w>: 1']\n",
            "--------\n",
            "The most frequent occurrences of pairs: ('W', 'e</w>'): 1\n",
            "Iteration 32: \n",
            "Word frequency list: ['There</w>: 1', 'is</w>: 2', 'an</w>: 1', '80%</w>: 1', 'chance</w>: 1', 'of</w>: 1', 'rainfall</w>: 1', 'today.</w>: 1', 'We</w>: 1', 'a re</w>: 1', 'p r e t t y </w>: 1', 's u re</w>: 1', 'i t </w>: 1', 'g o in g </w>: 1', 'to </w>: 1', 'rain .</w>: 1']\n",
            "26\n",
            "Character frequency list: ['There</w>: 1', 'is</w>: 2', 'an</w>: 1', '80%</w>: 1', 'chance</w>: 1', 'of</w>: 1', 'rainfall</w>: 1', 'today.</w>: 1', 'We</w>: 1', 'a: 1', 're</w>: 2', 'p: 1', 'r: 1', 'e: 1', 't: 3', 'y: 1', '</w>: 4', 's: 1', 'u: 1', 'i: 1', 'g: 2', 'o: 1', 'in: 1', 'to: 1', 'rain: 1', '.</w>: 1']\n",
            "--------\n",
            "The most frequent occurrences of pairs: ('a', 're</w>'): 1\n",
            "Iteration 33: \n",
            "Word frequency list: ['There</w>: 1', 'is</w>: 2', 'an</w>: 1', '80%</w>: 1', 'chance</w>: 1', 'of</w>: 1', 'rainfall</w>: 1', 'today.</w>: 1', 'We</w>: 1', 'are</w>: 1', 'p r e t t y </w>: 1', 's u re</w>: 1', 'i t </w>: 1', 'g o in g </w>: 1', 'to </w>: 1', 'rain .</w>: 1']\n",
            "26\n",
            "Character frequency list: ['There</w>: 1', 'is</w>: 2', 'an</w>: 1', '80%</w>: 1', 'chance</w>: 1', 'of</w>: 1', 'rainfall</w>: 1', 'today.</w>: 1', 'We</w>: 1', 'are</w>: 1', 'p: 1', 'r: 1', 'e: 1', 't: 3', 'y: 1', '</w>: 4', 's: 1', 'u: 1', 're</w>: 1', 'i: 1', 'g: 2', 'o: 1', 'in: 1', 'to: 1', 'rain: 1', '.</w>: 1']\n",
            "--------\n",
            "The most frequent occurrences of pairs: ('p', 'r'): 1\n",
            "Iteration 34: \n",
            "Word frequency list: ['There</w>: 1', 'is</w>: 2', 'an</w>: 1', '80%</w>: 1', 'chance</w>: 1', 'of</w>: 1', 'rainfall</w>: 1', 'today.</w>: 1', 'We</w>: 1', 'are</w>: 1', 'pr e t t y </w>: 1', 's u re</w>: 1', 'i t </w>: 1', 'g o in g </w>: 1', 'to </w>: 1', 'rain .</w>: 1']\n",
            "25\n",
            "Character frequency list: ['There</w>: 1', 'is</w>: 2', 'an</w>: 1', '80%</w>: 1', 'chance</w>: 1', 'of</w>: 1', 'rainfall</w>: 1', 'today.</w>: 1', 'We</w>: 1', 'are</w>: 1', 'pr: 1', 'e: 1', 't: 3', 'y: 1', '</w>: 4', 's: 1', 'u: 1', 're</w>: 1', 'i: 1', 'g: 2', 'o: 1', 'in: 1', 'to: 1', 'rain: 1', '.</w>: 1']\n",
            "--------\n",
            "The most frequent occurrences of pairs: ('pr', 'e'): 1\n",
            "Iteration 35: \n",
            "Word frequency list: ['There</w>: 1', 'is</w>: 2', 'an</w>: 1', '80%</w>: 1', 'chance</w>: 1', 'of</w>: 1', 'rainfall</w>: 1', 'today.</w>: 1', 'We</w>: 1', 'are</w>: 1', 'pre t t y </w>: 1', 's u re</w>: 1', 'i t </w>: 1', 'g o in g </w>: 1', 'to </w>: 1', 'rain .</w>: 1']\n",
            "24\n",
            "Character frequency list: ['There</w>: 1', 'is</w>: 2', 'an</w>: 1', '80%</w>: 1', 'chance</w>: 1', 'of</w>: 1', 'rainfall</w>: 1', 'today.</w>: 1', 'We</w>: 1', 'are</w>: 1', 'pre: 1', 't: 3', 'y: 1', '</w>: 4', 's: 1', 'u: 1', 're</w>: 1', 'i: 1', 'g: 2', 'o: 1', 'in: 1', 'to: 1', 'rain: 1', '.</w>: 1']\n",
            "--------\n",
            "The most frequent occurrences of pairs: ('pre', 't'): 1\n",
            "Iteration 36: \n",
            "Word frequency list: ['There</w>: 1', 'is</w>: 2', 'an</w>: 1', '80%</w>: 1', 'chance</w>: 1', 'of</w>: 1', 'rainfall</w>: 1', 'today.</w>: 1', 'We</w>: 1', 'are</w>: 1', 'pret t y </w>: 1', 's u re</w>: 1', 'i t </w>: 1', 'g o in g </w>: 1', 'to </w>: 1', 'rain .</w>: 1']\n",
            "24\n",
            "Character frequency list: ['There</w>: 1', 'is</w>: 2', 'an</w>: 1', '80%</w>: 1', 'chance</w>: 1', 'of</w>: 1', 'rainfall</w>: 1', 'today.</w>: 1', 'We</w>: 1', 'are</w>: 1', 'pret: 1', 't: 2', 'y: 1', '</w>: 4', 's: 1', 'u: 1', 're</w>: 1', 'i: 1', 'g: 2', 'o: 1', 'in: 1', 'to: 1', 'rain: 1', '.</w>: 1']\n",
            "--------\n",
            "The most frequent occurrences of pairs: ('pret', 't'): 1\n",
            "Iteration 37: \n",
            "Word frequency list: ['There</w>: 1', 'is</w>: 2', 'an</w>: 1', '80%</w>: 1', 'chance</w>: 1', 'of</w>: 1', 'rainfall</w>: 1', 'today.</w>: 1', 'We</w>: 1', 'are</w>: 1', 'prett y </w>: 1', 's u re</w>: 1', 'i t </w>: 1', 'g o in g </w>: 1', 'to </w>: 1', 'rain .</w>: 1']\n",
            "24\n",
            "Character frequency list: ['There</w>: 1', 'is</w>: 2', 'an</w>: 1', '80%</w>: 1', 'chance</w>: 1', 'of</w>: 1', 'rainfall</w>: 1', 'today.</w>: 1', 'We</w>: 1', 'are</w>: 1', 'prett: 1', 'y: 1', '</w>: 4', 's: 1', 'u: 1', 're</w>: 1', 'i: 1', 't: 1', 'g: 2', 'o: 1', 'in: 1', 'to: 1', 'rain: 1', '.</w>: 1']\n",
            "--------\n",
            "The most frequent occurrences of pairs: ('prett', 'y'): 1\n",
            "Iteration 38: \n",
            "Word frequency list: ['There</w>: 1', 'is</w>: 2', 'an</w>: 1', '80%</w>: 1', 'chance</w>: 1', 'of</w>: 1', 'rainfall</w>: 1', 'today.</w>: 1', 'We</w>: 1', 'are</w>: 1', 'pretty </w>: 1', 's u re</w>: 1', 'i t </w>: 1', 'g o in g </w>: 1', 'to </w>: 1', 'rain .</w>: 1']\n",
            "23\n",
            "Character frequency list: ['There</w>: 1', 'is</w>: 2', 'an</w>: 1', '80%</w>: 1', 'chance</w>: 1', 'of</w>: 1', 'rainfall</w>: 1', 'today.</w>: 1', 'We</w>: 1', 'are</w>: 1', 'pretty: 1', '</w>: 4', 's: 1', 'u: 1', 're</w>: 1', 'i: 1', 't: 1', 'g: 2', 'o: 1', 'in: 1', 'to: 1', 'rain: 1', '.</w>: 1']\n",
            "--------\n",
            "The most frequent occurrences of pairs: ('pretty', '</w>'): 1\n",
            "Iteration 39: \n",
            "Word frequency list: ['There</w>: 1', 'is</w>: 2', 'an</w>: 1', '80%</w>: 1', 'chance</w>: 1', 'of</w>: 1', 'rainfall</w>: 1', 'today.</w>: 1', 'We</w>: 1', 'are</w>: 1', 'pretty</w>: 1', 's u re</w>: 1', 'i t </w>: 1', 'g o in g </w>: 1', 'to </w>: 1', 'rain .</w>: 1']\n",
            "23\n",
            "Character frequency list: ['There</w>: 1', 'is</w>: 2', 'an</w>: 1', '80%</w>: 1', 'chance</w>: 1', 'of</w>: 1', 'rainfall</w>: 1', 'today.</w>: 1', 'We</w>: 1', 'are</w>: 1', 'pretty</w>: 1', 's: 1', 'u: 1', 're</w>: 1', 'i: 1', 't: 1', '</w>: 3', 'g: 2', 'o: 1', 'in: 1', 'to: 1', 'rain: 1', '.</w>: 1']\n",
            "--------\n",
            "The most frequent occurrences of pairs: ('s', 'u'): 1\n",
            "Iteration 40: \n",
            "Word frequency list: ['There</w>: 1', 'is</w>: 2', 'an</w>: 1', '80%</w>: 1', 'chance</w>: 1', 'of</w>: 1', 'rainfall</w>: 1', 'today.</w>: 1', 'We</w>: 1', 'are</w>: 1', 'pretty</w>: 1', 'su re</w>: 1', 'i t </w>: 1', 'g o in g </w>: 1', 'to </w>: 1', 'rain .</w>: 1']\n",
            "22\n",
            "Character frequency list: ['There</w>: 1', 'is</w>: 2', 'an</w>: 1', '80%</w>: 1', 'chance</w>: 1', 'of</w>: 1', 'rainfall</w>: 1', 'today.</w>: 1', 'We</w>: 1', 'are</w>: 1', 'pretty</w>: 1', 'su: 1', 're</w>: 1', 'i: 1', 't: 1', '</w>: 3', 'g: 2', 'o: 1', 'in: 1', 'to: 1', 'rain: 1', '.</w>: 1']\n",
            "--------\n",
            "The most frequent occurrences of pairs: ('su', 're</w>'): 1\n",
            "Iteration 41: \n",
            "Word frequency list: ['There</w>: 1', 'is</w>: 2', 'an</w>: 1', '80%</w>: 1', 'chance</w>: 1', 'of</w>: 1', 'rainfall</w>: 1', 'today.</w>: 1', 'We</w>: 1', 'are</w>: 1', 'pretty</w>: 1', 'sure</w>: 1', 'i t </w>: 1', 'g o in g </w>: 1', 'to </w>: 1', 'rain .</w>: 1']\n",
            "21\n",
            "Character frequency list: ['There</w>: 1', 'is</w>: 2', 'an</w>: 1', '80%</w>: 1', 'chance</w>: 1', 'of</w>: 1', 'rainfall</w>: 1', 'today.</w>: 1', 'We</w>: 1', 'are</w>: 1', 'pretty</w>: 1', 'sure</w>: 1', 'i: 1', 't: 1', '</w>: 3', 'g: 2', 'o: 1', 'in: 1', 'to: 1', 'rain: 1', '.</w>: 1']\n",
            "--------\n",
            "The most frequent occurrences of pairs: ('i', 't'): 1\n",
            "Iteration 42: \n",
            "Word frequency list: ['There</w>: 1', 'is</w>: 2', 'an</w>: 1', '80%</w>: 1', 'chance</w>: 1', 'of</w>: 1', 'rainfall</w>: 1', 'today.</w>: 1', 'We</w>: 1', 'are</w>: 1', 'pretty</w>: 1', 'sure</w>: 1', 'it </w>: 1', 'g o in g </w>: 1', 'to </w>: 1', 'rain .</w>: 1']\n",
            "20\n",
            "Character frequency list: ['There</w>: 1', 'is</w>: 2', 'an</w>: 1', '80%</w>: 1', 'chance</w>: 1', 'of</w>: 1', 'rainfall</w>: 1', 'today.</w>: 1', 'We</w>: 1', 'are</w>: 1', 'pretty</w>: 1', 'sure</w>: 1', 'it: 1', '</w>: 3', 'g: 2', 'o: 1', 'in: 1', 'to: 1', 'rain: 1', '.</w>: 1']\n",
            "--------\n",
            "The most frequent occurrences of pairs: ('it', '</w>'): 1\n",
            "Iteration 43: \n",
            "Word frequency list: ['There</w>: 1', 'is</w>: 2', 'an</w>: 1', '80%</w>: 1', 'chance</w>: 1', 'of</w>: 1', 'rainfall</w>: 1', 'today.</w>: 1', 'We</w>: 1', 'are</w>: 1', 'pretty</w>: 1', 'sure</w>: 1', 'it</w>: 1', 'g o in g </w>: 1', 'to </w>: 1', 'rain .</w>: 1']\n",
            "20\n",
            "Character frequency list: ['There</w>: 1', 'is</w>: 2', 'an</w>: 1', '80%</w>: 1', 'chance</w>: 1', 'of</w>: 1', 'rainfall</w>: 1', 'today.</w>: 1', 'We</w>: 1', 'are</w>: 1', 'pretty</w>: 1', 'sure</w>: 1', 'it</w>: 1', 'g: 2', 'o: 1', 'in: 1', '</w>: 2', 'to: 1', 'rain: 1', '.</w>: 1']\n",
            "--------\n",
            "The most frequent occurrences of pairs: ('g', 'o'): 1\n",
            "Iteration 44: \n",
            "Word frequency list: ['There</w>: 1', 'is</w>: 2', 'an</w>: 1', '80%</w>: 1', 'chance</w>: 1', 'of</w>: 1', 'rainfall</w>: 1', 'today.</w>: 1', 'We</w>: 1', 'are</w>: 1', 'pretty</w>: 1', 'sure</w>: 1', 'it</w>: 1', 'go in g </w>: 1', 'to </w>: 1', 'rain .</w>: 1']\n",
            "20\n",
            "Character frequency list: ['There</w>: 1', 'is</w>: 2', 'an</w>: 1', '80%</w>: 1', 'chance</w>: 1', 'of</w>: 1', 'rainfall</w>: 1', 'today.</w>: 1', 'We</w>: 1', 'are</w>: 1', 'pretty</w>: 1', 'sure</w>: 1', 'it</w>: 1', 'go: 1', 'in: 1', 'g: 1', '</w>: 2', 'to: 1', 'rain: 1', '.</w>: 1']\n",
            "--------\n",
            "The most frequent occurrences of pairs: ('go', 'in'): 1\n",
            "Iteration 45: \n",
            "Word frequency list: ['There</w>: 1', 'is</w>: 2', 'an</w>: 1', '80%</w>: 1', 'chance</w>: 1', 'of</w>: 1', 'rainfall</w>: 1', 'today.</w>: 1', 'We</w>: 1', 'are</w>: 1', 'pretty</w>: 1', 'sure</w>: 1', 'it</w>: 1', 'goin g </w>: 1', 'to </w>: 1', 'rain .</w>: 1']\n",
            "19\n",
            "Character frequency list: ['There</w>: 1', 'is</w>: 2', 'an</w>: 1', '80%</w>: 1', 'chance</w>: 1', 'of</w>: 1', 'rainfall</w>: 1', 'today.</w>: 1', 'We</w>: 1', 'are</w>: 1', 'pretty</w>: 1', 'sure</w>: 1', 'it</w>: 1', 'goin: 1', 'g: 1', '</w>: 2', 'to: 1', 'rain: 1', '.</w>: 1']\n",
            "--------\n",
            "The most frequent occurrences of pairs: ('goin', 'g'): 1\n",
            "Iteration 46: \n",
            "Word frequency list: ['There</w>: 1', 'is</w>: 2', 'an</w>: 1', '80%</w>: 1', 'chance</w>: 1', 'of</w>: 1', 'rainfall</w>: 1', 'today.</w>: 1', 'We</w>: 1', 'are</w>: 1', 'pretty</w>: 1', 'sure</w>: 1', 'it</w>: 1', 'going </w>: 1', 'to </w>: 1', 'rain .</w>: 1']\n",
            "18\n",
            "Character frequency list: ['There</w>: 1', 'is</w>: 2', 'an</w>: 1', '80%</w>: 1', 'chance</w>: 1', 'of</w>: 1', 'rainfall</w>: 1', 'today.</w>: 1', 'We</w>: 1', 'are</w>: 1', 'pretty</w>: 1', 'sure</w>: 1', 'it</w>: 1', 'going: 1', '</w>: 2', 'to: 1', 'rain: 1', '.</w>: 1']\n",
            "--------\n",
            "The most frequent occurrences of pairs: ('going', '</w>'): 1\n",
            "Iteration 47: \n",
            "Word frequency list: ['There</w>: 1', 'is</w>: 2', 'an</w>: 1', '80%</w>: 1', 'chance</w>: 1', 'of</w>: 1', 'rainfall</w>: 1', 'today.</w>: 1', 'We</w>: 1', 'are</w>: 1', 'pretty</w>: 1', 'sure</w>: 1', 'it</w>: 1', 'going</w>: 1', 'to </w>: 1', 'rain .</w>: 1']\n",
            "18\n",
            "Character frequency list: ['There</w>: 1', 'is</w>: 2', 'an</w>: 1', '80%</w>: 1', 'chance</w>: 1', 'of</w>: 1', 'rainfall</w>: 1', 'today.</w>: 1', 'We</w>: 1', 'are</w>: 1', 'pretty</w>: 1', 'sure</w>: 1', 'it</w>: 1', 'going</w>: 1', 'to: 1', '</w>: 1', 'rain: 1', '.</w>: 1']\n",
            "--------\n",
            "The most frequent occurrences of pairs: ('to', '</w>'): 1\n",
            "Iteration 48: \n",
            "Word frequency list: ['There</w>: 1', 'is</w>: 2', 'an</w>: 1', '80%</w>: 1', 'chance</w>: 1', 'of</w>: 1', 'rainfall</w>: 1', 'today.</w>: 1', 'We</w>: 1', 'are</w>: 1', 'pretty</w>: 1', 'sure</w>: 1', 'it</w>: 1', 'going</w>: 1', 'to</w>: 1', 'rain .</w>: 1']\n",
            "17\n",
            "Character frequency list: ['There</w>: 1', 'is</w>: 2', 'an</w>: 1', '80%</w>: 1', 'chance</w>: 1', 'of</w>: 1', 'rainfall</w>: 1', 'today.</w>: 1', 'We</w>: 1', 'are</w>: 1', 'pretty</w>: 1', 'sure</w>: 1', 'it</w>: 1', 'going</w>: 1', 'to</w>: 1', 'rain: 1', '.</w>: 1']\n",
            "--------\n",
            "The most frequent occurrences of pairs: ('rain', '.</w>'): 1\n",
            "Iteration 49: \n",
            "Word frequency list: ['There</w>: 1', 'is</w>: 2', 'an</w>: 1', '80%</w>: 1', 'chance</w>: 1', 'of</w>: 1', 'rainfall</w>: 1', 'today.</w>: 1', 'We</w>: 1', 'are</w>: 1', 'pretty</w>: 1', 'sure</w>: 1', 'it</w>: 1', 'going</w>: 1', 'to</w>: 1', 'rain.</w>: 1']\n",
            "16\n",
            "Character frequency list: ['There</w>: 1', 'is</w>: 2', 'an</w>: 1', '80%</w>: 1', 'chance</w>: 1', 'of</w>: 1', 'rainfall</w>: 1', 'today.</w>: 1', 'We</w>: 1', 'are</w>: 1', 'pretty</w>: 1', 'sure</w>: 1', 'it</w>: 1', 'going</w>: 1', 'to</w>: 1', 'rain.</w>: 1']\n",
            "--------\n"
          ]
        }
      ]
    },
    {
      "cell_type": "markdown",
      "source": [
        "Hugging Face"
      ],
      "metadata": {
        "id": "Q-fYb4Cw0SOR"
      }
    },
    {
      "cell_type": "code",
      "source": [
        "!pip -q install datasets evaluate transformers[sentencepiece]"
      ],
      "metadata": {
        "id": "X4dnhGgz0Zcm",
        "colab": {
          "base_uri": "https://localhost:8080/"
        },
        "outputId": "4c9c2299-aaaf-402a-8f66-4f9a0fd3177c"
      },
      "execution_count": null,
      "outputs": [
        {
          "output_type": "stream",
          "name": "stdout",
          "text": [
            "\u001b[?25l     \u001b[90m━━━━━━━━━━━━━━━━━━━━━━━━━━━━━━━━━━━━━━━━\u001b[0m \u001b[32m0.0/542.0 kB\u001b[0m \u001b[31m?\u001b[0m eta \u001b[36m-:--:--\u001b[0m\r\u001b[2K     \u001b[91m━━━━━━\u001b[0m\u001b[90m╺\u001b[0m\u001b[90m━━━━━━━━━━━━━━━━━━━━━━━━━━━━━━━━━\u001b[0m \u001b[32m81.9/542.0 kB\u001b[0m \u001b[31m2.2 MB/s\u001b[0m eta \u001b[36m0:00:01\u001b[0m\r\u001b[2K     \u001b[91m━━━━━━━━━━━━━━━━━━━━━━━━━━━━━━━━━━━\u001b[0m\u001b[91m╸\u001b[0m\u001b[90m━━━━\u001b[0m \u001b[32m481.3/542.0 kB\u001b[0m \u001b[31m6.7 MB/s\u001b[0m eta \u001b[36m0:00:01\u001b[0m\r\u001b[2K     \u001b[90m━━━━━━━━━━━━━━━━━━━━━━━━━━━━━━━━━━━━━━━━\u001b[0m \u001b[32m542.0/542.0 kB\u001b[0m \u001b[31m6.1 MB/s\u001b[0m eta \u001b[36m0:00:00\u001b[0m\n",
            "\u001b[2K     \u001b[90m━━━━━━━━━━━━━━━━━━━━━━━━━━━━━━━━━━━━━━━━\u001b[0m \u001b[32m84.1/84.1 kB\u001b[0m \u001b[31m7.0 MB/s\u001b[0m eta \u001b[36m0:00:00\u001b[0m\n",
            "\u001b[2K     \u001b[90m━━━━━━━━━━━━━━━━━━━━━━━━━━━━━━━━━━━━━━━━\u001b[0m \u001b[32m116.3/116.3 kB\u001b[0m \u001b[31m8.0 MB/s\u001b[0m eta \u001b[36m0:00:00\u001b[0m\n",
            "\u001b[2K     \u001b[90m━━━━━━━━━━━━━━━━━━━━━━━━━━━━━━━━━━━━━━━━\u001b[0m \u001b[32m194.1/194.1 kB\u001b[0m \u001b[31m10.1 MB/s\u001b[0m eta \u001b[36m0:00:00\u001b[0m\n",
            "\u001b[2K     \u001b[90m━━━━━━━━━━━━━━━━━━━━━━━━━━━━━━━━━━━━━━━━\u001b[0m \u001b[32m134.8/134.8 kB\u001b[0m \u001b[31m11.1 MB/s\u001b[0m eta \u001b[36m0:00:00\u001b[0m\n",
            "\u001b[2K     \u001b[90m━━━━━━━━━━━━━━━━━━━━━━━━━━━━━━━━━━━━━━━━\u001b[0m \u001b[32m401.2/401.2 kB\u001b[0m \u001b[31m10.4 MB/s\u001b[0m eta \u001b[36m0:00:00\u001b[0m\n",
            "\u001b[?25h"
          ]
        }
      ]
    },
    {
      "cell_type": "code",
      "source": [
        "from transformers import AutoTokenizer\n",
        "tokenizer = AutoTokenizer.from_pretrained(\"gpt2\")"
      ],
      "metadata": {
        "id": "YlWCetZL11Dt"
      },
      "execution_count": null,
      "outputs": []
    },
    {
      "cell_type": "code",
      "source": [
        "corpus = [\n",
        "    \"This is the Hugging Face Course.\",\n",
        "    \"This chapter is about tokenization.\",\n",
        "    \"This section shows several tokenizer algorithms.\",\n",
        "    \"Hopefully, you will be able to understand how they are trained and generate tokens.\",\n",
        "]"
      ],
      "metadata": {
        "id": "Tbp_fjDq0g4H"
      },
      "execution_count": null,
      "outputs": []
    },
    {
      "cell_type": "markdown",
      "source": [
        "Step 1: Splitting all text (in a corpus) into individual words and calculating the word frequency (word-frequency dictionary)."
      ],
      "metadata": {
        "id": "WXkzQhYTNChw"
      }
    },
    {
      "cell_type": "code",
      "source": [
        "from collections import defaultdict\n",
        "word_freqs = defaultdict(int)\n",
        "for text in corpus:\n",
        "    #Normalization and pre-tokenization\n",
        "    words_with_offsets = tokenizer.backend_tokenizer.pre_tokenizer.pre_tokenize_str(text)\n",
        "    new_words = [word for word, offset in words_with_offsets]\n",
        "    for word in new_words:\n",
        "        word_freqs[word] += 1\n",
        "print(f\"Vocabulary size: {len(word_freqs)}\")\n",
        "print(f'Word list: {list(word_freqs.keys())}')\n",
        "print(f'Word frequency list: {[f\"{k}: {v}\" for k, v in word_freqs.items()]}')"
      ],
      "metadata": {
        "colab": {
          "base_uri": "https://localhost:8080/"
        },
        "id": "GpV7n0eqaIHN",
        "outputId": "d63cd0d4-2d48-4b4c-e21c-a95a5929f7a9"
      },
      "execution_count": null,
      "outputs": [
        {
          "output_type": "stream",
          "name": "stdout",
          "text": [
            "Vocabulary size: 30\n",
            "Word list: ['This', 'Ġis', 'Ġthe', 'ĠHugging', 'ĠFace', 'ĠCourse', '.', 'Ġchapter', 'Ġabout', 'Ġtokenization', 'Ġsection', 'Ġshows', 'Ġseveral', 'Ġtokenizer', 'Ġalgorithms', 'Hopefully', ',', 'Ġyou', 'Ġwill', 'Ġbe', 'Ġable', 'Ġto', 'Ġunderstand', 'Ġhow', 'Ġthey', 'Ġare', 'Ġtrained', 'Ġand', 'Ġgenerate', 'Ġtokens']\n",
            "Word frequency list: ['This: 3', 'Ġis: 2', 'Ġthe: 1', 'ĠHugging: 1', 'ĠFace: 1', 'ĠCourse: 1', '.: 4', 'Ġchapter: 1', 'Ġabout: 1', 'Ġtokenization: 1', 'Ġsection: 1', 'Ġshows: 1', 'Ġseveral: 1', 'Ġtokenizer: 1', 'Ġalgorithms: 1', 'Hopefully: 1', ',: 1', 'Ġyou: 1', 'Ġwill: 1', 'Ġbe: 1', 'Ġable: 1', 'Ġto: 1', 'Ġunderstand: 1', 'Ġhow: 1', 'Ġthey: 1', 'Ġare: 1', 'Ġtrained: 1', 'Ġand: 1', 'Ġgenerate: 1', 'Ġtokens: 1']\n"
          ]
        }
      ]
    },
    {
      "cell_type": "markdown",
      "source": [
        "Step 2: Splitting the word (word-frequency dictionary) into characters and then calculating the character frequency (character-frequency dictionary)."
      ],
      "metadata": {
        "id": "1-WbQPsUNFD5"
      }
    },
    {
      "cell_type": "code",
      "source": [
        "alphabet = []\n",
        "for word in word_freqs.keys():\n",
        "    for letter in word:\n",
        "        if letter not in alphabet:\n",
        "            alphabet.append(letter)\n",
        "alphabet.sort()\n",
        "print(f'Character list: {alphabet}')\n",
        "vocab = [\"<|endoftext|>\"] + alphabet.copy()\n",
        "print(f'Length of vocabulary list: {len(vocab)}')\n",
        "print(f'Vocabulary list: {vocab}')"
      ],
      "metadata": {
        "colab": {
          "base_uri": "https://localhost:8080/"
        },
        "id": "QBMXo5uLaLMr",
        "outputId": "d7bea5fe-72d9-4cf8-ed93-3f1473dd3e9b"
      },
      "execution_count": null,
      "outputs": [
        {
          "output_type": "stream",
          "name": "stdout",
          "text": [
            "Character list: [',', '.', 'C', 'F', 'H', 'T', 'a', 'b', 'c', 'd', 'e', 'f', 'g', 'h', 'i', 'k', 'l', 'm', 'n', 'o', 'p', 'r', 's', 't', 'u', 'v', 'w', 'y', 'z', 'Ġ']\n",
            "Length of vocabulary list: 31\n",
            "Vocabulary list: ['<|endoftext|>', ',', '.', 'C', 'F', 'H', 'T', 'a', 'b', 'c', 'd', 'e', 'f', 'g', 'h', 'i', 'k', 'l', 'm', 'n', 'o', 'p', 'r', 's', 't', 'u', 'v', 'w', 'y', 'z', 'Ġ']\n"
          ]
        }
      ]
    },
    {
      "cell_type": "markdown",
      "source": [
        "Step 3: Merging the most frequently occurring consecutive byte pairing."
      ],
      "metadata": {
        "id": "DOOyGEuNNIVM"
      }
    },
    {
      "cell_type": "code",
      "source": [
        "def compute_pair_freqs(splits):\n",
        "    pair_freqs = defaultdict(int)\n",
        "    for word, freq in word_freqs.items():\n",
        "        split = splits[word]\n",
        "        if len(split) == 1:\n",
        "            continue\n",
        "        for i in range(len(split) - 1):\n",
        "            pair = (split[i], split[i + 1])\n",
        "            pair_freqs[pair] += freq\n",
        "    return pair_freqs\n",
        "print(f'Word frequency list: {[f\"{k}: {v}\" for k, v in word_freqs.items()]}')\n",
        "splits = {word: [c for c in word] for word in word_freqs.keys()}\n",
        "print(f'Word split: {[f\"{k}: {v}\" for k, v in splits.items()]}')\n",
        "pair_freqs = compute_pair_freqs(splits)\n",
        "print(f'Pairs frequency list: {[f\"{k}: {v}\" for k, v in pair_freqs.items()]}')\n",
        "best_pair = \"\"\n",
        "max_freq = None\n",
        "for pair, freq in pair_freqs.items():\n",
        "    if max_freq is None or max_freq < freq:\n",
        "        best_pair = pair\n",
        "        max_freq = freq\n",
        "print(f'The most frequent occurrences of pairs: {best_pair}: {max_freq}')"
      ],
      "metadata": {
        "colab": {
          "base_uri": "https://localhost:8080/"
        },
        "id": "-a14iV_eaSOh",
        "outputId": "8366adc3-5c03-4ac5-e662-e227cd78f248"
      },
      "execution_count": null,
      "outputs": [
        {
          "output_type": "stream",
          "name": "stdout",
          "text": [
            "Word frequency list: ['This: 3', 'Ġis: 2', 'Ġthe: 1', 'ĠHugging: 1', 'ĠFace: 1', 'ĠCourse: 1', '.: 4', 'Ġchapter: 1', 'Ġabout: 1', 'Ġtokenization: 1', 'Ġsection: 1', 'Ġshows: 1', 'Ġseveral: 1', 'Ġtokenizer: 1', 'Ġalgorithms: 1', 'Hopefully: 1', ',: 1', 'Ġyou: 1', 'Ġwill: 1', 'Ġbe: 1', 'Ġable: 1', 'Ġto: 1', 'Ġunderstand: 1', 'Ġhow: 1', 'Ġthey: 1', 'Ġare: 1', 'Ġtrained: 1', 'Ġand: 1', 'Ġgenerate: 1', 'Ġtokens: 1']\n",
            "Word split: [\"This: ['T', 'h', 'i', 's']\", \"Ġis: ['Ġ', 'i', 's']\", \"Ġthe: ['Ġ', 't', 'h', 'e']\", \"ĠHugging: ['Ġ', 'H', 'u', 'g', 'g', 'i', 'n', 'g']\", \"ĠFace: ['Ġ', 'F', 'a', 'c', 'e']\", \"ĠCourse: ['Ġ', 'C', 'o', 'u', 'r', 's', 'e']\", \".: ['.']\", \"Ġchapter: ['Ġ', 'c', 'h', 'a', 'p', 't', 'e', 'r']\", \"Ġabout: ['Ġ', 'a', 'b', 'o', 'u', 't']\", \"Ġtokenization: ['Ġ', 't', 'o', 'k', 'e', 'n', 'i', 'z', 'a', 't', 'i', 'o', 'n']\", \"Ġsection: ['Ġ', 's', 'e', 'c', 't', 'i', 'o', 'n']\", \"Ġshows: ['Ġ', 's', 'h', 'o', 'w', 's']\", \"Ġseveral: ['Ġ', 's', 'e', 'v', 'e', 'r', 'a', 'l']\", \"Ġtokenizer: ['Ġ', 't', 'o', 'k', 'e', 'n', 'i', 'z', 'e', 'r']\", \"Ġalgorithms: ['Ġ', 'a', 'l', 'g', 'o', 'r', 'i', 't', 'h', 'm', 's']\", \"Hopefully: ['H', 'o', 'p', 'e', 'f', 'u', 'l', 'l', 'y']\", \",: [',']\", \"Ġyou: ['Ġ', 'y', 'o', 'u']\", \"Ġwill: ['Ġ', 'w', 'i', 'l', 'l']\", \"Ġbe: ['Ġ', 'b', 'e']\", \"Ġable: ['Ġ', 'a', 'b', 'l', 'e']\", \"Ġto: ['Ġ', 't', 'o']\", \"Ġunderstand: ['Ġ', 'u', 'n', 'd', 'e', 'r', 's', 't', 'a', 'n', 'd']\", \"Ġhow: ['Ġ', 'h', 'o', 'w']\", \"Ġthey: ['Ġ', 't', 'h', 'e', 'y']\", \"Ġare: ['Ġ', 'a', 'r', 'e']\", \"Ġtrained: ['Ġ', 't', 'r', 'a', 'i', 'n', 'e', 'd']\", \"Ġand: ['Ġ', 'a', 'n', 'd']\", \"Ġgenerate: ['Ġ', 'g', 'e', 'n', 'e', 'r', 'a', 't', 'e']\", \"Ġtokens: ['Ġ', 't', 'o', 'k', 'e', 'n', 's']\"]\n",
            "Pairs frequency list: [\"('T', 'h'): 3\", \"('h', 'i'): 3\", \"('i', 's'): 5\", \"('Ġ', 'i'): 2\", \"('Ġ', 't'): 7\", \"('t', 'h'): 3\", \"('h', 'e'): 2\", \"('Ġ', 'H'): 1\", \"('H', 'u'): 1\", \"('u', 'g'): 1\", \"('g', 'g'): 1\", \"('g', 'i'): 1\", \"('i', 'n'): 2\", \"('n', 'g'): 1\", \"('Ġ', 'F'): 1\", \"('F', 'a'): 1\", \"('a', 'c'): 1\", \"('c', 'e'): 1\", \"('Ġ', 'C'): 1\", \"('C', 'o'): 1\", \"('o', 'u'): 3\", \"('u', 'r'): 1\", \"('r', 's'): 2\", \"('s', 'e'): 3\", \"('Ġ', 'c'): 1\", \"('c', 'h'): 1\", \"('h', 'a'): 1\", \"('a', 'p'): 1\", \"('p', 't'): 1\", \"('t', 'e'): 2\", \"('e', 'r'): 5\", \"('Ġ', 'a'): 5\", \"('a', 'b'): 2\", \"('b', 'o'): 1\", \"('u', 't'): 1\", \"('t', 'o'): 4\", \"('o', 'k'): 3\", \"('k', 'e'): 3\", \"('e', 'n'): 4\", \"('n', 'i'): 2\", \"('i', 'z'): 2\", \"('z', 'a'): 1\", \"('a', 't'): 2\", \"('t', 'i'): 2\", \"('i', 'o'): 2\", \"('o', 'n'): 2\", \"('Ġ', 's'): 3\", \"('e', 'c'): 1\", \"('c', 't'): 1\", \"('s', 'h'): 1\", \"('h', 'o'): 2\", \"('o', 'w'): 2\", \"('w', 's'): 1\", \"('e', 'v'): 1\", \"('v', 'e'): 1\", \"('r', 'a'): 3\", \"('a', 'l'): 2\", \"('z', 'e'): 1\", \"('l', 'g'): 1\", \"('g', 'o'): 1\", \"('o', 'r'): 1\", \"('r', 'i'): 1\", \"('i', 't'): 1\", \"('h', 'm'): 1\", \"('m', 's'): 1\", \"('H', 'o'): 1\", \"('o', 'p'): 1\", \"('p', 'e'): 1\", \"('e', 'f'): 1\", \"('f', 'u'): 1\", \"('u', 'l'): 1\", \"('l', 'l'): 2\", \"('l', 'y'): 1\", \"('Ġ', 'y'): 1\", \"('y', 'o'): 1\", \"('Ġ', 'w'): 1\", \"('w', 'i'): 1\", \"('i', 'l'): 1\", \"('Ġ', 'b'): 1\", \"('b', 'e'): 1\", \"('b', 'l'): 1\", \"('l', 'e'): 1\", \"('Ġ', 'u'): 1\", \"('u', 'n'): 1\", \"('n', 'd'): 3\", \"('d', 'e'): 1\", \"('s', 't'): 1\", \"('t', 'a'): 1\", \"('a', 'n'): 2\", \"('Ġ', 'h'): 1\", \"('e', 'y'): 1\", \"('a', 'r'): 1\", \"('r', 'e'): 1\", \"('t', 'r'): 1\", \"('a', 'i'): 1\", \"('n', 'e'): 2\", \"('e', 'd'): 1\", \"('Ġ', 'g'): 1\", \"('g', 'e'): 1\", \"('n', 's'): 1\"]\n",
            "The most frequent occurrences of pairs: ('Ġ', 't'): 7\n"
          ]
        }
      ]
    },
    {
      "cell_type": "markdown",
      "source": [
        "- Step 4: Iterating a number of times to find the best (in terms of frequency) pairs to encode and then concatenate them to find the subwords."
      ],
      "metadata": {
        "id": "TKWcEFVBNLG2"
      }
    },
    {
      "cell_type": "code",
      "source": [
        "def merge_pair(a, b, splits):\n",
        "    for word in word_freqs:\n",
        "        split = splits[word]\n",
        "        if len(split) == 1:\n",
        "            continue\n",
        "        i = 0\n",
        "        while i < len(split) - 1:\n",
        "            if split[i] == a and split[i + 1] == b:\n",
        "                #print(word, \"==>\", split, \"==>\", split[:i] + [a + b] + split[i + 2 :])\n",
        "                split = split[:i] + [a + b] + split[i + 2 :]\n",
        "            else:\n",
        "                i += 1\n",
        "        splits[word] = split\n",
        "    return splits\n",
        "merges = {}\n",
        "vocab_size = 50\n",
        "while len(vocab) < vocab_size:\n",
        "    pair_freqs = compute_pair_freqs(splits)\n",
        "    best_pair = \"\"\n",
        "    max_freq = None\n",
        "    for pair, freq in pair_freqs.items():\n",
        "        if max_freq is None or max_freq < freq:\n",
        "            best_pair = pair\n",
        "            max_freq = freq\n",
        "    splits = merge_pair(*best_pair, splits)\n",
        "    merges[best_pair] = best_pair[0] + best_pair[1]\n",
        "    vocab.append(best_pair[0] + best_pair[1])\n",
        "print(f'Length of Merged list: {len(merges)}')\n",
        "print(f'Merged list:  {[f\"{k}: {v}\" for k, v in merges.items()]}')\n",
        "print(f'Length of vocabulary list: {len(vocab)}')\n",
        "print(f'Vocabulary list: {vocab}')\n",
        "print('===><===')\n",
        "\n",
        "def tokenize(text):\n",
        "    #Normalization & Pre-tokenization\n",
        "    pre_tokenize_result = tokenizer._tokenizer.pre_tokenizer.pre_tokenize_str(text)\n",
        "    print(pre_tokenize_result)\n",
        "    pre_tokenized_text = [word for word, offset in pre_tokenize_result]\n",
        "    print(pre_tokenized_text)\n",
        "    #Splitting the words into individual characters\n",
        "    splits = [[l for l in word] for word in pre_tokenized_text]\n",
        "    print(splits)\n",
        "    print([f\"{word}: {[l for l in word]}\" for word in pre_tokenized_text] )\n",
        "    #Applying the merge rules learned in order on those splits\n",
        "    for pair, merge in merges.items():\n",
        "        for idx, split in enumerate(splits):\n",
        "            i = 0\n",
        "            while i < len(split) - 1:\n",
        "                if split[i] == pair[0] and split[i + 1] == pair[1]:\n",
        "                    print(merge, \"==>\", split, \"==>\", split[:i] + [merge] + split[i + 2 :])\n",
        "                    split = split[:i] + [merge] + split[i + 2 :]\n",
        "                else:\n",
        "                    i += 1\n",
        "            splits[idx] = split\n",
        "    return sum(splits, [])\n",
        "\n",
        "print(tokenize(\"This is not a token.\"))"
      ],
      "metadata": {
        "id": "VOUs_aJC0SZt",
        "colab": {
          "base_uri": "https://localhost:8080/"
        },
        "outputId": "97b8e4bc-d721-4da9-d68c-914f9b932583"
      },
      "execution_count": null,
      "outputs": [
        {
          "output_type": "stream",
          "name": "stdout",
          "text": [
            "Length of Merged list: 19\n",
            "Merged list:  [\"('Ġ', 't'): Ġt\", \"('i', 's'): is\", \"('e', 'r'): er\", \"('Ġ', 'a'): Ġa\", \"('Ġt', 'o'): Ġto\", \"('e', 'n'): en\", \"('T', 'h'): Th\", \"('Th', 'is'): This\", \"('o', 'u'): ou\", \"('s', 'e'): se\", \"('Ġto', 'k'): Ġtok\", \"('Ġtok', 'en'): Ġtoken\", \"('n', 'd'): nd\", \"('Ġ', 'is'): Ġis\", \"('Ġt', 'h'): Ġth\", \"('Ġth', 'e'): Ġthe\", \"('i', 'n'): in\", \"('Ġa', 'b'): Ġab\", \"('Ġtoken', 'i'): Ġtokeni\"]\n",
            "Length of vocabulary list: 50\n",
            "Vocabulary list: ['<|endoftext|>', ',', '.', 'C', 'F', 'H', 'T', 'a', 'b', 'c', 'd', 'e', 'f', 'g', 'h', 'i', 'k', 'l', 'm', 'n', 'o', 'p', 'r', 's', 't', 'u', 'v', 'w', 'y', 'z', 'Ġ', 'Ġt', 'is', 'er', 'Ġa', 'Ġto', 'en', 'Th', 'This', 'ou', 'se', 'Ġtok', 'Ġtoken', 'nd', 'Ġis', 'Ġth', 'Ġthe', 'in', 'Ġab', 'Ġtokeni']\n",
            "===><===\n",
            "[('This', (0, 4)), ('Ġis', (4, 7)), ('Ġnot', (7, 11)), ('Ġa', (11, 13)), ('Ġtoken', (13, 19)), ('.', (19, 20))]\n",
            "['This', 'Ġis', 'Ġnot', 'Ġa', 'Ġtoken', '.']\n",
            "[['T', 'h', 'i', 's'], ['Ġ', 'i', 's'], ['Ġ', 'n', 'o', 't'], ['Ġ', 'a'], ['Ġ', 't', 'o', 'k', 'e', 'n'], ['.']]\n",
            "[\"This: ['T', 'h', 'i', 's']\", \"Ġis: ['Ġ', 'i', 's']\", \"Ġnot: ['Ġ', 'n', 'o', 't']\", \"Ġa: ['Ġ', 'a']\", \"Ġtoken: ['Ġ', 't', 'o', 'k', 'e', 'n']\", \".: ['.']\"]\n",
            "Ġt ==> ['Ġ', 't', 'o', 'k', 'e', 'n'] ==> ['Ġt', 'o', 'k', 'e', 'n']\n",
            "is ==> ['T', 'h', 'i', 's'] ==> ['T', 'h', 'is']\n",
            "is ==> ['Ġ', 'i', 's'] ==> ['Ġ', 'is']\n",
            "Ġa ==> ['Ġ', 'a'] ==> ['Ġa']\n",
            "Ġto ==> ['Ġt', 'o', 'k', 'e', 'n'] ==> ['Ġto', 'k', 'e', 'n']\n",
            "en ==> ['Ġto', 'k', 'e', 'n'] ==> ['Ġto', 'k', 'en']\n",
            "Th ==> ['T', 'h', 'is'] ==> ['Th', 'is']\n",
            "This ==> ['Th', 'is'] ==> ['This']\n",
            "Ġtok ==> ['Ġto', 'k', 'en'] ==> ['Ġtok', 'en']\n",
            "Ġtoken ==> ['Ġtok', 'en'] ==> ['Ġtoken']\n",
            "Ġis ==> ['Ġ', 'is'] ==> ['Ġis']\n",
            "['This', 'Ġis', 'Ġ', 'n', 'o', 't', 'Ġa', 'Ġtoken', '.']\n"
          ]
        }
      ]
    },
    {
      "cell_type": "markdown",
      "source": [
        "###WordPiece Algorithm\n",
        "WordPiece leverages likelihood instead of count frequency to merge the best pair in each iteration but the choice of characters to pair is based on count frequency."
      ],
      "metadata": {
        "id": "tmVz_hMCVtfF"
      }
    },
    {
      "cell_type": "markdown",
      "source": [
        "- Step 1: Splitting all text (in a corpus) into individual words and calculating the word frequency (word-frequency dictionary).\n",
        "- Step 2: Splitting the word (word-frequency dictionary) into characters and then calculating the character frequency (character-frequency dictionary).\n",
        "- Step 3: Merge the max score occurring consecutive byte pairing.\n",
        "$(score=\\frac{\\text{freq_of_pair}}{\\text{freq_of_first_element} × \\text{freq_of_second_element}})$\n",
        "- Step 4: Iterate a number of times to find the best (in terms of score) pairs to encode and then concatenate them to find the subwords."
      ],
      "metadata": {
        "id": "0MqXazI-rDAn"
      }
    },
    {
      "cell_type": "code",
      "source": [
        "!pip -q install datasets evaluate transformers[sentencepiece]"
      ],
      "metadata": {
        "id": "tegzXZi4r2wj",
        "colab": {
          "base_uri": "https://localhost:8080/"
        },
        "outputId": "f890031b-0ac8-401b-faa1-9e42a896b452"
      },
      "execution_count": null,
      "outputs": [
        {
          "output_type": "stream",
          "name": "stdout",
          "text": [
            "\u001b[?25l     \u001b[90m━━━━━━━━━━━━━━━━━━━━━━━━━━━━━━━━━━━━━━━━\u001b[0m \u001b[32m0.0/542.0 kB\u001b[0m \u001b[31m?\u001b[0m eta \u001b[36m-:--:--\u001b[0m\r\u001b[2K     \u001b[91m━━━━━━━━━\u001b[0m\u001b[90m╺\u001b[0m\u001b[90m━━━━━━━━━━━━━━━━━━━━━━━━━━━━━━\u001b[0m \u001b[32m122.9/542.0 kB\u001b[0m \u001b[31m3.5 MB/s\u001b[0m eta \u001b[36m0:00:01\u001b[0m\r\u001b[2K     \u001b[91m━━━━━━━━━━━━━━━━━━━━━━━━━━━━━━━━━━━━━━━\u001b[0m\u001b[90m╺\u001b[0m \u001b[32m532.5/542.0 kB\u001b[0m \u001b[31m7.8 MB/s\u001b[0m eta \u001b[36m0:00:01\u001b[0m\r\u001b[2K     \u001b[90m━━━━━━━━━━━━━━━━━━━━━━━━━━━━━━━━━━━━━━━━\u001b[0m \u001b[32m542.0/542.0 kB\u001b[0m \u001b[31m5.9 MB/s\u001b[0m eta \u001b[36m0:00:00\u001b[0m\n",
            "\u001b[2K     \u001b[90m━━━━━━━━━━━━━━━━━━━━━━━━━━━━━━━━━━━━━━━━\u001b[0m \u001b[32m84.1/84.1 kB\u001b[0m \u001b[31m5.3 MB/s\u001b[0m eta \u001b[36m0:00:00\u001b[0m\n",
            "\u001b[2K     \u001b[90m━━━━━━━━━━━━━━━━━━━━━━━━━━━━━━━━━━━━━━━━\u001b[0m \u001b[32m116.3/116.3 kB\u001b[0m \u001b[31m5.6 MB/s\u001b[0m eta \u001b[36m0:00:00\u001b[0m\n",
            "\u001b[2K     \u001b[90m━━━━━━━━━━━━━━━━━━━━━━━━━━━━━━━━━━━━━━━━\u001b[0m \u001b[32m194.1/194.1 kB\u001b[0m \u001b[31m4.2 MB/s\u001b[0m eta \u001b[36m0:00:00\u001b[0m\n",
            "\u001b[2K     \u001b[90m━━━━━━━━━━━━━━━━━━━━━━━━━━━━━━━━━━━━━━━━\u001b[0m \u001b[32m134.8/134.8 kB\u001b[0m \u001b[31m3.5 MB/s\u001b[0m eta \u001b[36m0:00:00\u001b[0m\n",
            "\u001b[2K     \u001b[90m━━━━━━━━━━━━━━━━━━━━━━━━━━━━━━━━━━━━━━━━\u001b[0m \u001b[32m401.2/401.2 kB\u001b[0m \u001b[31m8.7 MB/s\u001b[0m eta \u001b[36m0:00:00\u001b[0m\n",
            "\u001b[?25h"
          ]
        }
      ]
    },
    {
      "cell_type": "code",
      "source": [
        "corpus = [\n",
        "    \"This is the Hugging Face Course.\",\n",
        "    \"This chapter is about tokenization.\",\n",
        "    \"This section shows several tokenizer algorithms.\",\n",
        "    \"Hopefully, you will be able to understand how they are trained and generate tokens.\",\n",
        "]"
      ],
      "metadata": {
        "id": "grgAMFkDr_7J"
      },
      "execution_count": null,
      "outputs": []
    },
    {
      "cell_type": "code",
      "source": [
        "from transformers import AutoTokenizer\n",
        "tokenizer = AutoTokenizer.from_pretrained(\"bert-base-cased\")"
      ],
      "metadata": {
        "colab": {
          "base_uri": "https://localhost:8080/",
          "height": 310,
          "referenced_widgets": [
            "df1a1d9d70234ea08d34f14e06867e38",
            "c68ec95ed50049998d2d53659162dcda",
            "94c5cecf82644f13a500e1faba3722aa",
            "5dafe741d8c64293a18806163428aa4e",
            "6d48863e2a8a435c9ceb527e761a4696",
            "c625bc70a6e54fe9864826e34b42672e",
            "753fa4e509ac42efb54b9b2d20b45d5b",
            "0805660ec267470d9e3e47a1d1be9256",
            "c3c70c8a0040432c8ad5ea1f024bdeac",
            "92a7bd81b6bd45a49f5a46396c534c3c",
            "3c00ac4abfe544bc96a7f915c6df8772",
            "bea95a349f2d40619be0f01880b7816b",
            "6b85efce393f4faf8e592468e8eee0a5",
            "7b09353556d641458de9ea9921481f94",
            "02711dfb5858470ab4d4c3bd1325ab04",
            "03562732810d410cae7b104059d406fb",
            "f8af564d0a8f4b58aba7e52d039125a5",
            "6c04519f8b224bd592495976abfb4b62",
            "906aaf230c4945fe8f2e14ac1791625c",
            "fe18511071d84737b27aa23dd33cc548",
            "1123c317840149a7acd5cc4b999b281a",
            "1228de7a782c406fb335957b092e9537",
            "b57948a47617459b80ef422594dc1b39",
            "4cc4edcc9aa74769b20fad08ad669d82",
            "b21e7381bb894f9b900d1e388e534863",
            "fb1a3acc77e24e15bbc9c527d511b40f",
            "64c17e3fae80457d848df3799146a9fd",
            "aaccce48ff4944ce99e1da9a35eb5159",
            "3ffac3c6621a451489ef9751ac5e5ca8",
            "2778fd7332704c238d8e982f33704ef7",
            "717e08b0872a47c28eeeab3d782fa3e1",
            "f12476c1551949109d75ec332295fd59",
            "e719e91ba6f44f94a0417c12a36ec9bb",
            "961b2564b6b1493a9c5d5c44aced8d08",
            "e9113ad6ba114684a2a00484b4744d37",
            "6f2213ff2b004398a5cfd8337604b46b",
            "65fd2e0092494a74b4e4f8d4bc82f2ee",
            "f9cf419a963b42eba0efbc71ccb97ae1",
            "7f331455829644d9bb2be40c238104f3",
            "9655d7041e6843af9f2973c508dfd931",
            "452701432e6e457aba7d175161cd0aa2",
            "d2646fc21fc64ce9a466328c0e5dc57d",
            "5b1225713be24a9dae146607519093df",
            "4950677f36604f56a6de848a1802307c"
          ]
        },
        "id": "fRZf1o-YsNuH",
        "outputId": "02d00407-8c0a-488a-c7f6-dbf62cc5b9f0"
      },
      "execution_count": null,
      "outputs": [
        {
          "output_type": "stream",
          "name": "stderr",
          "text": [
            "/usr/local/lib/python3.10/dist-packages/huggingface_hub/file_download.py:1132: FutureWarning: `resume_download` is deprecated and will be removed in version 1.0.0. Downloads always resume when possible. If you want to force a new download, use `force_download=True`.\n",
            "  warnings.warn(\n",
            "/usr/local/lib/python3.10/dist-packages/huggingface_hub/utils/_token.py:89: UserWarning: \n",
            "The secret `HF_TOKEN` does not exist in your Colab secrets.\n",
            "To authenticate with the Hugging Face Hub, create a token in your settings tab (https://huggingface.co/settings/tokens), set it as secret in your Google Colab and restart your session.\n",
            "You will be able to reuse this secret in all of your notebooks.\n",
            "Please note that authentication is recommended but still optional to access public models or datasets.\n",
            "  warnings.warn(\n"
          ]
        },
        {
          "output_type": "display_data",
          "data": {
            "text/plain": [
              "tokenizer_config.json:   0%|          | 0.00/49.0 [00:00<?, ?B/s]"
            ],
            "application/vnd.jupyter.widget-view+json": {
              "version_major": 2,
              "version_minor": 0,
              "model_id": "df1a1d9d70234ea08d34f14e06867e38"
            }
          },
          "metadata": {}
        },
        {
          "output_type": "display_data",
          "data": {
            "text/plain": [
              "config.json:   0%|          | 0.00/570 [00:00<?, ?B/s]"
            ],
            "application/vnd.jupyter.widget-view+json": {
              "version_major": 2,
              "version_minor": 0,
              "model_id": "bea95a349f2d40619be0f01880b7816b"
            }
          },
          "metadata": {}
        },
        {
          "output_type": "display_data",
          "data": {
            "text/plain": [
              "vocab.txt:   0%|          | 0.00/213k [00:00<?, ?B/s]"
            ],
            "application/vnd.jupyter.widget-view+json": {
              "version_major": 2,
              "version_minor": 0,
              "model_id": "b57948a47617459b80ef422594dc1b39"
            }
          },
          "metadata": {}
        },
        {
          "output_type": "display_data",
          "data": {
            "text/plain": [
              "tokenizer.json:   0%|          | 0.00/436k [00:00<?, ?B/s]"
            ],
            "application/vnd.jupyter.widget-view+json": {
              "version_major": 2,
              "version_minor": 0,
              "model_id": "961b2564b6b1493a9c5d5c44aced8d08"
            }
          },
          "metadata": {}
        }
      ]
    },
    {
      "cell_type": "markdown",
      "source": [
        "Step 1: Splitting all text (in a corpus) into individual words and calculating the word frequency (word-frequency dictionary)."
      ],
      "metadata": {
        "id": "nFOlOEEoNUFL"
      }
    },
    {
      "cell_type": "code",
      "source": [
        "from collections import defaultdict\n",
        "word_freqs = defaultdict(int)\n",
        "for text in corpus:\n",
        "    words_with_offsets = tokenizer.backend_tokenizer.pre_tokenizer.pre_tokenize_str(text)\n",
        "    new_words = [word for word, offset in words_with_offsets]\n",
        "    for word in new_words:\n",
        "        word_freqs[word] += 1\n",
        "word_freqs\n",
        "print(f\"Vocabulary size: {len(word_freqs)}\")\n",
        "print(f'Word list: {list(word_freqs.keys())}')\n",
        "print(f'Word frequency list: {[f\"{k}: {v}\" for k, v in word_freqs.items()]}')"
      ],
      "metadata": {
        "colab": {
          "base_uri": "https://localhost:8080/"
        },
        "id": "IIDPxL4qrtgU",
        "outputId": "e2109178-a04f-4ad1-b27c-2a4a486c498c"
      },
      "execution_count": null,
      "outputs": [
        {
          "output_type": "stream",
          "name": "stdout",
          "text": [
            "Vocabulary size: 30\n",
            "Word list: ['This', 'is', 'the', 'Hugging', 'Face', 'Course', '.', 'chapter', 'about', 'tokenization', 'section', 'shows', 'several', 'tokenizer', 'algorithms', 'Hopefully', ',', 'you', 'will', 'be', 'able', 'to', 'understand', 'how', 'they', 'are', 'trained', 'and', 'generate', 'tokens']\n",
            "Word frequency list: ['This: 3', 'is: 2', 'the: 1', 'Hugging: 1', 'Face: 1', 'Course: 1', '.: 4', 'chapter: 1', 'about: 1', 'tokenization: 1', 'section: 1', 'shows: 1', 'several: 1', 'tokenizer: 1', 'algorithms: 1', 'Hopefully: 1', ',: 1', 'you: 1', 'will: 1', 'be: 1', 'able: 1', 'to: 1', 'understand: 1', 'how: 1', 'they: 1', 'are: 1', 'trained: 1', 'and: 1', 'generate: 1', 'tokens: 1']\n"
          ]
        }
      ]
    },
    {
      "cell_type": "markdown",
      "source": [
        "Step 2: Splitting the word (word-frequency dictionary) into characters and then calculating the character frequency (character-frequency dictionary)."
      ],
      "metadata": {
        "id": "cmlgNUyxNXAI"
      }
    },
    {
      "cell_type": "code",
      "source": [
        "#Step 2: Split the word into characters and then calculating the character frequency.\n",
        "alphabet = []\n",
        "for word in word_freqs.keys():\n",
        "    if word[0] not in alphabet:\n",
        "        alphabet.append(word[0])\n",
        "    for letter in word[1:]:\n",
        "        if f\"##{letter}\" not in alphabet:\n",
        "            alphabet.append(f\"##{letter}\")\n",
        "alphabet.sort()\n",
        "print(f'Character list: {alphabet}')\n",
        "vocab = [\"[PAD]\", \"[UNK]\", \"[CLS]\", \"[SEP]\", \"[MASK]\"] + alphabet.copy()\n",
        "print(f'Length of vocabulary list: {len(vocab)}')\n",
        "print(f'Vocabulary list: {vocab}')"
      ],
      "metadata": {
        "colab": {
          "base_uri": "https://localhost:8080/"
        },
        "id": "pGG--_4srv7j",
        "outputId": "a1aec5d6-f7f6-44ed-9f34-6d3b71e0c886"
      },
      "execution_count": null,
      "outputs": [
        {
          "output_type": "stream",
          "name": "stdout",
          "text": [
            "Character list: ['##a', '##b', '##c', '##d', '##e', '##f', '##g', '##h', '##i', '##k', '##l', '##m', '##n', '##o', '##p', '##r', '##s', '##t', '##u', '##v', '##w', '##y', '##z', ',', '.', 'C', 'F', 'H', 'T', 'a', 'b', 'c', 'g', 'h', 'i', 's', 't', 'u', 'w', 'y']\n",
            "Length of vocabulary list: 45\n",
            "Vocabulary list: ['[PAD]', '[UNK]', '[CLS]', '[SEP]', '[MASK]', '##a', '##b', '##c', '##d', '##e', '##f', '##g', '##h', '##i', '##k', '##l', '##m', '##n', '##o', '##p', '##r', '##s', '##t', '##u', '##v', '##w', '##y', '##z', ',', '.', 'C', 'F', 'H', 'T', 'a', 'b', 'c', 'g', 'h', 'i', 's', 't', 'u', 'w', 'y']\n"
          ]
        }
      ]
    },
    {
      "cell_type": "markdown",
      "source": [
        "Step 3: Merge the max score occurring consecutive byte pairing. <Br>\n",
        "$(score=\\frac{\\text{freq_of_pair}}{\\text{freq_of_first_element} × \\text{freq_of_second_element}})$\n"
      ],
      "metadata": {
        "id": "nR4SG7__NZMF"
      }
    },
    {
      "cell_type": "code",
      "source": [
        "def compute_pair_scores(splits):\n",
        "    letter_freqs = defaultdict(int)\n",
        "    pair_freqs = defaultdict(int)\n",
        "    for word, freq in word_freqs.items():\n",
        "        split = splits[word]\n",
        "        if len(split) == 1: #a word with 1 letter\n",
        "            letter_freqs[split[0]] += freq\n",
        "            continue\n",
        "        for i in range(len(split) - 1): #a word with more than 2 letters\n",
        "            pair = (split[i], split[i + 1])\n",
        "            letter_freqs[split[i]] += freq #freq_of_each_element_except_last_element\n",
        "            pair_freqs[pair] += freq #freq_of_pair_for_each_element (i, i+1)\n",
        "        letter_freqs[split[-1]] += freq #freq_of_last_element\n",
        "    #score=(freq_of_pair)/(freq_of_first_element×freq_of_second_element)\n",
        "    scores = {pair: freq / (letter_freqs[pair[0]] * letter_freqs[pair[1]]) for pair, freq in pair_freqs.items()}\n",
        "    return scores\n",
        "\n",
        "print(f'Word frequency list: {[f\"{k}: {v}\" for k, v in word_freqs.items()]}')\n",
        "splits = {word: [c if i == 0 else f\"##{c}\" for i, c in enumerate(word)]for word in word_freqs.keys()}\n",
        "print(f'Word split: {[f\"{k}: {v}\" for k, v in splits.items()]}')\n",
        "pair_scores = compute_pair_scores(splits)\n",
        "print(f'Pairs score list: {[f\"{k}: {v}\" for k, v in pair_scores.items()]}')\n",
        "best_pair = \"\"\n",
        "max_score = None\n",
        "for pair, score in pair_scores.items():\n",
        "    if max_score is None or max_score < score:\n",
        "        best_pair = pair\n",
        "        max_score = score\n",
        "print(f'The most frequent occurrences of pairs: {best_pair}: {max_score}')\n",
        "\n",
        "def merge_pair(a, b, splits):\n",
        "    for word in word_freqs:\n",
        "        split = splits[word]\n",
        "        if len(split) == 1:\n",
        "            continue\n",
        "        i = 0\n",
        "        while i < len(split) - 1:\n",
        "            if split[i] == a and split[i + 1] == b:\n",
        "                merge = a + b[2:] if b.startswith(\"##\") else a + b\n",
        "                split = split[:i] + [merge] + split[i + 2 :]\n",
        "            else:\n",
        "                i += 1\n",
        "        splits[word] = split\n",
        "    return splits"
      ],
      "metadata": {
        "colab": {
          "base_uri": "https://localhost:8080/"
        },
        "id": "EhFSEt6Vuj5b",
        "outputId": "41c24d31-1354-4142-e975-dcdb5a42ca38"
      },
      "execution_count": null,
      "outputs": [
        {
          "output_type": "stream",
          "name": "stdout",
          "text": [
            "Word frequency list: ['This: 3', 'is: 2', 'the: 1', 'Hugging: 1', 'Face: 1', 'Course: 1', '.: 4', 'chapter: 1', 'about: 1', 'tokenization: 1', 'section: 1', 'shows: 1', 'several: 1', 'tokenizer: 1', 'algorithms: 1', 'Hopefully: 1', ',: 1', 'you: 1', 'will: 1', 'be: 1', 'able: 1', 'to: 1', 'understand: 1', 'how: 1', 'they: 1', 'are: 1', 'trained: 1', 'and: 1', 'generate: 1', 'tokens: 1']\n",
            "Word split: [\"This: ['T', '##h', '##i', '##s']\", \"is: ['i', '##s']\", \"the: ['t', '##h', '##e']\", \"Hugging: ['H', '##u', '##g', '##g', '##i', '##n', '##g']\", \"Face: ['F', '##a', '##c', '##e']\", \"Course: ['C', '##o', '##u', '##r', '##s', '##e']\", \".: ['.']\", \"chapter: ['c', '##h', '##a', '##p', '##t', '##e', '##r']\", \"about: ['a', '##b', '##o', '##u', '##t']\", \"tokenization: ['t', '##o', '##k', '##e', '##n', '##i', '##z', '##a', '##t', '##i', '##o', '##n']\", \"section: ['s', '##e', '##c', '##t', '##i', '##o', '##n']\", \"shows: ['s', '##h', '##o', '##w', '##s']\", \"several: ['s', '##e', '##v', '##e', '##r', '##a', '##l']\", \"tokenizer: ['t', '##o', '##k', '##e', '##n', '##i', '##z', '##e', '##r']\", \"algorithms: ['a', '##l', '##g', '##o', '##r', '##i', '##t', '##h', '##m', '##s']\", \"Hopefully: ['H', '##o', '##p', '##e', '##f', '##u', '##l', '##l', '##y']\", \",: [',']\", \"you: ['y', '##o', '##u']\", \"will: ['w', '##i', '##l', '##l']\", \"be: ['b', '##e']\", \"able: ['a', '##b', '##l', '##e']\", \"to: ['t', '##o']\", \"understand: ['u', '##n', '##d', '##e', '##r', '##s', '##t', '##a', '##n', '##d']\", \"how: ['h', '##o', '##w']\", \"they: ['t', '##h', '##e', '##y']\", \"are: ['a', '##r', '##e']\", \"trained: ['t', '##r', '##a', '##i', '##n', '##e', '##d']\", \"and: ['a', '##n', '##d']\", \"generate: ['g', '##e', '##n', '##e', '##r', '##a', '##t', '##e']\", \"tokens: ['t', '##o', '##k', '##e', '##n', '##s']\"]\n",
            "Pairs score list: [\"('T', '##h'): 0.125\", \"('##h', '##i'): 0.03409090909090909\", \"('##i', '##s'): 0.02727272727272727\", \"('i', '##s'): 0.1\", \"('t', '##h'): 0.03571428571428571\", \"('##h', '##e'): 0.011904761904761904\", \"('H', '##u'): 0.1\", \"('##u', '##g'): 0.05\", \"('##g', '##g'): 0.0625\", \"('##g', '##i'): 0.022727272727272728\", \"('##i', '##n'): 0.01652892561983471\", \"('##n', '##g'): 0.022727272727272728\", \"('F', '##a'): 0.14285714285714285\", \"('##a', '##c'): 0.07142857142857142\", \"('##c', '##e'): 0.023809523809523808\", \"('C', '##o'): 0.07692307692307693\", \"('##o', '##u'): 0.046153846153846156\", \"('##u', '##r'): 0.022222222222222223\", \"('##r', '##s'): 0.022222222222222223\", \"('##s', '##e'): 0.004761904761904762\", \"('c', '##h'): 0.125\", \"('##h', '##a'): 0.017857142857142856\", \"('##a', '##p'): 0.07142857142857142\", \"('##p', '##t'): 0.07142857142857142\", \"('##t', '##e'): 0.013605442176870748\", \"('##e', '##r'): 0.026455026455026454\", \"('a', '##b'): 0.2\", \"('##b', '##o'): 0.038461538461538464\", \"('##u', '##t'): 0.02857142857142857\", \"('t', '##o'): 0.04395604395604396\", \"('##o', '##k'): 0.07692307692307693\", \"('##k', '##e'): 0.047619047619047616\", \"('##e', '##n'): 0.017316017316017316\", \"('##n', '##i'): 0.01652892561983471\", \"('##i', '##z'): 0.09090909090909091\", \"('##z', '##a'): 0.07142857142857142\", \"('##a', '##t'): 0.04081632653061224\", \"('##t', '##i'): 0.025974025974025976\", \"('##i', '##o'): 0.013986013986013986\", \"('##o', '##n'): 0.013986013986013986\", \"('s', '##e'): 0.031746031746031744\", \"('##e', '##c'): 0.023809523809523808\", \"('##c', '##t'): 0.07142857142857142\", \"('s', '##h'): 0.041666666666666664\", \"('##h', '##o'): 0.009615384615384616\", \"('##o', '##w'): 0.07692307692307693\", \"('##w', '##s'): 0.05\", \"('##e', '##v'): 0.047619047619047616\", \"('##v', '##e'): 0.047619047619047616\", \"('##r', '##a'): 0.047619047619047616\", \"('##a', '##l'): 0.02040816326530612\", \"('##z', '##e'): 0.023809523809523808\", \"('a', '##l'): 0.02857142857142857\", \"('##l', '##g'): 0.03571428571428571\", \"('##g', '##o'): 0.019230769230769232\", \"('##o', '##r'): 0.008547008547008548\", \"('##r', '##i'): 0.010101010101010102\", \"('##i', '##t'): 0.012987012987012988\", \"('##t', '##h'): 0.017857142857142856\", \"('##h', '##m'): 0.125\", \"('##m', '##s'): 0.1\", \"('H', '##o'): 0.038461538461538464\", \"('##o', '##p'): 0.038461538461538464\", \"('##p', '##e'): 0.023809523809523808\", \"('##e', '##f'): 0.047619047619047616\", \"('##f', '##u'): 0.2\", \"('##u', '##l'): 0.02857142857142857\", \"('##l', '##l'): 0.04081632653061224\", \"('##l', '##y'): 0.07142857142857142\", \"('y', '##o'): 0.07692307692307693\", \"('w', '##i'): 0.09090909090909091\", \"('##i', '##l'): 0.012987012987012988\", \"('b', '##e'): 0.047619047619047616\", \"('##b', '##l'): 0.07142857142857142\", \"('##l', '##e'): 0.006802721088435374\", \"('u', '##n'): 0.09090909090909091\", \"('##n', '##d'): 0.06818181818181818\", \"('##d', '##e'): 0.011904761904761904\", \"('##s', '##t'): 0.014285714285714285\", \"('##t', '##a'): 0.02040816326530612\", \"('##a', '##n'): 0.012987012987012988\", \"('h', '##o'): 0.07692307692307693\", \"('##e', '##y'): 0.023809523809523808\", \"('a', '##r'): 0.022222222222222223\", \"('##r', '##e'): 0.005291005291005291\", \"('t', '##r'): 0.015873015873015872\", \"('##a', '##i'): 0.012987012987012988\", \"('##n', '##e'): 0.008658008658008658\", \"('##e', '##d'): 0.011904761904761904\", \"('a', '##n'): 0.01818181818181818\", \"('g', '##e'): 0.047619047619047616\", \"('##n', '##s'): 0.00909090909090909\"]\n",
            "The most frequent occurrences of pairs: ('a', '##b'): 0.2\n"
          ]
        }
      ]
    },
    {
      "cell_type": "markdown",
      "source": [
        "- Step 4: Iterate a number of times to find the best (in terms of score) pairs to encode and then concatenate them to find the subwords."
      ],
      "metadata": {
        "id": "7gd8Vl6UNfDQ"
      }
    },
    {
      "cell_type": "code",
      "source": [
        "vocab_size = 70\n",
        "while len(vocab) < vocab_size:\n",
        "    scores = compute_pair_scores(splits)\n",
        "    best_pair, max_score = \"\", None\n",
        "    for pair, score in scores.items():\n",
        "        if max_score is None or max_score < score:\n",
        "            best_pair = pair\n",
        "            max_score = score\n",
        "    splits = merge_pair(*best_pair, splits)\n",
        "    new_token = (best_pair[0] + best_pair[1][2:] if best_pair[1].startswith(\"##\") else best_pair[0] + best_pair[1])\n",
        "    vocab.append(new_token)\n",
        "print(f'Length of vocabulary list: {len(vocab)}')\n",
        "print(f'Vocabulary list: {vocab}')\n",
        "print('===><===')\n",
        "\n",
        "def encode_word(word):\n",
        "    tokens = []\n",
        "    while len(word) > 0:\n",
        "        i = len(word)\n",
        "        while i > 0 and word[:i] not in vocab:\n",
        "            i -= 1\n",
        "        if i == 0:\n",
        "            return [\"[UNK]\"]\n",
        "        tokens.append(word[:i])\n",
        "        print(word, '==>', word[:i], ' + ', word[i:])\n",
        "        word = word[i:]\n",
        "        if len(word) > 0:\n",
        "            print(word, '==>', f\"##{word}\")\n",
        "            word = f\"##{word}\"\n",
        "        print('===')\n",
        "    return tokens\n",
        "\n",
        "def tokenize(text):\n",
        "    #Normalization & Pre-tokenization\n",
        "    pre_tokenize_result = tokenizer._tokenizer.pre_tokenizer.pre_tokenize_str(text)\n",
        "    pre_tokenized_text = [word for word, offset in pre_tokenize_result]\n",
        "    #Applying the merge rules learned in order on those splits\n",
        "    encoded_words = [encode_word(word) for word in pre_tokenized_text]\n",
        "    return sum(encoded_words, [])\n",
        "\n",
        "print(tokenize(\"This is the Hugging Face course!\"))"
      ],
      "metadata": {
        "colab": {
          "base_uri": "https://localhost:8080/"
        },
        "id": "RYmnEhHD4eB5",
        "outputId": "247aedd7-a137-4afa-d38f-fdd6688534af"
      },
      "execution_count": null,
      "outputs": [
        {
          "output_type": "stream",
          "name": "stdout",
          "text": [
            "Length of vocabulary list: 70\n",
            "Vocabulary list: ['[PAD]', '[UNK]', '[CLS]', '[SEP]', '[MASK]', '##a', '##b', '##c', '##d', '##e', '##f', '##g', '##h', '##i', '##k', '##l', '##m', '##n', '##o', '##p', '##r', '##s', '##t', '##u', '##v', '##w', '##y', '##z', ',', '.', 'C', 'F', 'H', 'T', 'a', 'b', 'c', 'g', 'h', 'i', 's', 't', 'u', 'w', 'y', 'ab', '##fu', 'Fa', 'Fac', '##ct', '##ful', '##full', '##fully', 'Th', 'ch', '##hm', 'cha', 'chap', 'chapt', '##thm', 'Hu', 'Hug', 'Hugg', 'sh', 'th', 'is', '##thms', '##za', '##zat', '##ut']\n",
            "===><===\n",
            "This ==> Th  +  is\n",
            "is ==> ##is\n",
            "===\n",
            "##is ==> ##i  +  s\n",
            "s ==> ##s\n",
            "===\n",
            "##s ==> ##s  +  \n",
            "===\n",
            "is ==> is  +  \n",
            "===\n",
            "the ==> th  +  e\n",
            "e ==> ##e\n",
            "===\n",
            "##e ==> ##e  +  \n",
            "===\n",
            "Hugging ==> Hugg  +  ing\n",
            "ing ==> ##ing\n",
            "===\n",
            "##ing ==> ##i  +  ng\n",
            "ng ==> ##ng\n",
            "===\n",
            "##ng ==> ##n  +  g\n",
            "g ==> ##g\n",
            "===\n",
            "##g ==> ##g  +  \n",
            "===\n",
            "Face ==> Fac  +  e\n",
            "e ==> ##e\n",
            "===\n",
            "##e ==> ##e  +  \n",
            "===\n",
            "course ==> c  +  ourse\n",
            "ourse ==> ##ourse\n",
            "===\n",
            "##ourse ==> ##o  +  urse\n",
            "urse ==> ##urse\n",
            "===\n",
            "##urse ==> ##u  +  rse\n",
            "rse ==> ##rse\n",
            "===\n",
            "##rse ==> ##r  +  se\n",
            "se ==> ##se\n",
            "===\n",
            "##se ==> ##s  +  e\n",
            "e ==> ##e\n",
            "===\n",
            "##e ==> ##e  +  \n",
            "===\n",
            "['Th', '##i', '##s', 'is', 'th', '##e', 'Hugg', '##i', '##n', '##g', 'Fac', '##e', 'c', '##o', '##u', '##r', '##s', '##e', '[UNK]']\n"
          ]
        }
      ]
    },
    {
      "cell_type": "markdown",
      "source": [
        "###Unigram Algorithm – a Probability-based Model\n",
        "Unigram model solving the merging problem by calculating the likelihood of each subword combination rather than picking the most frequent pattern. Unigram starts from a big vocabulary (token list) and removes tokens from it until it reaches the desired vocabulary size."
      ],
      "metadata": {
        "id": "5ieFYVVaVpHH"
      }
    },
    {
      "cell_type": "markdown",
      "source": [
        "- Step 1: Splitting all text (in a corpus) into individual words and calculating the word frequency (word-frequency dictionary).\n",
        "- Step 2: Splitting the word into individual characters and subwords and then calculating character frequency (character-frequency dictionary) and subword frequency (subword-frequency dictionary).\n",
        "- Step 3: Building a token-score dictionary (including all characters and the best subwords as tokens) and then calculating its score (probability in terms of minus log's space) .\n",
        "- Step 4: Based on the token-score dictionary find out the word's score, and split a given word into the best tokens (base characters and subwords) representing that word.\n",
        "- Step 5: Iterate several times to find the best tokens (in case if remove them will be no/slight difference between the original vocabulary and removed given tokens' vocabulary). And then removing these tokens to reach the desired vocabulary size."
      ],
      "metadata": {
        "id": "FjltpIzZw8Wf"
      }
    },
    {
      "cell_type": "code",
      "source": [
        "!pip -q install datasets evaluate transformers[sentencepiece]"
      ],
      "metadata": {
        "id": "5KTuGf5-AeeD",
        "colab": {
          "base_uri": "https://localhost:8080/"
        },
        "outputId": "476d7210-8550-4e84-c801-631e55b6aa1a"
      },
      "execution_count": null,
      "outputs": [
        {
          "output_type": "stream",
          "name": "stdout",
          "text": [
            "\u001b[?25l     \u001b[90m━━━━━━━━━━━━━━━━━━━━━━━━━━━━━━━━━━━━━━━━\u001b[0m \u001b[32m0.0/542.0 kB\u001b[0m \u001b[31m?\u001b[0m eta \u001b[36m-:--:--\u001b[0m\r\u001b[2K     \u001b[91m━━━━━━━━━━━━━━━\u001b[0m\u001b[90m╺\u001b[0m\u001b[90m━━━━━━━━━━━━━━━━━━━━━━━━\u001b[0m \u001b[32m204.8/542.0 kB\u001b[0m \u001b[31m6.1 MB/s\u001b[0m eta \u001b[36m0:00:01\u001b[0m\r\u001b[2K     \u001b[90m━━━━━━━━━━━━━━━━━━━━━━━━━━━━━━━━━━━━━━━━\u001b[0m \u001b[32m542.0/542.0 kB\u001b[0m \u001b[31m7.8 MB/s\u001b[0m eta \u001b[36m0:00:00\u001b[0m\n",
            "\u001b[2K     \u001b[90m━━━━━━━━━━━━━━━━━━━━━━━━━━━━━━━━━━━━━━━━\u001b[0m \u001b[32m84.1/84.1 kB\u001b[0m \u001b[31m9.5 MB/s\u001b[0m eta \u001b[36m0:00:00\u001b[0m\n",
            "\u001b[2K     \u001b[90m━━━━━━━━━━━━━━━━━━━━━━━━━━━━━━━━━━━━━━━━\u001b[0m \u001b[32m116.3/116.3 kB\u001b[0m \u001b[31m7.4 MB/s\u001b[0m eta \u001b[36m0:00:00\u001b[0m\n",
            "\u001b[2K     \u001b[90m━━━━━━━━━━━━━━━━━━━━━━━━━━━━━━━━━━━━━━━━\u001b[0m \u001b[32m194.1/194.1 kB\u001b[0m \u001b[31m10.9 MB/s\u001b[0m eta \u001b[36m0:00:00\u001b[0m\n",
            "\u001b[2K     \u001b[90m━━━━━━━━━━━━━━━━━━━━━━━━━━━━━━━━━━━━━━━━\u001b[0m \u001b[32m134.8/134.8 kB\u001b[0m \u001b[31m8.1 MB/s\u001b[0m eta \u001b[36m0:00:00\u001b[0m\n",
            "\u001b[2K     \u001b[90m━━━━━━━━━━━━━━━━━━━━━━━━━━━━━━━━━━━━━━━━\u001b[0m \u001b[32m401.2/401.2 kB\u001b[0m \u001b[31m14.0 MB/s\u001b[0m eta \u001b[36m0:00:00\u001b[0m\n",
            "\u001b[?25h"
          ]
        }
      ]
    },
    {
      "cell_type": "code",
      "source": [
        "corpus = [\n",
        "    \"This is the Hugging Face Course.\",\n",
        "    \"This chapter is about tokenization.\",\n",
        "    \"This section shows several tokenizer algorithms.\",\n",
        "    \"Hopefully, you will be able to understand how they are trained and generate tokens.\",\n",
        "]"
      ],
      "metadata": {
        "id": "TLVx0imTAfgT"
      },
      "execution_count": null,
      "outputs": []
    },
    {
      "cell_type": "code",
      "source": [
        "from transformers import AutoTokenizer\n",
        "tokenizer = AutoTokenizer.from_pretrained(\"xlnet-base-cased\")\n",
        "from collections import defaultdict"
      ],
      "metadata": {
        "colab": {
          "base_uri": "https://localhost:8080/",
          "height": 277,
          "referenced_widgets": [
            "b9c43cc7f79842b9a409beb767457a4b",
            "e8fde6299f034a1eb3aae0f7f4ee6f51",
            "5bc8d4777be045a3a1df164e1077dbc5",
            "445cdb7871c142baa79dccca746267f0",
            "ec42a76bee504b2a9a78c840e6ad13a4",
            "f700642b3f904932ba01480d257ef851",
            "0fa00bdeaa5e4a3ca53dc8863e920575",
            "86be853093be47838e4b6ef63ef7956b",
            "f3edbc82bc984a25a35e105b8a43c8ab",
            "a5e77d121a2b470a8047aecc9a781ce0",
            "76c7617182e84b19b7b0594776b93b5f",
            "2294ce3389054f62aa664608e64f663f",
            "2bd60ac38920422db3ccf7427cbdca48",
            "c390950bfb354449b559b4bded4d30f4",
            "5db47629b57f4232b1e1615312a0e89b",
            "6efefb49d1c447618c9ccecd295c3dc4",
            "486c77e4b1e5416481d5d05ed913c661",
            "ddc2bd3d0280441c8dc6f504c3bb5795",
            "c6c8387902054ca2877af59ede3b17f0",
            "0aa4f9ffedc0408fa12af1050065a570",
            "ba181ccc82e548529fff56cbe4153c8b",
            "603966cf66b4435d943e43ca8230c637",
            "0c46b0fb6c3f4ba4a6885043674ccbf4",
            "f289c7b30ca943768f6f5094253c3e55",
            "c36269d35b6640cea6fe4f79dbf0db32",
            "ddc3748d298e45d3aaf0de230e602aad",
            "2ede239d93524e37822b2da1b87ec656",
            "713cb1e7bf6c40f4b49a1976c16b2ffc",
            "5dd92d62ce3143f08bdf603618c5f4e9",
            "3c9ce106655f402d8d1b93a672d8db8e",
            "ee69f69c781a4750b4569a6c64df43c2",
            "6c66850bb9b745ee801df5612edb1cad",
            "bd08911615e940b3a5f3cd2722293c49"
          ]
        },
        "id": "3kxBZ0HWD7Jf",
        "outputId": "5f3f4e53-6ffe-4a82-bc41-a254347b3ff7"
      },
      "execution_count": null,
      "outputs": [
        {
          "output_type": "stream",
          "name": "stderr",
          "text": [
            "/usr/local/lib/python3.10/dist-packages/huggingface_hub/file_download.py:1132: FutureWarning: `resume_download` is deprecated and will be removed in version 1.0.0. Downloads always resume when possible. If you want to force a new download, use `force_download=True`.\n",
            "  warnings.warn(\n",
            "/usr/local/lib/python3.10/dist-packages/huggingface_hub/utils/_token.py:89: UserWarning: \n",
            "The secret `HF_TOKEN` does not exist in your Colab secrets.\n",
            "To authenticate with the Hugging Face Hub, create a token in your settings tab (https://huggingface.co/settings/tokens), set it as secret in your Google Colab and restart your session.\n",
            "You will be able to reuse this secret in all of your notebooks.\n",
            "Please note that authentication is recommended but still optional to access public models or datasets.\n",
            "  warnings.warn(\n"
          ]
        },
        {
          "output_type": "display_data",
          "data": {
            "text/plain": [
              "config.json:   0%|          | 0.00/760 [00:00<?, ?B/s]"
            ],
            "application/vnd.jupyter.widget-view+json": {
              "version_major": 2,
              "version_minor": 0,
              "model_id": "b9c43cc7f79842b9a409beb767457a4b"
            }
          },
          "metadata": {}
        },
        {
          "output_type": "display_data",
          "data": {
            "text/plain": [
              "spiece.model:   0%|          | 0.00/798k [00:00<?, ?B/s]"
            ],
            "application/vnd.jupyter.widget-view+json": {
              "version_major": 2,
              "version_minor": 0,
              "model_id": "2294ce3389054f62aa664608e64f663f"
            }
          },
          "metadata": {}
        },
        {
          "output_type": "display_data",
          "data": {
            "text/plain": [
              "tokenizer.json:   0%|          | 0.00/1.38M [00:00<?, ?B/s]"
            ],
            "application/vnd.jupyter.widget-view+json": {
              "version_major": 2,
              "version_minor": 0,
              "model_id": "0c46b0fb6c3f4ba4a6885043674ccbf4"
            }
          },
          "metadata": {}
        }
      ]
    },
    {
      "cell_type": "markdown",
      "source": [
        "Step 1: Splitting all text (in a corpus) into individual words and calculating the word frequency (word-frequency dictionary)."
      ],
      "metadata": {
        "id": "gknD8eGdNqv6"
      }
    },
    {
      "cell_type": "code",
      "source": [
        "from collections import defaultdict\n",
        "word_freqs = defaultdict(int)\n",
        "for text in corpus:\n",
        "    words_with_offsets = tokenizer.backend_tokenizer.pre_tokenizer.pre_tokenize_str(text)\n",
        "    new_words = [word for word, offset in words_with_offsets]\n",
        "    for word in new_words:\n",
        "        word_freqs[word] += 1\n",
        "print(f\"Vocabulary size: {len(word_freqs)}\")\n",
        "print(f'Word list: {list(word_freqs.keys())}')\n",
        "print(f'Word frequency list: {[f\"{k}: {v}\" for k, v in word_freqs.items()]}')"
      ],
      "metadata": {
        "colab": {
          "base_uri": "https://localhost:8080/"
        },
        "id": "XAGGbXaCNxcx",
        "outputId": "878ae737-f129-4fb2-dce0-03c26674ea3f"
      },
      "execution_count": null,
      "outputs": [
        {
          "output_type": "stream",
          "name": "stdout",
          "text": [
            "Vocabulary size: 28\n",
            "Word list: ['▁This', '▁is', '▁the', '▁Hugging', '▁Face', '▁Course.', '▁chapter', '▁about', '▁tokenization.', '▁section', '▁shows', '▁several', '▁tokenizer', '▁algorithms.', '▁Hopefully,', '▁you', '▁will', '▁be', '▁able', '▁to', '▁understand', '▁how', '▁they', '▁are', '▁trained', '▁and', '▁generate', '▁tokens.']\n",
            "Word frequency list: ['▁This: 3', '▁is: 2', '▁the: 1', '▁Hugging: 1', '▁Face: 1', '▁Course.: 1', '▁chapter: 1', '▁about: 1', '▁tokenization.: 1', '▁section: 1', '▁shows: 1', '▁several: 1', '▁tokenizer: 1', '▁algorithms.: 1', '▁Hopefully,: 1', '▁you: 1', '▁will: 1', '▁be: 1', '▁able: 1', '▁to: 1', '▁understand: 1', '▁how: 1', '▁they: 1', '▁are: 1', '▁trained: 1', '▁and: 1', '▁generate: 1', '▁tokens.: 1']\n"
          ]
        }
      ]
    },
    {
      "cell_type": "markdown",
      "source": [
        "Step 2: Splitting the word into individual characters and subwords and then calculating character frequency (character-frequency dictionary) and subword frequency (subword-frequency dictionary)."
      ],
      "metadata": {
        "id": "AHXWtTt2Nsrs"
      }
    },
    {
      "cell_type": "code",
      "source": [
        "char_freqs = defaultdict(int)\n",
        "subwords_freqs = defaultdict(int)\n",
        "for word, freq in word_freqs.items():\n",
        "    for i in range(len(word)):\n",
        "        char_freqs[word[i]] += freq #freq_of_characters\n",
        "        # Loop through the subwords of length at least 2\n",
        "        for j in range(i + 2, len(word) + 1):\n",
        "            subwords_freqs[word[i:j]] += freq #freq_of_subwords\n",
        "print(f'Character frequency list: {[f\"{k}: {v}\" for k, v in char_freqs.items()]}')\n",
        "print(f'Subword frequency list: {[f\"{k}: {v}\" for k, v in subwords_freqs.items()]}')"
      ],
      "metadata": {
        "colab": {
          "base_uri": "https://localhost:8080/"
        },
        "id": "BjEOfi6tEA-T",
        "outputId": "c5ea6aea-48ec-4bcd-ee4a-378b61929219"
      },
      "execution_count": null,
      "outputs": [
        {
          "output_type": "stream",
          "name": "stdout",
          "text": [
            "Character frequency list: ['▁: 31', 'T: 3', 'h: 9', 'i: 13', 's: 13', 't: 14', 'e: 21', 'H: 2', 'u: 6', 'g: 5', 'n: 11', 'F: 1', 'a: 12', 'c: 3', 'C: 1', 'o: 13', 'r: 9', '.: 4', 'p: 2', 'b: 3', 'k: 3', 'z: 2', 'w: 3', 'v: 1', 'l: 7', 'm: 1', 'f: 1', 'y: 3', ',: 1', 'd: 4']\n",
            "Subword frequency list: ['▁T: 3', '▁Th: 3', '▁Thi: 3', '▁This: 3', 'Th: 3', 'Thi: 3', 'This: 3', 'hi: 3', 'his: 3', 'is: 5', '▁i: 2', '▁is: 2', '▁t: 7', '▁th: 2', '▁the: 2', 'th: 3', 'the: 2', 'he: 2', '▁H: 2', '▁Hu: 1', '▁Hug: 1', '▁Hugg: 1', '▁Huggi: 1', '▁Huggin: 1', '▁Hugging: 1', 'Hu: 1', 'Hug: 1', 'Hugg: 1', 'Huggi: 1', 'Huggin: 1', 'Hugging: 1', 'ug: 1', 'ugg: 1', 'uggi: 1', 'uggin: 1', 'ugging: 1', 'gg: 1', 'ggi: 1', 'ggin: 1', 'gging: 1', 'gi: 1', 'gin: 1', 'ging: 1', 'in: 2', 'ing: 1', 'ng: 1', '▁F: 1', '▁Fa: 1', '▁Fac: 1', '▁Face: 1', 'Fa: 1', 'Fac: 1', 'Face: 1', 'ac: 1', 'ace: 1', 'ce: 1', '▁C: 1', '▁Co: 1', '▁Cou: 1', '▁Cour: 1', '▁Cours: 1', '▁Course: 1', '▁Course.: 1', 'Co: 1', 'Cou: 1', 'Cour: 1', 'Cours: 1', 'Course: 1', 'Course.: 1', 'ou: 3', 'our: 1', 'ours: 1', 'ourse: 1', 'ourse.: 1', 'ur: 1', 'urs: 1', 'urse: 1', 'urse.: 1', 'rs: 2', 'rse: 1', 'rse.: 1', 'se: 3', 'se.: 1', 'e.: 1', '▁c: 1', '▁ch: 1', '▁cha: 1', '▁chap: 1', '▁chapt: 1', '▁chapte: 1', '▁chapter: 1', 'ch: 1', 'cha: 1', 'chap: 1', 'chapt: 1', 'chapte: 1', 'chapter: 1', 'ha: 1', 'hap: 1', 'hapt: 1', 'hapte: 1', 'hapter: 1', 'ap: 1', 'apt: 1', 'apte: 1', 'apter: 1', 'pt: 1', 'pte: 1', 'pter: 1', 'te: 2', 'ter: 1', 'er: 5', '▁a: 5', '▁ab: 2', '▁abo: 1', '▁abou: 1', '▁about: 1', 'ab: 2', 'abo: 1', 'abou: 1', 'about: 1', 'bo: 1', 'bou: 1', 'bout: 1', 'out: 1', 'ut: 1', '▁to: 4', '▁tok: 3', '▁toke: 3', '▁token: 3', '▁tokeni: 2', '▁tokeniz: 2', '▁tokeniza: 1', '▁tokenizat: 1', '▁tokenizati: 1', '▁tokenizatio: 1', '▁tokenization: 1', '▁tokenization.: 1', 'to: 4', 'tok: 3', 'toke: 3', 'token: 3', 'tokeni: 2', 'tokeniz: 2', 'tokeniza: 1', 'tokenizat: 1', 'tokenizati: 1', 'tokenizatio: 1', 'tokenization: 1', 'tokenization.: 1', 'ok: 3', 'oke: 3', 'oken: 3', 'okeni: 2', 'okeniz: 2', 'okeniza: 1', 'okenizat: 1', 'okenizati: 1', 'okenizatio: 1', 'okenization: 1', 'okenization.: 1', 'ke: 3', 'ken: 3', 'keni: 2', 'keniz: 2', 'keniza: 1', 'kenizat: 1', 'kenizati: 1', 'kenizatio: 1', 'kenization: 1', 'kenization.: 1', 'en: 4', 'eni: 2', 'eniz: 2', 'eniza: 1', 'enizat: 1', 'enizati: 1', 'enizatio: 1', 'enization: 1', 'enization.: 1', 'ni: 2', 'niz: 2', 'niza: 1', 'nizat: 1', 'nizati: 1', 'nizatio: 1', 'nization: 1', 'nization.: 1', 'iz: 2', 'iza: 1', 'izat: 1', 'izati: 1', 'izatio: 1', 'ization: 1', 'ization.: 1', 'za: 1', 'zat: 1', 'zati: 1', 'zatio: 1', 'zation: 1', 'zation.: 1', 'at: 2', 'ati: 1', 'atio: 1', 'ation: 1', 'ation.: 1', 'ti: 2', 'tio: 2', 'tion: 2', 'tion.: 1', 'io: 2', 'ion: 2', 'ion.: 1', 'on: 2', 'on.: 1', 'n.: 1', '▁s: 3', '▁se: 2', '▁sec: 1', '▁sect: 1', '▁secti: 1', '▁sectio: 1', '▁section: 1', 'sec: 1', 'sect: 1', 'secti: 1', 'sectio: 1', 'section: 1', 'ec: 1', 'ect: 1', 'ecti: 1', 'ectio: 1', 'ection: 1', 'ct: 1', 'cti: 1', 'ctio: 1', 'ction: 1', '▁sh: 1', '▁sho: 1', '▁show: 1', '▁shows: 1', 'sh: 1', 'sho: 1', 'show: 1', 'shows: 1', 'ho: 2', 'how: 2', 'hows: 1', 'ow: 2', 'ows: 1', 'ws: 1', '▁sev: 1', '▁seve: 1', '▁sever: 1', '▁severa: 1', '▁several: 1', 'sev: 1', 'seve: 1', 'sever: 1', 'severa: 1', 'several: 1', 'ev: 1', 'eve: 1', 'ever: 1', 'evera: 1', 'everal: 1', 've: 1', 'ver: 1', 'vera: 1', 'veral: 1', 'era: 2', 'eral: 1', 'ra: 3', 'ral: 1', 'al: 2', '▁tokenize: 1', '▁tokenizer: 1', 'tokenize: 1', 'tokenizer: 1', 'okenize: 1', 'okenizer: 1', 'kenize: 1', 'kenizer: 1', 'enize: 1', 'enizer: 1', 'nize: 1', 'nizer: 1', 'ize: 1', 'izer: 1', 'ze: 1', 'zer: 1', '▁al: 1', '▁alg: 1', '▁algo: 1', '▁algor: 1', '▁algori: 1', '▁algorit: 1', '▁algorith: 1', '▁algorithm: 1', '▁algorithms: 1', '▁algorithms.: 1', 'alg: 1', 'algo: 1', 'algor: 1', 'algori: 1', 'algorit: 1', 'algorith: 1', 'algorithm: 1', 'algorithms: 1', 'algorithms.: 1', 'lg: 1', 'lgo: 1', 'lgor: 1', 'lgori: 1', 'lgorit: 1', 'lgorith: 1', 'lgorithm: 1', 'lgorithms: 1', 'lgorithms.: 1', 'go: 1', 'gor: 1', 'gori: 1', 'gorit: 1', 'gorith: 1', 'gorithm: 1', 'gorithms: 1', 'gorithms.: 1', 'or: 1', 'ori: 1', 'orit: 1', 'orith: 1', 'orithm: 1', 'orithms: 1', 'orithms.: 1', 'ri: 1', 'rit: 1', 'rith: 1', 'rithm: 1', 'rithms: 1', 'rithms.: 1', 'it: 1', 'ith: 1', 'ithm: 1', 'ithms: 1', 'ithms.: 1', 'thm: 1', 'thms: 1', 'thms.: 1', 'hm: 1', 'hms: 1', 'hms.: 1', 'ms: 1', 'ms.: 1', 's.: 2', '▁Ho: 1', '▁Hop: 1', '▁Hope: 1', '▁Hopef: 1', '▁Hopefu: 1', '▁Hopeful: 1', '▁Hopefull: 1', '▁Hopefully: 1', '▁Hopefully,: 1', 'Ho: 1', 'Hop: 1', 'Hope: 1', 'Hopef: 1', 'Hopefu: 1', 'Hopeful: 1', 'Hopefull: 1', 'Hopefully: 1', 'Hopefully,: 1', 'op: 1', 'ope: 1', 'opef: 1', 'opefu: 1', 'opeful: 1', 'opefull: 1', 'opefully: 1', 'opefully,: 1', 'pe: 1', 'pef: 1', 'pefu: 1', 'peful: 1', 'pefull: 1', 'pefully: 1', 'pefully,: 1', 'ef: 1', 'efu: 1', 'eful: 1', 'efull: 1', 'efully: 1', 'efully,: 1', 'fu: 1', 'ful: 1', 'full: 1', 'fully: 1', 'fully,: 1', 'ul: 1', 'ull: 1', 'ully: 1', 'ully,: 1', 'll: 2', 'lly: 1', 'lly,: 1', 'ly: 1', 'ly,: 1', 'y,: 1', '▁y: 1', '▁yo: 1', '▁you: 1', 'yo: 1', 'you: 1', '▁w: 1', '▁wi: 1', '▁wil: 1', '▁will: 1', 'wi: 1', 'wil: 1', 'will: 1', 'il: 1', 'ill: 1', '▁b: 1', '▁be: 1', 'be: 1', '▁abl: 1', '▁able: 1', 'abl: 1', 'able: 1', 'bl: 1', 'ble: 1', 'le: 1', '▁u: 1', '▁un: 1', '▁und: 1', '▁unde: 1', '▁under: 1', '▁unders: 1', '▁underst: 1', '▁understa: 1', '▁understan: 1', '▁understand: 1', 'un: 1', 'und: 1', 'unde: 1', 'under: 1', 'unders: 1', 'underst: 1', 'understa: 1', 'understan: 1', 'understand: 1', 'nd: 3', 'nde: 1', 'nder: 1', 'nders: 1', 'nderst: 1', 'ndersta: 1', 'nderstan: 1', 'nderstand: 1', 'de: 1', 'der: 1', 'ders: 1', 'derst: 1', 'dersta: 1', 'derstan: 1', 'derstand: 1', 'ers: 1', 'erst: 1', 'ersta: 1', 'erstan: 1', 'erstand: 1', 'rst: 1', 'rsta: 1', 'rstan: 1', 'rstand: 1', 'st: 1', 'sta: 1', 'stan: 1', 'stand: 1', 'ta: 1', 'tan: 1', 'tand: 1', 'an: 2', 'and: 2', '▁h: 1', '▁ho: 1', '▁how: 1', '▁they: 1', 'they: 1', 'hey: 1', 'ey: 1', '▁ar: 1', '▁are: 1', 'ar: 1', 'are: 1', 're: 1', '▁tr: 1', '▁tra: 1', '▁trai: 1', '▁train: 1', '▁traine: 1', '▁trained: 1', 'tr: 1', 'tra: 1', 'trai: 1', 'train: 1', 'traine: 1', 'trained: 1', 'rai: 1', 'rain: 1', 'raine: 1', 'rained: 1', 'ai: 1', 'ain: 1', 'aine: 1', 'ained: 1', 'ine: 1', 'ined: 1', 'ne: 2', 'ned: 1', 'ed: 1', '▁an: 1', '▁and: 1', '▁g: 1', '▁ge: 1', '▁gen: 1', '▁gene: 1', '▁gener: 1', '▁genera: 1', '▁generat: 1', '▁generate: 1', 'ge: 1', 'gen: 1', 'gene: 1', 'gener: 1', 'genera: 1', 'generat: 1', 'generate: 1', 'ene: 1', 'ener: 1', 'enera: 1', 'enerat: 1', 'enerate: 1', 'ner: 1', 'nera: 1', 'nerat: 1', 'nerate: 1', 'erat: 1', 'erate: 1', 'rat: 1', 'rate: 1', 'ate: 1', '▁tokens: 1', '▁tokens.: 1', 'tokens: 1', 'tokens.: 1', 'okens: 1', 'okens.: 1', 'kens: 1', 'kens.: 1', 'ens: 1', 'ens.: 1', 'ns: 1', 'ns.: 1']\n"
          ]
        }
      ]
    },
    {
      "cell_type": "markdown",
      "source": [
        "Step 3: Building a token-score dictionary (including all characters and the best subwords as tokens) and then calculating its score (probability in terms of minus log's space) ."
      ],
      "metadata": {
        "id": "z0uy6igKc4mk"
      }
    },
    {
      "cell_type": "code",
      "source": [
        "#To make sure any word can be tokenized, the base characters are not removed.\n",
        "#Subwords will be considered in limited quantity (the best subwords in terms of frequency).\n",
        "\n",
        "#Building a token-score dictionary (including all characters and the n best subwords)\n",
        "\n",
        "# Sorting subwords by frequency (best subwords)\n",
        "sorted_subwords = sorted(subwords_freqs.items(), key=lambda x: x[1], reverse=True)\n",
        "print(f'Subword sorted frequency list: {[f\"{k}: {v}\" for k, v in sorted_subwords]}')\n",
        "\n",
        "#initial vocabulary of size 300\n",
        "vocab_size = 300\n",
        "token_freqs = list(char_freqs.items()) + sorted_subwords[: vocab_size - len(char_freqs)]\n",
        "token_freqs = {token: freq for token, freq in token_freqs}\n",
        "print(f'Token frequency list: {[f\"{k}: {v}\" for k, v in token_freqs.items()]}')\n",
        "\n",
        "#Calculating probabilities and converting to -log's space.\n",
        "#probability in [0,1] => -log's space => the smaller score means the larger probability\n",
        "from math import log\n",
        "total_sum = sum([freq for token, freq in token_freqs.items()])\n",
        "model = {token: -log(freq / total_sum) for token, freq in token_freqs.items()}\n",
        "print(f'Token score list: {[f\"{k}: {v}\" for k, v in model.items()]}')"
      ],
      "metadata": {
        "colab": {
          "base_uri": "https://localhost:8080/"
        },
        "id": "jt2aS20XRUaK",
        "outputId": "af090092-36d4-414b-a65d-b21472b1324b"
      },
      "execution_count": null,
      "outputs": [
        {
          "output_type": "stream",
          "name": "stdout",
          "text": [
            "Subword sorted frequency list: ['▁t: 7', 'is: 5', 'er: 5', '▁a: 5', '▁to: 4', 'to: 4', 'en: 4', '▁T: 3', '▁Th: 3', '▁Thi: 3', '▁This: 3', 'Th: 3', 'Thi: 3', 'This: 3', 'hi: 3', 'his: 3', 'th: 3', 'ou: 3', 'se: 3', '▁tok: 3', '▁toke: 3', '▁token: 3', 'tok: 3', 'toke: 3', 'token: 3', 'ok: 3', 'oke: 3', 'oken: 3', 'ke: 3', 'ken: 3', '▁s: 3', 'ra: 3', 'nd: 3', '▁i: 2', '▁is: 2', '▁th: 2', '▁the: 2', 'the: 2', 'he: 2', '▁H: 2', 'in: 2', 'rs: 2', 'te: 2', '▁ab: 2', 'ab: 2', '▁tokeni: 2', '▁tokeniz: 2', 'tokeni: 2', 'tokeniz: 2', 'okeni: 2', 'okeniz: 2', 'keni: 2', 'keniz: 2', 'eni: 2', 'eniz: 2', 'ni: 2', 'niz: 2', 'iz: 2', 'at: 2', 'ti: 2', 'tio: 2', 'tion: 2', 'io: 2', 'ion: 2', 'on: 2', '▁se: 2', 'ho: 2', 'how: 2', 'ow: 2', 'era: 2', 'al: 2', 's.: 2', 'll: 2', 'an: 2', 'and: 2', 'ne: 2', '▁Hu: 1', '▁Hug: 1', '▁Hugg: 1', '▁Huggi: 1', '▁Huggin: 1', '▁Hugging: 1', 'Hu: 1', 'Hug: 1', 'Hugg: 1', 'Huggi: 1', 'Huggin: 1', 'Hugging: 1', 'ug: 1', 'ugg: 1', 'uggi: 1', 'uggin: 1', 'ugging: 1', 'gg: 1', 'ggi: 1', 'ggin: 1', 'gging: 1', 'gi: 1', 'gin: 1', 'ging: 1', 'ing: 1', 'ng: 1', '▁F: 1', '▁Fa: 1', '▁Fac: 1', '▁Face: 1', 'Fa: 1', 'Fac: 1', 'Face: 1', 'ac: 1', 'ace: 1', 'ce: 1', '▁C: 1', '▁Co: 1', '▁Cou: 1', '▁Cour: 1', '▁Cours: 1', '▁Course: 1', '▁Course.: 1', 'Co: 1', 'Cou: 1', 'Cour: 1', 'Cours: 1', 'Course: 1', 'Course.: 1', 'our: 1', 'ours: 1', 'ourse: 1', 'ourse.: 1', 'ur: 1', 'urs: 1', 'urse: 1', 'urse.: 1', 'rse: 1', 'rse.: 1', 'se.: 1', 'e.: 1', '▁c: 1', '▁ch: 1', '▁cha: 1', '▁chap: 1', '▁chapt: 1', '▁chapte: 1', '▁chapter: 1', 'ch: 1', 'cha: 1', 'chap: 1', 'chapt: 1', 'chapte: 1', 'chapter: 1', 'ha: 1', 'hap: 1', 'hapt: 1', 'hapte: 1', 'hapter: 1', 'ap: 1', 'apt: 1', 'apte: 1', 'apter: 1', 'pt: 1', 'pte: 1', 'pter: 1', 'ter: 1', '▁abo: 1', '▁abou: 1', '▁about: 1', 'abo: 1', 'abou: 1', 'about: 1', 'bo: 1', 'bou: 1', 'bout: 1', 'out: 1', 'ut: 1', '▁tokeniza: 1', '▁tokenizat: 1', '▁tokenizati: 1', '▁tokenizatio: 1', '▁tokenization: 1', '▁tokenization.: 1', 'tokeniza: 1', 'tokenizat: 1', 'tokenizati: 1', 'tokenizatio: 1', 'tokenization: 1', 'tokenization.: 1', 'okeniza: 1', 'okenizat: 1', 'okenizati: 1', 'okenizatio: 1', 'okenization: 1', 'okenization.: 1', 'keniza: 1', 'kenizat: 1', 'kenizati: 1', 'kenizatio: 1', 'kenization: 1', 'kenization.: 1', 'eniza: 1', 'enizat: 1', 'enizati: 1', 'enizatio: 1', 'enization: 1', 'enization.: 1', 'niza: 1', 'nizat: 1', 'nizati: 1', 'nizatio: 1', 'nization: 1', 'nization.: 1', 'iza: 1', 'izat: 1', 'izati: 1', 'izatio: 1', 'ization: 1', 'ization.: 1', 'za: 1', 'zat: 1', 'zati: 1', 'zatio: 1', 'zation: 1', 'zation.: 1', 'ati: 1', 'atio: 1', 'ation: 1', 'ation.: 1', 'tion.: 1', 'ion.: 1', 'on.: 1', 'n.: 1', '▁sec: 1', '▁sect: 1', '▁secti: 1', '▁sectio: 1', '▁section: 1', 'sec: 1', 'sect: 1', 'secti: 1', 'sectio: 1', 'section: 1', 'ec: 1', 'ect: 1', 'ecti: 1', 'ectio: 1', 'ection: 1', 'ct: 1', 'cti: 1', 'ctio: 1', 'ction: 1', '▁sh: 1', '▁sho: 1', '▁show: 1', '▁shows: 1', 'sh: 1', 'sho: 1', 'show: 1', 'shows: 1', 'hows: 1', 'ows: 1', 'ws: 1', '▁sev: 1', '▁seve: 1', '▁sever: 1', '▁severa: 1', '▁several: 1', 'sev: 1', 'seve: 1', 'sever: 1', 'severa: 1', 'several: 1', 'ev: 1', 'eve: 1', 'ever: 1', 'evera: 1', 'everal: 1', 've: 1', 'ver: 1', 'vera: 1', 'veral: 1', 'eral: 1', 'ral: 1', '▁tokenize: 1', '▁tokenizer: 1', 'tokenize: 1', 'tokenizer: 1', 'okenize: 1', 'okenizer: 1', 'kenize: 1', 'kenizer: 1', 'enize: 1', 'enizer: 1', 'nize: 1', 'nizer: 1', 'ize: 1', 'izer: 1', 'ze: 1', 'zer: 1', '▁al: 1', '▁alg: 1', '▁algo: 1', '▁algor: 1', '▁algori: 1', '▁algorit: 1', '▁algorith: 1', '▁algorithm: 1', '▁algorithms: 1', '▁algorithms.: 1', 'alg: 1', 'algo: 1', 'algor: 1', 'algori: 1', 'algorit: 1', 'algorith: 1', 'algorithm: 1', 'algorithms: 1', 'algorithms.: 1', 'lg: 1', 'lgo: 1', 'lgor: 1', 'lgori: 1', 'lgorit: 1', 'lgorith: 1', 'lgorithm: 1', 'lgorithms: 1', 'lgorithms.: 1', 'go: 1', 'gor: 1', 'gori: 1', 'gorit: 1', 'gorith: 1', 'gorithm: 1', 'gorithms: 1', 'gorithms.: 1', 'or: 1', 'ori: 1', 'orit: 1', 'orith: 1', 'orithm: 1', 'orithms: 1', 'orithms.: 1', 'ri: 1', 'rit: 1', 'rith: 1', 'rithm: 1', 'rithms: 1', 'rithms.: 1', 'it: 1', 'ith: 1', 'ithm: 1', 'ithms: 1', 'ithms.: 1', 'thm: 1', 'thms: 1', 'thms.: 1', 'hm: 1', 'hms: 1', 'hms.: 1', 'ms: 1', 'ms.: 1', '▁Ho: 1', '▁Hop: 1', '▁Hope: 1', '▁Hopef: 1', '▁Hopefu: 1', '▁Hopeful: 1', '▁Hopefull: 1', '▁Hopefully: 1', '▁Hopefully,: 1', 'Ho: 1', 'Hop: 1', 'Hope: 1', 'Hopef: 1', 'Hopefu: 1', 'Hopeful: 1', 'Hopefull: 1', 'Hopefully: 1', 'Hopefully,: 1', 'op: 1', 'ope: 1', 'opef: 1', 'opefu: 1', 'opeful: 1', 'opefull: 1', 'opefully: 1', 'opefully,: 1', 'pe: 1', 'pef: 1', 'pefu: 1', 'peful: 1', 'pefull: 1', 'pefully: 1', 'pefully,: 1', 'ef: 1', 'efu: 1', 'eful: 1', 'efull: 1', 'efully: 1', 'efully,: 1', 'fu: 1', 'ful: 1', 'full: 1', 'fully: 1', 'fully,: 1', 'ul: 1', 'ull: 1', 'ully: 1', 'ully,: 1', 'lly: 1', 'lly,: 1', 'ly: 1', 'ly,: 1', 'y,: 1', '▁y: 1', '▁yo: 1', '▁you: 1', 'yo: 1', 'you: 1', '▁w: 1', '▁wi: 1', '▁wil: 1', '▁will: 1', 'wi: 1', 'wil: 1', 'will: 1', 'il: 1', 'ill: 1', '▁b: 1', '▁be: 1', 'be: 1', '▁abl: 1', '▁able: 1', 'abl: 1', 'able: 1', 'bl: 1', 'ble: 1', 'le: 1', '▁u: 1', '▁un: 1', '▁und: 1', '▁unde: 1', '▁under: 1', '▁unders: 1', '▁underst: 1', '▁understa: 1', '▁understan: 1', '▁understand: 1', 'un: 1', 'und: 1', 'unde: 1', 'under: 1', 'unders: 1', 'underst: 1', 'understa: 1', 'understan: 1', 'understand: 1', 'nde: 1', 'nder: 1', 'nders: 1', 'nderst: 1', 'ndersta: 1', 'nderstan: 1', 'nderstand: 1', 'de: 1', 'der: 1', 'ders: 1', 'derst: 1', 'dersta: 1', 'derstan: 1', 'derstand: 1', 'ers: 1', 'erst: 1', 'ersta: 1', 'erstan: 1', 'erstand: 1', 'rst: 1', 'rsta: 1', 'rstan: 1', 'rstand: 1', 'st: 1', 'sta: 1', 'stan: 1', 'stand: 1', 'ta: 1', 'tan: 1', 'tand: 1', '▁h: 1', '▁ho: 1', '▁how: 1', '▁they: 1', 'they: 1', 'hey: 1', 'ey: 1', '▁ar: 1', '▁are: 1', 'ar: 1', 'are: 1', 're: 1', '▁tr: 1', '▁tra: 1', '▁trai: 1', '▁train: 1', '▁traine: 1', '▁trained: 1', 'tr: 1', 'tra: 1', 'trai: 1', 'train: 1', 'traine: 1', 'trained: 1', 'rai: 1', 'rain: 1', 'raine: 1', 'rained: 1', 'ai: 1', 'ain: 1', 'aine: 1', 'ained: 1', 'ine: 1', 'ined: 1', 'ned: 1', 'ed: 1', '▁an: 1', '▁and: 1', '▁g: 1', '▁ge: 1', '▁gen: 1', '▁gene: 1', '▁gener: 1', '▁genera: 1', '▁generat: 1', '▁generate: 1', 'ge: 1', 'gen: 1', 'gene: 1', 'gener: 1', 'genera: 1', 'generat: 1', 'generate: 1', 'ene: 1', 'ener: 1', 'enera: 1', 'enerat: 1', 'enerate: 1', 'ner: 1', 'nera: 1', 'nerat: 1', 'nerate: 1', 'erat: 1', 'erate: 1', 'rat: 1', 'rate: 1', 'ate: 1', '▁tokens: 1', '▁tokens.: 1', 'tokens: 1', 'tokens.: 1', 'okens: 1', 'okens.: 1', 'kens: 1', 'kens.: 1', 'ens: 1', 'ens.: 1', 'ns: 1', 'ns.: 1']\n",
            "Token frequency list: ['▁: 31', 'T: 3', 'h: 9', 'i: 13', 's: 13', 't: 14', 'e: 21', 'H: 2', 'u: 6', 'g: 5', 'n: 11', 'F: 1', 'a: 12', 'c: 3', 'C: 1', 'o: 13', 'r: 9', '.: 4', 'p: 2', 'b: 3', 'k: 3', 'z: 2', 'w: 3', 'v: 1', 'l: 7', 'm: 1', 'f: 1', 'y: 3', ',: 1', 'd: 4', '▁t: 7', 'is: 5', 'er: 5', '▁a: 5', '▁to: 4', 'to: 4', 'en: 4', '▁T: 3', '▁Th: 3', '▁Thi: 3', '▁This: 3', 'Th: 3', 'Thi: 3', 'This: 3', 'hi: 3', 'his: 3', 'th: 3', 'ou: 3', 'se: 3', '▁tok: 3', '▁toke: 3', '▁token: 3', 'tok: 3', 'toke: 3', 'token: 3', 'ok: 3', 'oke: 3', 'oken: 3', 'ke: 3', 'ken: 3', '▁s: 3', 'ra: 3', 'nd: 3', '▁i: 2', '▁is: 2', '▁th: 2', '▁the: 2', 'the: 2', 'he: 2', '▁H: 2', 'in: 2', 'rs: 2', 'te: 2', '▁ab: 2', 'ab: 2', '▁tokeni: 2', '▁tokeniz: 2', 'tokeni: 2', 'tokeniz: 2', 'okeni: 2', 'okeniz: 2', 'keni: 2', 'keniz: 2', 'eni: 2', 'eniz: 2', 'ni: 2', 'niz: 2', 'iz: 2', 'at: 2', 'ti: 2', 'tio: 2', 'tion: 2', 'io: 2', 'ion: 2', 'on: 2', '▁se: 2', 'ho: 2', 'how: 2', 'ow: 2', 'era: 2', 'al: 2', 's.: 2', 'll: 2', 'an: 2', 'and: 2', 'ne: 2', '▁Hu: 1', '▁Hug: 1', '▁Hugg: 1', '▁Huggi: 1', '▁Huggin: 1', '▁Hugging: 1', 'Hu: 1', 'Hug: 1', 'Hugg: 1', 'Huggi: 1', 'Huggin: 1', 'Hugging: 1', 'ug: 1', 'ugg: 1', 'uggi: 1', 'uggin: 1', 'ugging: 1', 'gg: 1', 'ggi: 1', 'ggin: 1', 'gging: 1', 'gi: 1', 'gin: 1', 'ging: 1', 'ing: 1', 'ng: 1', '▁F: 1', '▁Fa: 1', '▁Fac: 1', '▁Face: 1', 'Fa: 1', 'Fac: 1', 'Face: 1', 'ac: 1', 'ace: 1', 'ce: 1', '▁C: 1', '▁Co: 1', '▁Cou: 1', '▁Cour: 1', '▁Cours: 1', '▁Course: 1', '▁Course.: 1', 'Co: 1', 'Cou: 1', 'Cour: 1', 'Cours: 1', 'Course: 1', 'Course.: 1', 'our: 1', 'ours: 1', 'ourse: 1', 'ourse.: 1', 'ur: 1', 'urs: 1', 'urse: 1', 'urse.: 1', 'rse: 1', 'rse.: 1', 'se.: 1', 'e.: 1', '▁c: 1', '▁ch: 1', '▁cha: 1', '▁chap: 1', '▁chapt: 1', '▁chapte: 1', '▁chapter: 1', 'ch: 1', 'cha: 1', 'chap: 1', 'chapt: 1', 'chapte: 1', 'chapter: 1', 'ha: 1', 'hap: 1', 'hapt: 1', 'hapte: 1', 'hapter: 1', 'ap: 1', 'apt: 1', 'apte: 1', 'apter: 1', 'pt: 1', 'pte: 1', 'pter: 1', 'ter: 1', '▁abo: 1', '▁abou: 1', '▁about: 1', 'abo: 1', 'abou: 1', 'about: 1', 'bo: 1', 'bou: 1', 'bout: 1', 'out: 1', 'ut: 1', '▁tokeniza: 1', '▁tokenizat: 1', '▁tokenizati: 1', '▁tokenizatio: 1', '▁tokenization: 1', '▁tokenization.: 1', 'tokeniza: 1', 'tokenizat: 1', 'tokenizati: 1', 'tokenizatio: 1', 'tokenization: 1', 'tokenization.: 1', 'okeniza: 1', 'okenizat: 1', 'okenizati: 1', 'okenizatio: 1', 'okenization: 1', 'okenization.: 1', 'keniza: 1', 'kenizat: 1', 'kenizati: 1', 'kenizatio: 1', 'kenization: 1', 'kenization.: 1', 'eniza: 1', 'enizat: 1', 'enizati: 1', 'enizatio: 1', 'enization: 1', 'enization.: 1', 'niza: 1', 'nizat: 1', 'nizati: 1', 'nizatio: 1', 'nization: 1', 'nization.: 1', 'iza: 1', 'izat: 1', 'izati: 1', 'izatio: 1', 'ization: 1', 'ization.: 1', 'za: 1', 'zat: 1', 'zati: 1', 'zatio: 1', 'zation: 1', 'zation.: 1', 'ati: 1', 'atio: 1', 'ation: 1', 'ation.: 1', 'tion.: 1', 'ion.: 1', 'on.: 1', 'n.: 1', '▁sec: 1', '▁sect: 1', '▁secti: 1', '▁sectio: 1', '▁section: 1', 'sec: 1', 'sect: 1', 'secti: 1', 'sectio: 1', 'section: 1', 'ec: 1', 'ect: 1', 'ecti: 1', 'ectio: 1', 'ection: 1', 'ct: 1', 'cti: 1', 'ctio: 1', 'ction: 1', '▁sh: 1', '▁sho: 1', '▁show: 1', '▁shows: 1', 'sh: 1', 'sho: 1', 'show: 1', 'shows: 1', 'hows: 1', 'ows: 1', 'ws: 1', '▁sev: 1', '▁seve: 1', '▁sever: 1', '▁severa: 1', '▁several: 1', 'sev: 1', 'seve: 1', 'sever: 1', 'severa: 1', 'several: 1']\n",
            "Token score list: ['▁: 2.952892114877499', 'T: 5.288267030694535', 'h: 4.189654742026425', 'i: 3.821929961901108', 's: 3.821929961901108', 't: 3.7478219897473863', 'e: 3.342356881639222', 'H: 5.6937321388027', 'u: 4.59511985013459', 'g: 4.777441406928545', 'n: 3.9889840465642745', 'F: 6.386879319362645', 'a: 3.9019726695746444', 'c: 5.288267030694535', 'C: 6.386879319362645', 'o: 3.821929961901108', 'r: 4.189654742026425', '.: 5.000584958242754', 'p: 5.6937321388027', 'b: 5.288267030694535', 'k: 5.288267030694535', 'z: 5.6937321388027', 'w: 5.288267030694535', 'v: 6.386879319362645', 'l: 4.440969170307332', 'm: 6.386879319362645', 'f: 6.386879319362645', 'y: 5.288267030694535', ',: 6.386879319362645', 'd: 5.000584958242754', '▁t: 4.440969170307332', 'is: 4.777441406928545', 'er: 4.777441406928545', '▁a: 4.777441406928545', '▁to: 5.000584958242754', 'to: 5.000584958242754', 'en: 5.000584958242754', '▁T: 5.288267030694535', '▁Th: 5.288267030694535', '▁Thi: 5.288267030694535', '▁This: 5.288267030694535', 'Th: 5.288267030694535', 'Thi: 5.288267030694535', 'This: 5.288267030694535', 'hi: 5.288267030694535', 'his: 5.288267030694535', 'th: 5.288267030694535', 'ou: 5.288267030694535', 'se: 5.288267030694535', '▁tok: 5.288267030694535', '▁toke: 5.288267030694535', '▁token: 5.288267030694535', 'tok: 5.288267030694535', 'toke: 5.288267030694535', 'token: 5.288267030694535', 'ok: 5.288267030694535', 'oke: 5.288267030694535', 'oken: 5.288267030694535', 'ke: 5.288267030694535', 'ken: 5.288267030694535', '▁s: 5.288267030694535', 'ra: 5.288267030694535', 'nd: 5.288267030694535', '▁i: 5.6937321388027', '▁is: 5.6937321388027', '▁th: 5.6937321388027', '▁the: 5.6937321388027', 'the: 5.6937321388027', 'he: 5.6937321388027', '▁H: 5.6937321388027', 'in: 5.6937321388027', 'rs: 5.6937321388027', 'te: 5.6937321388027', '▁ab: 5.6937321388027', 'ab: 5.6937321388027', '▁tokeni: 5.6937321388027', '▁tokeniz: 5.6937321388027', 'tokeni: 5.6937321388027', 'tokeniz: 5.6937321388027', 'okeni: 5.6937321388027', 'okeniz: 5.6937321388027', 'keni: 5.6937321388027', 'keniz: 5.6937321388027', 'eni: 5.6937321388027', 'eniz: 5.6937321388027', 'ni: 5.6937321388027', 'niz: 5.6937321388027', 'iz: 5.6937321388027', 'at: 5.6937321388027', 'ti: 5.6937321388027', 'tio: 5.6937321388027', 'tion: 5.6937321388027', 'io: 5.6937321388027', 'ion: 5.6937321388027', 'on: 5.6937321388027', '▁se: 5.6937321388027', 'ho: 5.6937321388027', 'how: 5.6937321388027', 'ow: 5.6937321388027', 'era: 5.6937321388027', 'al: 5.6937321388027', 's.: 5.6937321388027', 'll: 5.6937321388027', 'an: 5.6937321388027', 'and: 5.6937321388027', 'ne: 5.6937321388027', '▁Hu: 6.386879319362645', '▁Hug: 6.386879319362645', '▁Hugg: 6.386879319362645', '▁Huggi: 6.386879319362645', '▁Huggin: 6.386879319362645', '▁Hugging: 6.386879319362645', 'Hu: 6.386879319362645', 'Hug: 6.386879319362645', 'Hugg: 6.386879319362645', 'Huggi: 6.386879319362645', 'Huggin: 6.386879319362645', 'Hugging: 6.386879319362645', 'ug: 6.386879319362645', 'ugg: 6.386879319362645', 'uggi: 6.386879319362645', 'uggin: 6.386879319362645', 'ugging: 6.386879319362645', 'gg: 6.386879319362645', 'ggi: 6.386879319362645', 'ggin: 6.386879319362645', 'gging: 6.386879319362645', 'gi: 6.386879319362645', 'gin: 6.386879319362645', 'ging: 6.386879319362645', 'ing: 6.386879319362645', 'ng: 6.386879319362645', '▁F: 6.386879319362645', '▁Fa: 6.386879319362645', '▁Fac: 6.386879319362645', '▁Face: 6.386879319362645', 'Fa: 6.386879319362645', 'Fac: 6.386879319362645', 'Face: 6.386879319362645', 'ac: 6.386879319362645', 'ace: 6.386879319362645', 'ce: 6.386879319362645', '▁C: 6.386879319362645', '▁Co: 6.386879319362645', '▁Cou: 6.386879319362645', '▁Cour: 6.386879319362645', '▁Cours: 6.386879319362645', '▁Course: 6.386879319362645', '▁Course.: 6.386879319362645', 'Co: 6.386879319362645', 'Cou: 6.386879319362645', 'Cour: 6.386879319362645', 'Cours: 6.386879319362645', 'Course: 6.386879319362645', 'Course.: 6.386879319362645', 'our: 6.386879319362645', 'ours: 6.386879319362645', 'ourse: 6.386879319362645', 'ourse.: 6.386879319362645', 'ur: 6.386879319362645', 'urs: 6.386879319362645', 'urse: 6.386879319362645', 'urse.: 6.386879319362645', 'rse: 6.386879319362645', 'rse.: 6.386879319362645', 'se.: 6.386879319362645', 'e.: 6.386879319362645', '▁c: 6.386879319362645', '▁ch: 6.386879319362645', '▁cha: 6.386879319362645', '▁chap: 6.386879319362645', '▁chapt: 6.386879319362645', '▁chapte: 6.386879319362645', '▁chapter: 6.386879319362645', 'ch: 6.386879319362645', 'cha: 6.386879319362645', 'chap: 6.386879319362645', 'chapt: 6.386879319362645', 'chapte: 6.386879319362645', 'chapter: 6.386879319362645', 'ha: 6.386879319362645', 'hap: 6.386879319362645', 'hapt: 6.386879319362645', 'hapte: 6.386879319362645', 'hapter: 6.386879319362645', 'ap: 6.386879319362645', 'apt: 6.386879319362645', 'apte: 6.386879319362645', 'apter: 6.386879319362645', 'pt: 6.386879319362645', 'pte: 6.386879319362645', 'pter: 6.386879319362645', 'ter: 6.386879319362645', '▁abo: 6.386879319362645', '▁abou: 6.386879319362645', '▁about: 6.386879319362645', 'abo: 6.386879319362645', 'abou: 6.386879319362645', 'about: 6.386879319362645', 'bo: 6.386879319362645', 'bou: 6.386879319362645', 'bout: 6.386879319362645', 'out: 6.386879319362645', 'ut: 6.386879319362645', '▁tokeniza: 6.386879319362645', '▁tokenizat: 6.386879319362645', '▁tokenizati: 6.386879319362645', '▁tokenizatio: 6.386879319362645', '▁tokenization: 6.386879319362645', '▁tokenization.: 6.386879319362645', 'tokeniza: 6.386879319362645', 'tokenizat: 6.386879319362645', 'tokenizati: 6.386879319362645', 'tokenizatio: 6.386879319362645', 'tokenization: 6.386879319362645', 'tokenization.: 6.386879319362645', 'okeniza: 6.386879319362645', 'okenizat: 6.386879319362645', 'okenizati: 6.386879319362645', 'okenizatio: 6.386879319362645', 'okenization: 6.386879319362645', 'okenization.: 6.386879319362645', 'keniza: 6.386879319362645', 'kenizat: 6.386879319362645', 'kenizati: 6.386879319362645', 'kenizatio: 6.386879319362645', 'kenization: 6.386879319362645', 'kenization.: 6.386879319362645', 'eniza: 6.386879319362645', 'enizat: 6.386879319362645', 'enizati: 6.386879319362645', 'enizatio: 6.386879319362645', 'enization: 6.386879319362645', 'enization.: 6.386879319362645', 'niza: 6.386879319362645', 'nizat: 6.386879319362645', 'nizati: 6.386879319362645', 'nizatio: 6.386879319362645', 'nization: 6.386879319362645', 'nization.: 6.386879319362645', 'iza: 6.386879319362645', 'izat: 6.386879319362645', 'izati: 6.386879319362645', 'izatio: 6.386879319362645', 'ization: 6.386879319362645', 'ization.: 6.386879319362645', 'za: 6.386879319362645', 'zat: 6.386879319362645', 'zati: 6.386879319362645', 'zatio: 6.386879319362645', 'zation: 6.386879319362645', 'zation.: 6.386879319362645', 'ati: 6.386879319362645', 'atio: 6.386879319362645', 'ation: 6.386879319362645', 'ation.: 6.386879319362645', 'tion.: 6.386879319362645', 'ion.: 6.386879319362645', 'on.: 6.386879319362645', 'n.: 6.386879319362645', '▁sec: 6.386879319362645', '▁sect: 6.386879319362645', '▁secti: 6.386879319362645', '▁sectio: 6.386879319362645', '▁section: 6.386879319362645', 'sec: 6.386879319362645', 'sect: 6.386879319362645', 'secti: 6.386879319362645', 'sectio: 6.386879319362645', 'section: 6.386879319362645', 'ec: 6.386879319362645', 'ect: 6.386879319362645', 'ecti: 6.386879319362645', 'ectio: 6.386879319362645', 'ection: 6.386879319362645', 'ct: 6.386879319362645', 'cti: 6.386879319362645', 'ctio: 6.386879319362645', 'ction: 6.386879319362645', '▁sh: 6.386879319362645', '▁sho: 6.386879319362645', '▁show: 6.386879319362645', '▁shows: 6.386879319362645', 'sh: 6.386879319362645', 'sho: 6.386879319362645', 'show: 6.386879319362645', 'shows: 6.386879319362645', 'hows: 6.386879319362645', 'ows: 6.386879319362645', 'ws: 6.386879319362645', '▁sev: 6.386879319362645', '▁seve: 6.386879319362645', '▁sever: 6.386879319362645', '▁severa: 6.386879319362645', '▁several: 6.386879319362645', 'sev: 6.386879319362645', 'seve: 6.386879319362645', 'sever: 6.386879319362645', 'severa: 6.386879319362645', 'several: 6.386879319362645']\n"
          ]
        }
      ]
    },
    {
      "cell_type": "markdown",
      "source": [
        "Hidden Markov models (HMM) <Br>\n",
        "![image.png](data:image/png;base64,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)\n",
        "\n",
        "**Viterbi**\n",
        "- normal on the first day\n",
        "  + (healthy): the actually healthy probability: healthy probability 0.6 × healthy-normal-probability 0.5 = 0.3\n",
        "  + (fever): the actually fever probability: fever probability 0.4 × fever-normal-probability 0.1 = 0.04 <Br>\n",
        "  => first day: 0.3 (healthy)\n",
        "\n",
        "- cold on the second day\n",
        "  + (healthy, healthy): the actually healthy probability: actually healthy probability 0.3 × healthy-healthy-probability 0.7 × healthy-cold-probability 0.4 = 0.084\n",
        "  + (healthy, fever): the actually healthy probability: actually healthy probability 0.3 × healthy-fever-probability 0.3 × fever-cold-probability 0.3 = 0.027  <Br>\n",
        "  => second day: 0.084 (healthy, healthy)\n",
        "\n",
        "- dizzy on the third day\n",
        "  + (healthy, healthy, healthy): actually healthy probability 0.084 × healthy-healthy-probability 0.7 × healthy-dizzy-probability 0.1 = 0.00588\n",
        "  + (healthy, healthy, fever): actually healthy probability 0.084 × healthy-fever-probability 0.3 × fever-dizzy-probability 0.6 = 0.01512 <Br>\n",
        "  => third day: 0.01512 (healthy, healthy, fever)\n",
        "\n",
        "\n",
        "\n",
        "\n",
        "\n",
        "\n",
        "\n",
        "\n",
        "\n",
        "\n",
        "\n"
      ],
      "metadata": {
        "id": "wyERwO4af09V"
      }
    },
    {
      "cell_type": "markdown",
      "source": [
        "Step 4: Based on the token-score dictionary find out the word's score, and split a given word into the best tokens (base characters and subwords) representing that word.\n",
        "<Br>\n",
        "  - Splitting a given word into all possible segmentation (tokens). The possible segmentation include a start position and an end position (at least 1 character). Ex: Hope: [H, o, p, e] => (1) H => H, Ho, Hop, Hope; (2) o => o, op, ope; (3) p => p, pe; (4) e => e.\n",
        "  - Based on token-score dictionary to find out the best segmentations represent that word. Ex: [H, o, pe]\n",
        "  - Accumulating score over all best segmentations (score(i) = score(i) + score(i-1)) and then score of the last segmentation represent score of that word. This score later will be used for next step."
      ],
      "metadata": {
        "id": "Jyq2oebic0So"
      }
    },
    {
      "cell_type": "code",
      "source": [
        "def encode_word(word, model):\n",
        "\n",
        "  #Indexes of best_segmentations represent the end position of the best segmentation\n",
        "  #that stores one dictionary includes the start position and the score of that best segmentation.\n",
        "  #So the first element is only used as an anchor.\n",
        "  best_segmentations = [{\"start\": 0, \"score\": 0}] + [{\"start\": None, \"score\": None} for _ in range(len(word))]\n",
        "\n",
        "  #Iterating over all possible segmentation to find out the best segmentations.\n",
        "  for start_idx in range(len(word)): #start position of a segmentation\n",
        "    #Score of a segmentation from start position to end position\n",
        "    best_score_at_start = best_segmentations[start_idx][\"score\"]\n",
        "    for end_idx in range(start_idx + 1, len(word) + 1): #end position of a segmentation\n",
        "      token = word[start_idx:end_idx]\n",
        "      #Only considering segmentation is in token-score dictionary (all characters & the best subwords in term of frequency)\n",
        "      #If not => unknow token with score is None\n",
        "      if token in model and best_score_at_start is not None:\n",
        "        #accumulate score over all best segmentations\n",
        "        score = model[token] + best_score_at_start\n",
        "        #only update info of the best segmentations (end position_(start position, segmentation score))\n",
        "        #if the best segmentation is not available or there is a better score\n",
        "        if (best_segmentations[end_idx][\"score\"] is None or best_segmentations[end_idx][\"score\"] > score):\n",
        "            best_segmentations[end_idx] = {\"start\": start_idx, \"score\": score}\n",
        "\n",
        "  #look back from the last segmentation in the best segmentation list\n",
        "  segmentation = best_segmentations[-1]\n",
        "  #accumulated score over all segmentions means score at the last segmentation represent score of given word\n",
        "  if segmentation[\"score\"] is None:\n",
        "    # We did not find a tokenization of the word -> unknown\n",
        "    return [\"<unk>\"], None\n",
        "  score = segmentation[\"score\"]\n",
        "  start = segmentation[\"start\"]\n",
        "  end = len(word)\n",
        "\n",
        "  #convert the best segmentations (end position_(start position, segmentation score))\n",
        "  #into the best tokens (base characters and subwords) representing that word\n",
        "  tokens = []\n",
        "  while start != 0:\n",
        "    tokens.insert(0, word[start:end])\n",
        "    #start position is new end position of a previous segmentation\n",
        "    #=> end position_(start position, segmentation score) => \"start\" ~ new start position of a previous segmentation\n",
        "    #update end position\n",
        "    end = start\n",
        "    #update start position\n",
        "    next_start = best_segmentations[start][\"start\"]\n",
        "    start = next_start\n",
        "  tokens.insert(0, word[start:end])\n",
        "  return tokens, score\n",
        "\n",
        "word = \"segmentation\"\n",
        "encode_word(word, model)"
      ],
      "metadata": {
        "colab": {
          "base_uri": "https://localhost:8080/"
        },
        "id": "yB2B7hHDfgUU",
        "outputId": "546220ed-b97c-4550-8fc7-909c130fbf6f"
      },
      "execution_count": null,
      "outputs": [
        {
          "output_type": "execute_result",
          "data": {
            "text/plain": [
              "(['se', 'g', 'm', 'en', 't', 'ation'], 31.58787402433851)"
            ]
          },
          "metadata": {},
          "execution_count": 13
        }
      ]
    },
    {
      "cell_type": "markdown",
      "source": [
        "Step 5: Iterate several times to find the best tokens (in case if remove them will be no/slight difference (loss) between the original vocabulary and removed given tokens' vocabulary). And then removing these tokens to reach the desired vocabulary size. <Br>\n",
        "  - Assuming that the training data consists of the words $x_{1}, \\dots, x_{N}$ and that the set of all possible tokenizations for a word $x_{i}$ is defined as $S(x_{i})$, then the overall loss is defined as $$\\mathcal{L} = -\\sum_{i=1}^{N} \\log \\left ( \\sum_{x \\in S(x_{i})} p(x) \\right )$$\n",
        "  - Comparing losses of original vocabulary and removed given token's vocabulary. The smaller loss score means there is no/slight difference between 2 losses (it will be the best token and can be removed from the vocabulary).\n",
        "  - Iterating several times to find the best tokens and removing these tokens to reach the desired vocabulary size.\n",
        "\n",
        "\n",
        "\n",
        "\n",
        "\n",
        "\n",
        "\n",
        "\n",
        "\n"
      ],
      "metadata": {
        "id": "lhWzQFJUdDoU"
      }
    },
    {
      "cell_type": "code",
      "source": [
        "def compute_loss(model):\n",
        "    loss = 0\n",
        "    for word, freq in word_freqs.items():\n",
        "        _, word_loss = encode_word(word, model)\n",
        "        #loss of vocabulary\n",
        "        loss += freq * word_loss\n",
        "    return loss\n",
        "\n",
        "import copy\n",
        "def compute_scores(model):\n",
        "    scores = {}\n",
        "    #Calculating loss of original vocabulary\n",
        "    model_loss = compute_loss(model)\n",
        "    for token, score in model.items():\n",
        "        # We always keep tokens of length 1\n",
        "        if len(token) == 1:\n",
        "            continue\n",
        "        model_without_token = copy.deepcopy(model)\n",
        "        _ = model_without_token.pop(token)\n",
        "        #Calculating loss score when deleting a given token\n",
        "        scores[token] = compute_loss(model_without_token) - model_loss\n",
        "    return scores\n",
        "\n",
        "percent_to_remove = 0.1\n",
        "while len(model) > 100:\n",
        "    scores = compute_scores(model)\n",
        "    sorted_scores = sorted(scores.items(), key=lambda x: x[1])\n",
        "    # Remove percent_to_remove tokens with the lowest scores.\n",
        "    for i in range(int(len(model) * percent_to_remove)):\n",
        "        _ = token_freqs.pop(sorted_scores[i][0])\n",
        "    #updating new vocabulary\n",
        "    total_sum = sum([freq for token, freq in token_freqs.items()])\n",
        "    model = {token: -log(freq / total_sum) for token, freq in token_freqs.items()}\n",
        "\n",
        "def tokenize(text, model):\n",
        "    words_with_offsets = tokenizer.backend_tokenizer.pre_tokenizer.pre_tokenize_str(text)\n",
        "    pre_tokenized_text = [word for word, offset in words_with_offsets]\n",
        "    encoded_words = [encode_word(word, model)[0] for word in pre_tokenized_text]\n",
        "    return sum(encoded_words, [])\n",
        "\n",
        "print(tokenize(\"This is the Hugging Face course.\", model))"
      ],
      "metadata": {
        "id": "_dW7JGaAYGkd",
        "colab": {
          "base_uri": "https://localhost:8080/"
        },
        "outputId": "3160b347-7d8c-4933-e27e-e6584987b129"
      },
      "execution_count": null,
      "outputs": [
        {
          "output_type": "stream",
          "name": "stdout",
          "text": [
            "['▁This', '▁is', '▁the', '▁Hugging', '▁Face', '▁', 'c', 'ou', 'r', 's', 'e', '.']\n"
          ]
        }
      ]
    }
  ]
}